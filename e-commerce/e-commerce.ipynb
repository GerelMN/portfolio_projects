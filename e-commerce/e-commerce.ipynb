{
 "cells": [
  {
   "cell_type": "markdown",
   "id": "736ab870",
   "metadata": {},
   "source": [
    "# Проект e-commerce"
   ]
  },
  {
   "cell_type": "markdown",
   "id": "2000110b",
   "metadata": {},
   "source": [
    "## Содержание:\n",
    "\n",
    "[Предварительный анализ](#Предварительное-исследование-данных:) \n",
    "1. [Пользователи, совершившие покупку только один раз](#1.-Количество-пользователей,-совершивших-покупку-только-один-раз) \n",
    "\n",
    "2. [Среднее количество недоставленных заказов за месяц с детализацией по причинам](#2.-Сколько-заказов-в-месяц-в-среднем-не-доставляется-по-разным-причинам-(детализация-по-причинам))\n",
    "\n",
    "3. [Дни недели самых активных продаж по каждому товару.](#3.-В-какой-день-недели-каждый-вид-товара-чаще-всего-покупается.)\n",
    "\n",
    "4. [Среднее количество покупок в неделю (по месяцам) у каждого из пользователей.](#4.-Сколько-у-каждого-из-пользователей-в-среднем-покупок-в-неделю-(по-месяцам))\n",
    "\n",
    "5. [Когортный анализ пользователей с января по декабрь. Определение когорты с самым высоким retention на 3й месяц.](#5.-Когортный-анализ-пользователей-с-января-по-декабрь.-Определение-когорты-с-самым-высоким-retention-на-3й-месяц)\n",
    "\n",
    "6. [RFM-сегментация пользователей](#6.-RFM-сегментация-пользователей,-для-качественной-оценки-аудитории)"
   ]
  },
  {
   "cell_type": "code",
   "execution_count": 1,
   "id": "4bb51a51",
   "metadata": {},
   "outputs": [],
   "source": [
    "# Импорт библиотек\n",
    "import pandas as pd\n",
    "import numpy as np\n",
    "import matplotlib.pyplot as plt\n",
    "import seaborn as sns\n",
    "import datetime as dt\n",
    "import warnings\n",
    "warnings.simplefilter(action='ignore', category=FutureWarning)\n",
    "pd.options.mode.chained_assignment = None"
   ]
  },
  {
   "cell_type": "markdown",
   "id": "f1e16896",
   "metadata": {},
   "source": [
    "**Загрузка датасетов** \n",
    "\n",
    "`customers` - таблица с уникальными идентификаторами пользователей\n",
    "\n",
    "* customer_id — позаказный идентификатор пользователя\n",
    "\n",
    "* customer_unique_id —  уникальный идентификатор пользователя  (аналог номера паспорта)\n",
    "\n",
    "* customer_zip_code_prefix —  почтовый индекс пользователя\n",
    "\n",
    "* customer_city —  город доставки пользователя\n",
    "\n",
    "* customer_state —  штат доставки пользователя"
   ]
  },
  {
   "cell_type": "code",
   "execution_count": 2,
   "id": "10c32d7d",
   "metadata": {},
   "outputs": [
    {
     "data": {
      "text/html": [
       "<div>\n",
       "<style scoped>\n",
       "    .dataframe tbody tr th:only-of-type {\n",
       "        vertical-align: middle;\n",
       "    }\n",
       "\n",
       "    .dataframe tbody tr th {\n",
       "        vertical-align: top;\n",
       "    }\n",
       "\n",
       "    .dataframe thead th {\n",
       "        text-align: right;\n",
       "    }\n",
       "</style>\n",
       "<table border=\"1\" class=\"dataframe\">\n",
       "  <thead>\n",
       "    <tr style=\"text-align: right;\">\n",
       "      <th></th>\n",
       "      <th>customer_id</th>\n",
       "      <th>customer_unique_id</th>\n",
       "      <th>customer_zip_code_prefix</th>\n",
       "      <th>customer_city</th>\n",
       "      <th>customer_state</th>\n",
       "    </tr>\n",
       "  </thead>\n",
       "  <tbody>\n",
       "    <tr>\n",
       "      <th>0</th>\n",
       "      <td>06b8999e2fba1a1fbc88172c00ba8bc7</td>\n",
       "      <td>861eff4711a542e4b93843c6dd7febb0</td>\n",
       "      <td>14409</td>\n",
       "      <td>franca</td>\n",
       "      <td>SP</td>\n",
       "    </tr>\n",
       "    <tr>\n",
       "      <th>1</th>\n",
       "      <td>18955e83d337fd6b2def6b18a428ac77</td>\n",
       "      <td>290c77bc529b7ac935b93aa66c333dc3</td>\n",
       "      <td>9790</td>\n",
       "      <td>sao bernardo do campo</td>\n",
       "      <td>SP</td>\n",
       "    </tr>\n",
       "    <tr>\n",
       "      <th>2</th>\n",
       "      <td>4e7b3e00288586ebd08712fdd0374a03</td>\n",
       "      <td>060e732b5b29e8181a18229c7b0b2b5e</td>\n",
       "      <td>1151</td>\n",
       "      <td>sao paulo</td>\n",
       "      <td>SP</td>\n",
       "    </tr>\n",
       "    <tr>\n",
       "      <th>3</th>\n",
       "      <td>b2b6027bc5c5109e529d4dc6358b12c3</td>\n",
       "      <td>259dac757896d24d7702b9acbbff3f3c</td>\n",
       "      <td>8775</td>\n",
       "      <td>mogi das cruzes</td>\n",
       "      <td>SP</td>\n",
       "    </tr>\n",
       "    <tr>\n",
       "      <th>4</th>\n",
       "      <td>4f2d8ab171c80ec8364f7c12e35b23ad</td>\n",
       "      <td>345ecd01c38d18a9036ed96c73b8d066</td>\n",
       "      <td>13056</td>\n",
       "      <td>campinas</td>\n",
       "      <td>SP</td>\n",
       "    </tr>\n",
       "  </tbody>\n",
       "</table>\n",
       "</div>"
      ],
      "text/plain": [
       "                        customer_id                customer_unique_id  \\\n",
       "0  06b8999e2fba1a1fbc88172c00ba8bc7  861eff4711a542e4b93843c6dd7febb0   \n",
       "1  18955e83d337fd6b2def6b18a428ac77  290c77bc529b7ac935b93aa66c333dc3   \n",
       "2  4e7b3e00288586ebd08712fdd0374a03  060e732b5b29e8181a18229c7b0b2b5e   \n",
       "3  b2b6027bc5c5109e529d4dc6358b12c3  259dac757896d24d7702b9acbbff3f3c   \n",
       "4  4f2d8ab171c80ec8364f7c12e35b23ad  345ecd01c38d18a9036ed96c73b8d066   \n",
       "\n",
       "   customer_zip_code_prefix          customer_city customer_state  \n",
       "0                     14409                 franca             SP  \n",
       "1                      9790  sao bernardo do campo             SP  \n",
       "2                      1151              sao paulo             SP  \n",
       "3                      8775        mogi das cruzes             SP  \n",
       "4                     13056               campinas             SP  "
      ]
     },
     "execution_count": 2,
     "metadata": {},
     "output_type": "execute_result"
    }
   ],
   "source": [
    "customers = pd.read_csv('https://raw.githubusercontent.com/GerelMN/portfolio_projects/main/e-commerce/olist_customers_dataset.csv')\n",
    "customers.head()"
   ]
  },
  {
   "cell_type": "markdown",
   "id": "df1255da",
   "metadata": {},
   "source": [
    "`orders` - таблица заказов\n",
    "\n",
    "* order_id —  уникальный идентификатор заказа (номер чека)\n",
    "* customer_id —  позаказный идентификатор пользователя\n",
    "* order_status —  статус заказа\n",
    "* order_purchase_timestamp —  время создания заказа\n",
    "* order_approved_at —  время подтверждения оплаты заказа\n",
    "* order_delivered_carrier_date —  время передачи заказа в логистическую службу\n",
    "* order_delivered_customer_date —  время доставки заказа\n",
    "* order_estimated_delivery_date —  обещанная дата доставки"
   ]
  },
  {
   "cell_type": "code",
   "execution_count": 3,
   "id": "e5dfb5c4",
   "metadata": {},
   "outputs": [
    {
     "data": {
      "text/html": [
       "<div>\n",
       "<style scoped>\n",
       "    .dataframe tbody tr th:only-of-type {\n",
       "        vertical-align: middle;\n",
       "    }\n",
       "\n",
       "    .dataframe tbody tr th {\n",
       "        vertical-align: top;\n",
       "    }\n",
       "\n",
       "    .dataframe thead th {\n",
       "        text-align: right;\n",
       "    }\n",
       "</style>\n",
       "<table border=\"1\" class=\"dataframe\">\n",
       "  <thead>\n",
       "    <tr style=\"text-align: right;\">\n",
       "      <th></th>\n",
       "      <th>order_id</th>\n",
       "      <th>customer_id</th>\n",
       "      <th>order_status</th>\n",
       "      <th>order_purchase_timestamp</th>\n",
       "      <th>order_approved_at</th>\n",
       "      <th>order_delivered_carrier_date</th>\n",
       "      <th>order_delivered_customer_date</th>\n",
       "      <th>order_estimated_delivery_date</th>\n",
       "    </tr>\n",
       "  </thead>\n",
       "  <tbody>\n",
       "    <tr>\n",
       "      <th>0</th>\n",
       "      <td>e481f51cbdc54678b7cc49136f2d6af7</td>\n",
       "      <td>9ef432eb6251297304e76186b10a928d</td>\n",
       "      <td>delivered</td>\n",
       "      <td>2017-10-02 10:56:33</td>\n",
       "      <td>2017-10-02 11:07:15</td>\n",
       "      <td>2017-10-04 19:55:00</td>\n",
       "      <td>2017-10-10 21:25:13</td>\n",
       "      <td>2017-10-18</td>\n",
       "    </tr>\n",
       "    <tr>\n",
       "      <th>1</th>\n",
       "      <td>53cdb2fc8bc7dce0b6741e2150273451</td>\n",
       "      <td>b0830fb4747a6c6d20dea0b8c802d7ef</td>\n",
       "      <td>delivered</td>\n",
       "      <td>2018-07-24 20:41:37</td>\n",
       "      <td>2018-07-26 03:24:27</td>\n",
       "      <td>2018-07-26 14:31:00</td>\n",
       "      <td>2018-08-07 15:27:45</td>\n",
       "      <td>2018-08-13</td>\n",
       "    </tr>\n",
       "    <tr>\n",
       "      <th>2</th>\n",
       "      <td>47770eb9100c2d0c44946d9cf07ec65d</td>\n",
       "      <td>41ce2a54c0b03bf3443c3d931a367089</td>\n",
       "      <td>delivered</td>\n",
       "      <td>2018-08-08 08:38:49</td>\n",
       "      <td>2018-08-08 08:55:23</td>\n",
       "      <td>2018-08-08 13:50:00</td>\n",
       "      <td>2018-08-17 18:06:29</td>\n",
       "      <td>2018-09-04</td>\n",
       "    </tr>\n",
       "    <tr>\n",
       "      <th>3</th>\n",
       "      <td>949d5b44dbf5de918fe9c16f97b45f8a</td>\n",
       "      <td>f88197465ea7920adcdbec7375364d82</td>\n",
       "      <td>delivered</td>\n",
       "      <td>2017-11-18 19:28:06</td>\n",
       "      <td>2017-11-18 19:45:59</td>\n",
       "      <td>2017-11-22 13:39:59</td>\n",
       "      <td>2017-12-02 00:28:42</td>\n",
       "      <td>2017-12-15</td>\n",
       "    </tr>\n",
       "    <tr>\n",
       "      <th>4</th>\n",
       "      <td>ad21c59c0840e6cb83a9ceb5573f8159</td>\n",
       "      <td>8ab97904e6daea8866dbdbc4fb7aad2c</td>\n",
       "      <td>delivered</td>\n",
       "      <td>2018-02-13 21:18:39</td>\n",
       "      <td>2018-02-13 22:20:29</td>\n",
       "      <td>2018-02-14 19:46:34</td>\n",
       "      <td>2018-02-16 18:17:02</td>\n",
       "      <td>2018-02-26</td>\n",
       "    </tr>\n",
       "  </tbody>\n",
       "</table>\n",
       "</div>"
      ],
      "text/plain": [
       "                           order_id                       customer_id  \\\n",
       "0  e481f51cbdc54678b7cc49136f2d6af7  9ef432eb6251297304e76186b10a928d   \n",
       "1  53cdb2fc8bc7dce0b6741e2150273451  b0830fb4747a6c6d20dea0b8c802d7ef   \n",
       "2  47770eb9100c2d0c44946d9cf07ec65d  41ce2a54c0b03bf3443c3d931a367089   \n",
       "3  949d5b44dbf5de918fe9c16f97b45f8a  f88197465ea7920adcdbec7375364d82   \n",
       "4  ad21c59c0840e6cb83a9ceb5573f8159  8ab97904e6daea8866dbdbc4fb7aad2c   \n",
       "\n",
       "  order_status order_purchase_timestamp   order_approved_at  \\\n",
       "0    delivered      2017-10-02 10:56:33 2017-10-02 11:07:15   \n",
       "1    delivered      2018-07-24 20:41:37 2018-07-26 03:24:27   \n",
       "2    delivered      2018-08-08 08:38:49 2018-08-08 08:55:23   \n",
       "3    delivered      2017-11-18 19:28:06 2017-11-18 19:45:59   \n",
       "4    delivered      2018-02-13 21:18:39 2018-02-13 22:20:29   \n",
       "\n",
       "  order_delivered_carrier_date order_delivered_customer_date  \\\n",
       "0          2017-10-04 19:55:00           2017-10-10 21:25:13   \n",
       "1          2018-07-26 14:31:00           2018-08-07 15:27:45   \n",
       "2          2018-08-08 13:50:00           2018-08-17 18:06:29   \n",
       "3          2017-11-22 13:39:59           2017-12-02 00:28:42   \n",
       "4          2018-02-14 19:46:34           2018-02-16 18:17:02   \n",
       "\n",
       "  order_estimated_delivery_date  \n",
       "0                    2017-10-18  \n",
       "1                    2018-08-13  \n",
       "2                    2018-09-04  \n",
       "3                    2017-12-15  \n",
       "4                    2018-02-26  "
      ]
     },
     "execution_count": 3,
     "metadata": {},
     "output_type": "execute_result"
    }
   ],
   "source": [
    "orders = pd.read_csv('https://raw.githubusercontent.com/GerelMN/portfolio_projects/main/e-commerce/olist_orders_dataset.csv', parse_dates=['order_purchase_timestamp', 'order_approved_at', 'order_delivered_carrier_date', 'order_delivered_customer_date', 'order_estimated_delivery_date'])\n",
    "orders.head()"
   ]
  },
  {
   "cell_type": "markdown",
   "id": "d6dd2efc",
   "metadata": {},
   "source": [
    "`items` - товарные позиции, входящие в заказы\n",
    "\n",
    "* order_id —  уникальный идентификатор заказа (номер чека)\n",
    "* order_item_id —  идентификатор товара внутри одного заказа\n",
    "* product_id —  ид товара (аналог штрихкода)\n",
    "* seller_id — ид производителя товара\n",
    "* shipping_limit_date —  максимальная дата доставки продавцом для передачи заказа партнеру по логистике\n",
    "* price —  цена за единицу товара\n",
    "* freight_value —  вес товара"
   ]
  },
  {
   "cell_type": "code",
   "execution_count": 4,
   "id": "9a0be3eb",
   "metadata": {},
   "outputs": [
    {
     "data": {
      "text/html": [
       "<div>\n",
       "<style scoped>\n",
       "    .dataframe tbody tr th:only-of-type {\n",
       "        vertical-align: middle;\n",
       "    }\n",
       "\n",
       "    .dataframe tbody tr th {\n",
       "        vertical-align: top;\n",
       "    }\n",
       "\n",
       "    .dataframe thead th {\n",
       "        text-align: right;\n",
       "    }\n",
       "</style>\n",
       "<table border=\"1\" class=\"dataframe\">\n",
       "  <thead>\n",
       "    <tr style=\"text-align: right;\">\n",
       "      <th></th>\n",
       "      <th>order_id</th>\n",
       "      <th>order_item_id</th>\n",
       "      <th>product_id</th>\n",
       "      <th>seller_id</th>\n",
       "      <th>shipping_limit_date</th>\n",
       "      <th>price</th>\n",
       "      <th>freight_value</th>\n",
       "    </tr>\n",
       "  </thead>\n",
       "  <tbody>\n",
       "    <tr>\n",
       "      <th>0</th>\n",
       "      <td>00010242fe8c5a6d1ba2dd792cb16214</td>\n",
       "      <td>1</td>\n",
       "      <td>4244733e06e7ecb4970a6e2683c13e61</td>\n",
       "      <td>48436dade18ac8b2bce089ec2a041202</td>\n",
       "      <td>2017-09-19 09:45:35</td>\n",
       "      <td>58.90</td>\n",
       "      <td>13.29</td>\n",
       "    </tr>\n",
       "    <tr>\n",
       "      <th>1</th>\n",
       "      <td>00018f77f2f0320c557190d7a144bdd3</td>\n",
       "      <td>1</td>\n",
       "      <td>e5f2d52b802189ee658865ca93d83a8f</td>\n",
       "      <td>dd7ddc04e1b6c2c614352b383efe2d36</td>\n",
       "      <td>2017-05-03 11:05:13</td>\n",
       "      <td>239.90</td>\n",
       "      <td>19.93</td>\n",
       "    </tr>\n",
       "    <tr>\n",
       "      <th>2</th>\n",
       "      <td>000229ec398224ef6ca0657da4fc703e</td>\n",
       "      <td>1</td>\n",
       "      <td>c777355d18b72b67abbeef9df44fd0fd</td>\n",
       "      <td>5b51032eddd242adc84c38acab88f23d</td>\n",
       "      <td>2018-01-18 14:48:30</td>\n",
       "      <td>199.00</td>\n",
       "      <td>17.87</td>\n",
       "    </tr>\n",
       "    <tr>\n",
       "      <th>3</th>\n",
       "      <td>00024acbcdf0a6daa1e931b038114c75</td>\n",
       "      <td>1</td>\n",
       "      <td>7634da152a4610f1595efa32f14722fc</td>\n",
       "      <td>9d7a1d34a5052409006425275ba1c2b4</td>\n",
       "      <td>2018-08-15 10:10:18</td>\n",
       "      <td>12.99</td>\n",
       "      <td>12.79</td>\n",
       "    </tr>\n",
       "    <tr>\n",
       "      <th>4</th>\n",
       "      <td>00042b26cf59d7ce69dfabb4e55b4fd9</td>\n",
       "      <td>1</td>\n",
       "      <td>ac6c3623068f30de03045865e4e10089</td>\n",
       "      <td>df560393f3a51e74553ab94004ba5c87</td>\n",
       "      <td>2017-02-13 13:57:51</td>\n",
       "      <td>199.90</td>\n",
       "      <td>18.14</td>\n",
       "    </tr>\n",
       "  </tbody>\n",
       "</table>\n",
       "</div>"
      ],
      "text/plain": [
       "                           order_id  order_item_id  \\\n",
       "0  00010242fe8c5a6d1ba2dd792cb16214              1   \n",
       "1  00018f77f2f0320c557190d7a144bdd3              1   \n",
       "2  000229ec398224ef6ca0657da4fc703e              1   \n",
       "3  00024acbcdf0a6daa1e931b038114c75              1   \n",
       "4  00042b26cf59d7ce69dfabb4e55b4fd9              1   \n",
       "\n",
       "                         product_id                         seller_id  \\\n",
       "0  4244733e06e7ecb4970a6e2683c13e61  48436dade18ac8b2bce089ec2a041202   \n",
       "1  e5f2d52b802189ee658865ca93d83a8f  dd7ddc04e1b6c2c614352b383efe2d36   \n",
       "2  c777355d18b72b67abbeef9df44fd0fd  5b51032eddd242adc84c38acab88f23d   \n",
       "3  7634da152a4610f1595efa32f14722fc  9d7a1d34a5052409006425275ba1c2b4   \n",
       "4  ac6c3623068f30de03045865e4e10089  df560393f3a51e74553ab94004ba5c87   \n",
       "\n",
       "   shipping_limit_date   price  freight_value  \n",
       "0  2017-09-19 09:45:35   58.90          13.29  \n",
       "1  2017-05-03 11:05:13  239.90          19.93  \n",
       "2  2018-01-18 14:48:30  199.00          17.87  \n",
       "3  2018-08-15 10:10:18   12.99          12.79  \n",
       "4  2017-02-13 13:57:51  199.90          18.14  "
      ]
     },
     "execution_count": 4,
     "metadata": {},
     "output_type": "execute_result"
    }
   ],
   "source": [
    "items = pd.read_csv('https://raw.githubusercontent.com/GerelMN/portfolio_projects/main/e-commerce/olist_order_items_dataset.csv')\n",
    "items.head()"
   ]
  },
  {
   "cell_type": "markdown",
   "id": "a3426533",
   "metadata": {},
   "source": [
    "# Предварительное исследование данных:"
   ]
  },
  {
   "cell_type": "markdown",
   "id": "3eb979ba",
   "metadata": {},
   "source": [
    "**Проверка на пропущенные значения и уникальность**"
   ]
  },
  {
   "cell_type": "code",
   "execution_count": 5,
   "id": "d87663b3",
   "metadata": {},
   "outputs": [
    {
     "name": "stdout",
     "output_type": "stream",
     "text": [
      "<class 'pandas.core.frame.DataFrame'>\n",
      "RangeIndex: 99441 entries, 0 to 99440\n",
      "Data columns (total 5 columns):\n",
      " #   Column                    Non-Null Count  Dtype \n",
      "---  ------                    --------------  ----- \n",
      " 0   customer_id               99441 non-null  object\n",
      " 1   customer_unique_id        99441 non-null  object\n",
      " 2   customer_zip_code_prefix  99441 non-null  int64 \n",
      " 3   customer_city             99441 non-null  object\n",
      " 4   customer_state            99441 non-null  object\n",
      "dtypes: int64(1), object(4)\n",
      "memory usage: 3.8+ MB\n",
      "\u001b[1m\n",
      " 96096 уникальных пользователей в таб. \"customers\"\n",
      "99441 уникальных позаказных идентификаторов пользователей в таб.\"customers\"\u001b[0m\n"
     ]
    }
   ],
   "source": [
    "customers.info()\n",
    "print('\\033[1m' + '\\n', customers['customer_unique_id'].nunique(), 'уникальных пользователей в таб. \"customers\"')\n",
    "print(customers['customer_id'].nunique(), 'уникальных позаказных идентификаторов пользователей в таб.\"customers\"' + '\\033[0m')"
   ]
  },
  {
   "cell_type": "code",
   "execution_count": 6,
   "id": "348277c6",
   "metadata": {},
   "outputs": [
    {
     "name": "stdout",
     "output_type": "stream",
     "text": [
      "<class 'pandas.core.frame.DataFrame'>\n",
      "RangeIndex: 112650 entries, 0 to 112649\n",
      "Data columns (total 7 columns):\n",
      " #   Column               Non-Null Count   Dtype  \n",
      "---  ------               --------------   -----  \n",
      " 0   order_id             112650 non-null  object \n",
      " 1   order_item_id        112650 non-null  int64  \n",
      " 2   product_id           112650 non-null  object \n",
      " 3   seller_id            112650 non-null  object \n",
      " 4   shipping_limit_date  112650 non-null  object \n",
      " 5   price                112650 non-null  float64\n",
      " 6   freight_value        112650 non-null  float64\n",
      "dtypes: float64(2), int64(1), object(4)\n",
      "memory usage: 6.0+ MB\n",
      "\u001b[1m\n",
      " 98666 уникальных идентификаторов заказов в таб. \"items\"\n",
      "32951 уникальных идентификаторов товаров в таб. \"items\"\n",
      "3095 уникальных идентификаторов продавцов в таб. \"items\"\u001b[0m\n"
     ]
    }
   ],
   "source": [
    "items.info()\n",
    "print('\\033[1m' + '\\n', items['order_id'].nunique(), 'уникальных идентификаторов заказов в таб. \"items\"')\n",
    "print(items['product_id'].nunique(), 'уникальных идентификаторов товаров в таб. \"items\"')\n",
    "print(items['seller_id'].nunique(), 'уникальных идентификаторов продавцов в таб. \"items\"' + '\\033[0m')"
   ]
  },
  {
   "cell_type": "code",
   "execution_count": 7,
   "id": "924981ad",
   "metadata": {},
   "outputs": [
    {
     "name": "stdout",
     "output_type": "stream",
     "text": [
      "<class 'pandas.core.frame.DataFrame'>\n",
      "RangeIndex: 99441 entries, 0 to 99440\n",
      "Data columns (total 8 columns):\n",
      " #   Column                         Non-Null Count  Dtype         \n",
      "---  ------                         --------------  -----         \n",
      " 0   order_id                       99441 non-null  object        \n",
      " 1   customer_id                    99441 non-null  object        \n",
      " 2   order_status                   99441 non-null  object        \n",
      " 3   order_purchase_timestamp       99441 non-null  datetime64[ns]\n",
      " 4   order_approved_at              99281 non-null  datetime64[ns]\n",
      " 5   order_delivered_carrier_date   97658 non-null  datetime64[ns]\n",
      " 6   order_delivered_customer_date  96476 non-null  datetime64[ns]\n",
      " 7   order_estimated_delivery_date  99441 non-null  datetime64[ns]\n",
      "dtypes: datetime64[ns](5), object(3)\n",
      "memory usage: 6.1+ MB\n",
      "\u001b[1m\n",
      " 99441 уникальных позаказных идентификаторов пользователей в таб. \"orders\"\n",
      "99441 уникальных идентификаторов заказов в таб.\"orders\"\u001b[0m\n"
     ]
    }
   ],
   "source": [
    "orders.info()\n",
    "print('\\033[1m' + '\\n', orders['customer_id'].nunique(), 'уникальных позаказных идентификаторов пользователей в таб. \"orders\"')\n",
    "print(orders['order_id'].nunique(), 'уникальных идентификаторов заказов в таб.\"orders\"' + '\\033[0m')"
   ]
  },
  {
   "cell_type": "markdown",
   "id": "d7ce5b4e",
   "metadata": {},
   "source": [
    "Пропущенные значения есть только в таблице заказов `orders` по трем колонкам с датами"
   ]
  },
  {
   "cell_type": "code",
   "execution_count": 8,
   "id": "49eebc50",
   "metadata": {},
   "outputs": [
    {
     "data": {
      "text/plain": [
       "order_id                            0\n",
       "customer_id                         0\n",
       "order_status                        0\n",
       "order_purchase_timestamp            0\n",
       "order_approved_at                 160\n",
       "order_delivered_carrier_date     1783\n",
       "order_delivered_customer_date    2965\n",
       "order_estimated_delivery_date       0\n",
       "dtype: int64"
      ]
     },
     "execution_count": 8,
     "metadata": {},
     "output_type": "execute_result"
    }
   ],
   "source": [
    "orders.isna().sum()"
   ]
  },
  {
   "cell_type": "markdown",
   "id": "09edf0e0",
   "metadata": {},
   "source": [
    "**Сопоставим данные о датах, имеющие пропущенные значения со статусами заказов**"
   ]
  },
  {
   "cell_type": "code",
   "execution_count": 9,
   "id": "7e81a975",
   "metadata": {},
   "outputs": [
    {
     "data": {
      "text/plain": [
       "delivered      96478\n",
       "shipped         1107\n",
       "canceled         625\n",
       "unavailable      609\n",
       "invoiced         314\n",
       "processing       301\n",
       "created            5\n",
       "approved           2\n",
       "Name: order_status, dtype: int64"
      ]
     },
     "execution_count": 9,
     "metadata": {},
     "output_type": "execute_result"
    }
   ],
   "source": [
    "orders['order_status'].value_counts()"
   ]
  },
  {
   "cell_type": "code",
   "execution_count": 10,
   "id": "23be3d45",
   "metadata": {},
   "outputs": [],
   "source": [
    "# Отберем пропущенные значения по колонкам с датами\n",
    "# Переведем булевые значения в целочисленный тип\n",
    "missing_dates = orders[['order_approved_at', 'order_delivered_carrier_date', 'order_delivered_customer_date']].isna().astype(int)\n",
    "# Объединим статусы заказов с даннными о пропущенных занчениях по колонкам дат\n",
    "status_missing_date = pd.concat([orders[['order_id', 'order_status']], missing_dates], axis=1)"
   ]
  },
  {
   "cell_type": "markdown",
   "id": "82459b03",
   "metadata": {},
   "source": [
    "Посчитаем количество пропущеных значений в колонках с датами в разрезе статусов заказов"
   ]
  },
  {
   "cell_type": "code",
   "execution_count": 11,
   "id": "5334cf5f",
   "metadata": {},
   "outputs": [
    {
     "data": {
      "text/html": [
       "<div>\n",
       "<style scoped>\n",
       "    .dataframe tbody tr th:only-of-type {\n",
       "        vertical-align: middle;\n",
       "    }\n",
       "\n",
       "    .dataframe tbody tr th {\n",
       "        vertical-align: top;\n",
       "    }\n",
       "\n",
       "    .dataframe thead th {\n",
       "        text-align: right;\n",
       "    }\n",
       "</style>\n",
       "<table border=\"1\" class=\"dataframe\">\n",
       "  <thead>\n",
       "    <tr style=\"text-align: right;\">\n",
       "      <th></th>\n",
       "      <th>order_status</th>\n",
       "      <th>order_approved_at</th>\n",
       "      <th>order_delivered_carrier_date</th>\n",
       "      <th>order_delivered_customer_date</th>\n",
       "    </tr>\n",
       "  </thead>\n",
       "  <tbody>\n",
       "    <tr>\n",
       "      <th>0</th>\n",
       "      <td>approved</td>\n",
       "      <td>0</td>\n",
       "      <td>2</td>\n",
       "      <td>2</td>\n",
       "    </tr>\n",
       "    <tr>\n",
       "      <th>1</th>\n",
       "      <td>canceled</td>\n",
       "      <td>141</td>\n",
       "      <td>550</td>\n",
       "      <td>619</td>\n",
       "    </tr>\n",
       "    <tr>\n",
       "      <th>2</th>\n",
       "      <td>created</td>\n",
       "      <td>5</td>\n",
       "      <td>5</td>\n",
       "      <td>5</td>\n",
       "    </tr>\n",
       "    <tr>\n",
       "      <th>3</th>\n",
       "      <td>delivered</td>\n",
       "      <td>14</td>\n",
       "      <td>2</td>\n",
       "      <td>8</td>\n",
       "    </tr>\n",
       "    <tr>\n",
       "      <th>4</th>\n",
       "      <td>invoiced</td>\n",
       "      <td>0</td>\n",
       "      <td>314</td>\n",
       "      <td>314</td>\n",
       "    </tr>\n",
       "    <tr>\n",
       "      <th>5</th>\n",
       "      <td>processing</td>\n",
       "      <td>0</td>\n",
       "      <td>301</td>\n",
       "      <td>301</td>\n",
       "    </tr>\n",
       "    <tr>\n",
       "      <th>6</th>\n",
       "      <td>shipped</td>\n",
       "      <td>0</td>\n",
       "      <td>0</td>\n",
       "      <td>1107</td>\n",
       "    </tr>\n",
       "    <tr>\n",
       "      <th>7</th>\n",
       "      <td>unavailable</td>\n",
       "      <td>0</td>\n",
       "      <td>609</td>\n",
       "      <td>609</td>\n",
       "    </tr>\n",
       "  </tbody>\n",
       "</table>\n",
       "</div>"
      ],
      "text/plain": [
       "  order_status  order_approved_at  order_delivered_carrier_date  \\\n",
       "0     approved                  0                             2   \n",
       "1     canceled                141                           550   \n",
       "2      created                  5                             5   \n",
       "3    delivered                 14                             2   \n",
       "4     invoiced                  0                           314   \n",
       "5   processing                  0                           301   \n",
       "6      shipped                  0                             0   \n",
       "7  unavailable                  0                           609   \n",
       "\n",
       "   order_delivered_customer_date  \n",
       "0                              2  \n",
       "1                            619  \n",
       "2                              5  \n",
       "3                              8  \n",
       "4                            314  \n",
       "5                            301  \n",
       "6                           1107  \n",
       "7                            609  "
      ]
     },
     "execution_count": 11,
     "metadata": {},
     "output_type": "execute_result"
    }
   ],
   "source": [
    "status_missing_date.groupby('order_status', as_index=False)['order_approved_at', 'order_delivered_carrier_date', 'order_delivered_customer_date'].sum()"
   ]
  },
  {
   "cell_type": "markdown",
   "id": "37cceca0",
   "metadata": {},
   "source": [
    "**Сравним количество уникальных идентификаторов в трех таблицах:**\n",
    " 1. Количество уникальных customer_unique_id меньше уникальных позаказных customer_id в таблице `customers`, значит есть покупатели сделавшие больше одного заказа \n",
    " 2. Количество позаказных customer_id в таблице `customers` совпадает с количеством уникальных order_id в таблице `orders`, эти две колонки равноценны по предствляемой ими информации. Общее количество зарегистрированных заказов - 99441 \n",
    " 3. Количество уникальных order_id в таблице `items` меньше чем в таблице `orders` на 775 заказов. \n",
    " 4. Количество уникальных заказов превышает количество уникальных номеров товаров и продавцов в таблице `items`, следовательно есть товары, которые были проданы множетсво раз и есть продавцы совершившие более одной продажи   "
   ]
  },
  {
   "cell_type": "markdown",
   "id": "26caf262",
   "metadata": {},
   "source": [
    "Проверка заказов, которые есть в таблице `orders` ,но отсутствуют в таблице `items`"
   ]
  },
  {
   "cell_type": "code",
   "execution_count": 12,
   "id": "1953a21b",
   "metadata": {},
   "outputs": [
    {
     "data": {
      "text/plain": [
       "775"
      ]
     },
     "execution_count": 12,
     "metadata": {},
     "output_type": "execute_result"
    }
   ],
   "source": [
    "# В orders создадим колонку-идентификатор наличия заказа в таблице items\n",
    "orders['in_items'] = (orders.order_id.isin(items.order_id).astype(int))\n",
    "# отфильтруем 775 заказов, которых нет\n",
    "not_in_items = orders.query('in_items==0')\n",
    "# проверка\n",
    "len(not_in_items)"
   ]
  },
  {
   "cell_type": "code",
   "execution_count": 13,
   "id": "69f67986",
   "metadata": {},
   "outputs": [
    {
     "data": {
      "text/plain": [
       "unavailable    603\n",
       "canceled       164\n",
       "created          5\n",
       "invoiced         2\n",
       "shipped          1\n",
       "Name: order_status, dtype: int64"
      ]
     },
     "execution_count": 13,
     "metadata": {},
     "output_type": "execute_result"
    }
   ],
   "source": [
    "# статусы заказов, отсутствующих в items\n",
    "not_in_items['order_status'].value_counts()"
   ]
  },
  {
   "cell_type": "markdown",
   "id": "e104749b",
   "metadata": {},
   "source": [
    "В таблице `items` отсутствуют 603 из общих 609 заказов со статусом `\"unavailable\"`, из чего можно предположить, что статус \n",
    "`\"unavailable\"` присваивается тем заказам, товары в которых отсутсвуют в ассортименте магазина на данный момент (возможно нет соответствующего `produсt_id` в таблице `items`, поэтому `order_id` в `items` не попал, а в `orders` такому заказу был  присвоен статус `\"unavailable\"`)"
   ]
  },
  {
   "cell_type": "code",
   "execution_count": 14,
   "id": "03ed42d8",
   "metadata": {},
   "outputs": [
    {
     "data": {
      "text/html": [
       "<div>\n",
       "<style scoped>\n",
       "    .dataframe tbody tr th:only-of-type {\n",
       "        vertical-align: middle;\n",
       "    }\n",
       "\n",
       "    .dataframe tbody tr th {\n",
       "        vertical-align: top;\n",
       "    }\n",
       "\n",
       "    .dataframe thead th {\n",
       "        text-align: right;\n",
       "    }\n",
       "</style>\n",
       "<table border=\"1\" class=\"dataframe\">\n",
       "  <thead>\n",
       "    <tr style=\"text-align: right;\">\n",
       "      <th></th>\n",
       "      <th>order_id</th>\n",
       "      <th>customer_id</th>\n",
       "      <th>order_status</th>\n",
       "      <th>order_purchase_timestamp</th>\n",
       "      <th>order_approved_at</th>\n",
       "      <th>order_delivered_carrier_date</th>\n",
       "      <th>order_delivered_customer_date</th>\n",
       "      <th>order_estimated_delivery_date</th>\n",
       "      <th>in_items</th>\n",
       "    </tr>\n",
       "  </thead>\n",
       "  <tbody>\n",
       "    <tr>\n",
       "      <th>33157</th>\n",
       "      <td>dc18a044b56ed174037ca164cdf2e921</td>\n",
       "      <td>4a06381959b6670756de02e07b83815f</td>\n",
       "      <td>unavailable</td>\n",
       "      <td>2016-10-05 14:16:28</td>\n",
       "      <td>2016-10-06 15:56:49</td>\n",
       "      <td>NaT</td>\n",
       "      <td>NaT</td>\n",
       "      <td>2016-11-29</td>\n",
       "      <td>1</td>\n",
       "    </tr>\n",
       "    <tr>\n",
       "      <th>50731</th>\n",
       "      <td>4dd47e84e6b8ff4a63d0b8425e6d788e</td>\n",
       "      <td>96bbcbc8372c86da857d842dfda6bd72</td>\n",
       "      <td>unavailable</td>\n",
       "      <td>2016-10-06 23:49:18</td>\n",
       "      <td>2016-10-07 01:09:08</td>\n",
       "      <td>NaT</td>\n",
       "      <td>NaT</td>\n",
       "      <td>2016-11-24</td>\n",
       "      <td>1</td>\n",
       "    </tr>\n",
       "    <tr>\n",
       "      <th>60805</th>\n",
       "      <td>3c3ca08854ca922fe8e9cedfd6841c8a</td>\n",
       "      <td>88c36fbd3df96094f90f0315e1d2dd90</td>\n",
       "      <td>unavailable</td>\n",
       "      <td>2016-10-08 12:13:38</td>\n",
       "      <td>2016-10-08 13:21:35</td>\n",
       "      <td>NaT</td>\n",
       "      <td>NaT</td>\n",
       "      <td>2016-11-30</td>\n",
       "      <td>1</td>\n",
       "    </tr>\n",
       "    <tr>\n",
       "      <th>62504</th>\n",
       "      <td>54bb06e1ca86bd99ee2a8d6288bf4ede</td>\n",
       "      <td>98bfbf477ed9f40a0264f5e527a446be</td>\n",
       "      <td>unavailable</td>\n",
       "      <td>2016-10-06 13:38:39</td>\n",
       "      <td>2016-10-06 14:22:19</td>\n",
       "      <td>NaT</td>\n",
       "      <td>NaT</td>\n",
       "      <td>2016-12-12</td>\n",
       "      <td>1</td>\n",
       "    </tr>\n",
       "    <tr>\n",
       "      <th>79275</th>\n",
       "      <td>1a47da1d66c70489c8e35fe2b5433ab7</td>\n",
       "      <td>3d8e326c3cef3a9bba7ca121baac5fc3</td>\n",
       "      <td>unavailable</td>\n",
       "      <td>2016-10-07 18:16:31</td>\n",
       "      <td>2016-10-07 18:53:48</td>\n",
       "      <td>NaT</td>\n",
       "      <td>NaT</td>\n",
       "      <td>2016-12-07</td>\n",
       "      <td>1</td>\n",
       "    </tr>\n",
       "    <tr>\n",
       "      <th>83645</th>\n",
       "      <td>2fd1c83dd4714cf3cf796fffb6c8de62</td>\n",
       "      <td>7f51c513004ef3f35e834c142f286778</td>\n",
       "      <td>unavailable</td>\n",
       "      <td>2016-10-05 17:21:29</td>\n",
       "      <td>2016-10-06 15:55:40</td>\n",
       "      <td>NaT</td>\n",
       "      <td>NaT</td>\n",
       "      <td>2016-11-29</td>\n",
       "      <td>1</td>\n",
       "    </tr>\n",
       "  </tbody>\n",
       "</table>\n",
       "</div>"
      ],
      "text/plain": [
       "                               order_id                       customer_id  \\\n",
       "33157  dc18a044b56ed174037ca164cdf2e921  4a06381959b6670756de02e07b83815f   \n",
       "50731  4dd47e84e6b8ff4a63d0b8425e6d788e  96bbcbc8372c86da857d842dfda6bd72   \n",
       "60805  3c3ca08854ca922fe8e9cedfd6841c8a  88c36fbd3df96094f90f0315e1d2dd90   \n",
       "62504  54bb06e1ca86bd99ee2a8d6288bf4ede  98bfbf477ed9f40a0264f5e527a446be   \n",
       "79275  1a47da1d66c70489c8e35fe2b5433ab7  3d8e326c3cef3a9bba7ca121baac5fc3   \n",
       "83645  2fd1c83dd4714cf3cf796fffb6c8de62  7f51c513004ef3f35e834c142f286778   \n",
       "\n",
       "      order_status order_purchase_timestamp   order_approved_at  \\\n",
       "33157  unavailable      2016-10-05 14:16:28 2016-10-06 15:56:49   \n",
       "50731  unavailable      2016-10-06 23:49:18 2016-10-07 01:09:08   \n",
       "60805  unavailable      2016-10-08 12:13:38 2016-10-08 13:21:35   \n",
       "62504  unavailable      2016-10-06 13:38:39 2016-10-06 14:22:19   \n",
       "79275  unavailable      2016-10-07 18:16:31 2016-10-07 18:53:48   \n",
       "83645  unavailable      2016-10-05 17:21:29 2016-10-06 15:55:40   \n",
       "\n",
       "      order_delivered_carrier_date order_delivered_customer_date  \\\n",
       "33157                          NaT                           NaT   \n",
       "50731                          NaT                           NaT   \n",
       "60805                          NaT                           NaT   \n",
       "62504                          NaT                           NaT   \n",
       "79275                          NaT                           NaT   \n",
       "83645                          NaT                           NaT   \n",
       "\n",
       "      order_estimated_delivery_date  in_items  \n",
       "33157                    2016-11-29         1  \n",
       "50731                    2016-11-24         1  \n",
       "60805                    2016-11-30         1  \n",
       "62504                    2016-12-12         1  \n",
       "79275                    2016-12-07         1  \n",
       "83645                    2016-11-29         1  "
      ]
     },
     "execution_count": 14,
     "metadata": {},
     "output_type": "execute_result"
    }
   ],
   "source": [
    "# Проверим оставшиеся 6 заказов со статусом \"unavailable\"\n",
    "orders.query('order_status==\"unavailable\" and in_items==1')"
   ]
  },
  {
   "cell_type": "markdown",
   "id": "17e9c8e0",
   "metadata": {},
   "source": [
    "Оставшиеся 6 заказов со статусом `\"unavailable\"` попали в табл. `items`, но не были собраны и переданы продавцом на склад службы логистики. Возможно статус `\"unavailable\"` также может быть присвоен заказу, если он не был доставлен продавцом вовремя на склад службы логистики и является недостуным для дальнейшей доставки покупателю. Нарушен срок `shipping_limit_date`. "
   ]
  },
  {
   "cell_type": "markdown",
   "id": "3a89c32b",
   "metadata": {},
   "source": [
    "**Временные рамки** полученных данных приблизительно 2 года"
   ]
  },
  {
   "cell_type": "code",
   "execution_count": 15,
   "id": "899b9302",
   "metadata": {},
   "outputs": [
    {
     "data": {
      "text/html": [
       "<div>\n",
       "<style scoped>\n",
       "    .dataframe tbody tr th:only-of-type {\n",
       "        vertical-align: middle;\n",
       "    }\n",
       "\n",
       "    .dataframe tbody tr th {\n",
       "        vertical-align: top;\n",
       "    }\n",
       "\n",
       "    .dataframe thead th {\n",
       "        text-align: right;\n",
       "    }\n",
       "</style>\n",
       "<table border=\"1\" class=\"dataframe\">\n",
       "  <thead>\n",
       "    <tr style=\"text-align: right;\">\n",
       "      <th></th>\n",
       "      <th>min_time</th>\n",
       "      <th>max_time</th>\n",
       "    </tr>\n",
       "  </thead>\n",
       "  <tbody>\n",
       "    <tr>\n",
       "      <th>order_purchase_timestamp</th>\n",
       "      <td>2016-09-04 21:15:19</td>\n",
       "      <td>2018-10-17 17:30:18</td>\n",
       "    </tr>\n",
       "    <tr>\n",
       "      <th>order_approved_at</th>\n",
       "      <td>2016-09-15 12:16:38</td>\n",
       "      <td>2018-09-03 17:40:06</td>\n",
       "    </tr>\n",
       "    <tr>\n",
       "      <th>order_delivered_carrier_date</th>\n",
       "      <td>2016-10-08 10:34:01</td>\n",
       "      <td>2018-09-11 19:48:28</td>\n",
       "    </tr>\n",
       "    <tr>\n",
       "      <th>order_delivered_customer_date</th>\n",
       "      <td>2016-10-11 13:46:32</td>\n",
       "      <td>2018-10-17 13:22:46</td>\n",
       "    </tr>\n",
       "    <tr>\n",
       "      <th>order_estimated_delivery_date</th>\n",
       "      <td>2016-09-30 00:00:00</td>\n",
       "      <td>2018-11-12 00:00:00</td>\n",
       "    </tr>\n",
       "  </tbody>\n",
       "</table>\n",
       "</div>"
      ],
      "text/plain": [
       "                                         min_time            max_time\n",
       "order_purchase_timestamp      2016-09-04 21:15:19 2018-10-17 17:30:18\n",
       "order_approved_at             2016-09-15 12:16:38 2018-09-03 17:40:06\n",
       "order_delivered_carrier_date  2016-10-08 10:34:01 2018-09-11 19:48:28\n",
       "order_delivered_customer_date 2016-10-11 13:46:32 2018-10-17 13:22:46\n",
       "order_estimated_delivery_date 2016-09-30 00:00:00 2018-11-12 00:00:00"
      ]
     },
     "execution_count": 15,
     "metadata": {},
     "output_type": "execute_result"
    }
   ],
   "source": [
    "last_time = orders[['order_purchase_timestamp', 'order_approved_at', 'order_delivered_carrier_date', 'order_delivered_customer_date', 'order_estimated_delivery_date']].max()\\\n",
    "    .to_frame()\\\n",
    "    .rename(columns={0: 'max_time'})\n",
    "first_time = orders[['order_purchase_timestamp', 'order_approved_at', 'order_delivered_carrier_date', 'order_delivered_customer_date', 'order_estimated_delivery_date']].min()\\\n",
    "    .to_frame()\\\n",
    "    .rename(columns={0: 'min_time'})\n",
    "pd.concat([first_time, last_time], axis=1)"
   ]
  },
  {
   "cell_type": "markdown",
   "id": "29439cdd",
   "metadata": {},
   "source": [
    "### С помощью статусов заказов и зафиксированного времени определим структуру движения заказа в маркетплейсе от оформления заказа покупателем на сайте до доставки по адресу.  "
   ]
  },
  {
   "cell_type": "markdown",
   "id": "f829a48b",
   "metadata": {},
   "source": [
    "**Предполагаемая структура движения заказа**\n",
    "1. Покупатель приступает к созданию заказа, фиксируется время создания (`order_purchase_timestamp`), присваеивается статус `\"created\"`. Но покупатель может так и не закончить формирование корзины и не получить счет на оплату. В этом случае все остальные даты остаются не заполненными, статус остается `\"created\"` (Всего 5 заказов с таким статусом, все ключевые даты не заполнены) \n",
    "2. Покупатель сформировал корзину и получил счет на оплату, заказу присваивается статус `\"invoiced\"`.\n",
    "3. Покупатель оплатил счет, время оплаты фиксируется (`order_approved_at`), статус заказа `\"approved\"` (2 заказа с этим статусом оплачены, значит покупатель по ним сначала получил счет, поэтому статус approved идет после статуса `invoiced`). Рассчитывается приблизительное время доставки покупателю (`order_estimated_delivery_date`) \n",
    "4. После полученной информации об оплате продавец приступает к сборке заказа, присваивается статус `\"processing\"`. Время на сборку заказа для продавца ограничено (`shipping_limit_date`)  \n",
    "5. Собранный заказ продавец доставляет на склад службы логистики, время доставки фиксируется (`order_delivered_carrier_date`)  \n",
    "5. Заказ отгружен со склада службы логистики и находится в пути к адресу покупателя, статус `\"shipped\"`\n",
    "6. Заказ доставлен покупателю, время доставки зафиксировано (`order_delivered_customer_date`), заказу присвоен статус `\"delivered\"`\n",
    "7. Статус `\"unavaliable\"` возможно присваивается в случае отсутствия товара в ассортименте продавца или в случае если заказ не был вовремя доставлен на склад службы логистики. В обоих вариантах у заказа с таким статусом не должно быть времени регистрации на складе логистики и времени доставки покупателю. \n",
    "8. Статус `\"canceled\"` присвоен заказам, которые были отменены по инициативе покупателя. Покупатель может передумать делать покупку и отменить заказ на любом этапе, как до оплаты так и после. В случае, если покупатель получил бракованный товар, он отменяет покупку уже после получения (6 заказов-статус \"canceled\", дата order_delivered_customer_date зафиксирована)  "
   ]
  },
  {
   "cell_type": "markdown",
   "id": "c5705b03",
   "metadata": {},
   "source": [
    "# 1. Количество пользователей, совершивших покупку только один раз"
   ]
  },
  {
   "cell_type": "markdown",
   "id": "6dd555f5",
   "metadata": {},
   "source": [
    "`Покупкой` будем считать заказ, статус которого не равен `\"canceled\"` или `\"unavailable\"`. Т.е., чтобы заказ считался совершенным покупателем, он должен быть доступным и не отменененным покупателем. "
   ]
  },
  {
   "cell_type": "code",
   "execution_count": 16,
   "id": "41f5c47f",
   "metadata": {},
   "outputs": [
    {
     "data": {
      "text/plain": [
       "1234"
      ]
     },
     "execution_count": 16,
     "metadata": {},
     "output_type": "execute_result"
    }
   ],
   "source": [
    "# исключили отмененные и недоступные заказы\n",
    "confirmed_orders = pd.DataFrame(orders.query('order_status not in [\"canceled\", \"unavailable\"]'))\n",
    "# Проверка:625 отменены и 609 недоступны->625+609=1234\n",
    "# 1234 заказа должны быть исключены\n",
    "len(orders) - len(confirmed_orders)"
   ]
  },
  {
   "cell_type": "code",
   "execution_count": 17,
   "id": "364db3ce",
   "metadata": {},
   "outputs": [
    {
     "data": {
      "text/plain": [
       "delivered     96478\n",
       "shipped        1107\n",
       "invoiced        314\n",
       "processing      301\n",
       "created           5\n",
       "approved          2\n",
       "Name: order_status, dtype: int64"
      ]
     },
     "execution_count": 17,
     "metadata": {},
     "output_type": "execute_result"
    }
   ],
   "source": [
    "# Проверка: заказов со статусом canceled и unavailable датафрейме нет\n",
    "confirmed_orders['order_status'].value_counts()"
   ]
  },
  {
   "cell_type": "code",
   "execution_count": 18,
   "id": "ee88056d",
   "metadata": {},
   "outputs": [
    {
     "data": {
      "text/html": [
       "<div>\n",
       "<style scoped>\n",
       "    .dataframe tbody tr th:only-of-type {\n",
       "        vertical-align: middle;\n",
       "    }\n",
       "\n",
       "    .dataframe tbody tr th {\n",
       "        vertical-align: top;\n",
       "    }\n",
       "\n",
       "    .dataframe thead th {\n",
       "        text-align: right;\n",
       "    }\n",
       "</style>\n",
       "<table border=\"1\" class=\"dataframe\">\n",
       "  <thead>\n",
       "    <tr style=\"text-align: right;\">\n",
       "      <th></th>\n",
       "      <th>order_id</th>\n",
       "      <th>customer_id</th>\n",
       "      <th>order_status</th>\n",
       "      <th>order_purchase_timestamp</th>\n",
       "      <th>order_approved_at</th>\n",
       "      <th>order_delivered_carrier_date</th>\n",
       "      <th>order_delivered_customer_date</th>\n",
       "      <th>order_estimated_delivery_date</th>\n",
       "      <th>in_items</th>\n",
       "      <th>customer_unique_id</th>\n",
       "    </tr>\n",
       "  </thead>\n",
       "  <tbody>\n",
       "    <tr>\n",
       "      <th>0</th>\n",
       "      <td>e481f51cbdc54678b7cc49136f2d6af7</td>\n",
       "      <td>9ef432eb6251297304e76186b10a928d</td>\n",
       "      <td>delivered</td>\n",
       "      <td>2017-10-02 10:56:33</td>\n",
       "      <td>2017-10-02 11:07:15</td>\n",
       "      <td>2017-10-04 19:55:00</td>\n",
       "      <td>2017-10-10 21:25:13</td>\n",
       "      <td>2017-10-18</td>\n",
       "      <td>1</td>\n",
       "      <td>7c396fd4830fd04220f754e42b4e5bff</td>\n",
       "    </tr>\n",
       "    <tr>\n",
       "      <th>1</th>\n",
       "      <td>53cdb2fc8bc7dce0b6741e2150273451</td>\n",
       "      <td>b0830fb4747a6c6d20dea0b8c802d7ef</td>\n",
       "      <td>delivered</td>\n",
       "      <td>2018-07-24 20:41:37</td>\n",
       "      <td>2018-07-26 03:24:27</td>\n",
       "      <td>2018-07-26 14:31:00</td>\n",
       "      <td>2018-08-07 15:27:45</td>\n",
       "      <td>2018-08-13</td>\n",
       "      <td>1</td>\n",
       "      <td>af07308b275d755c9edb36a90c618231</td>\n",
       "    </tr>\n",
       "    <tr>\n",
       "      <th>2</th>\n",
       "      <td>47770eb9100c2d0c44946d9cf07ec65d</td>\n",
       "      <td>41ce2a54c0b03bf3443c3d931a367089</td>\n",
       "      <td>delivered</td>\n",
       "      <td>2018-08-08 08:38:49</td>\n",
       "      <td>2018-08-08 08:55:23</td>\n",
       "      <td>2018-08-08 13:50:00</td>\n",
       "      <td>2018-08-17 18:06:29</td>\n",
       "      <td>2018-09-04</td>\n",
       "      <td>1</td>\n",
       "      <td>3a653a41f6f9fc3d2a113cf8398680e8</td>\n",
       "    </tr>\n",
       "    <tr>\n",
       "      <th>3</th>\n",
       "      <td>949d5b44dbf5de918fe9c16f97b45f8a</td>\n",
       "      <td>f88197465ea7920adcdbec7375364d82</td>\n",
       "      <td>delivered</td>\n",
       "      <td>2017-11-18 19:28:06</td>\n",
       "      <td>2017-11-18 19:45:59</td>\n",
       "      <td>2017-11-22 13:39:59</td>\n",
       "      <td>2017-12-02 00:28:42</td>\n",
       "      <td>2017-12-15</td>\n",
       "      <td>1</td>\n",
       "      <td>7c142cf63193a1473d2e66489a9ae977</td>\n",
       "    </tr>\n",
       "    <tr>\n",
       "      <th>4</th>\n",
       "      <td>ad21c59c0840e6cb83a9ceb5573f8159</td>\n",
       "      <td>8ab97904e6daea8866dbdbc4fb7aad2c</td>\n",
       "      <td>delivered</td>\n",
       "      <td>2018-02-13 21:18:39</td>\n",
       "      <td>2018-02-13 22:20:29</td>\n",
       "      <td>2018-02-14 19:46:34</td>\n",
       "      <td>2018-02-16 18:17:02</td>\n",
       "      <td>2018-02-26</td>\n",
       "      <td>1</td>\n",
       "      <td>72632f0f9dd73dfee390c9b22eb56dd6</td>\n",
       "    </tr>\n",
       "  </tbody>\n",
       "</table>\n",
       "</div>"
      ],
      "text/plain": [
       "                           order_id                       customer_id  \\\n",
       "0  e481f51cbdc54678b7cc49136f2d6af7  9ef432eb6251297304e76186b10a928d   \n",
       "1  53cdb2fc8bc7dce0b6741e2150273451  b0830fb4747a6c6d20dea0b8c802d7ef   \n",
       "2  47770eb9100c2d0c44946d9cf07ec65d  41ce2a54c0b03bf3443c3d931a367089   \n",
       "3  949d5b44dbf5de918fe9c16f97b45f8a  f88197465ea7920adcdbec7375364d82   \n",
       "4  ad21c59c0840e6cb83a9ceb5573f8159  8ab97904e6daea8866dbdbc4fb7aad2c   \n",
       "\n",
       "  order_status order_purchase_timestamp   order_approved_at  \\\n",
       "0    delivered      2017-10-02 10:56:33 2017-10-02 11:07:15   \n",
       "1    delivered      2018-07-24 20:41:37 2018-07-26 03:24:27   \n",
       "2    delivered      2018-08-08 08:38:49 2018-08-08 08:55:23   \n",
       "3    delivered      2017-11-18 19:28:06 2017-11-18 19:45:59   \n",
       "4    delivered      2018-02-13 21:18:39 2018-02-13 22:20:29   \n",
       "\n",
       "  order_delivered_carrier_date order_delivered_customer_date  \\\n",
       "0          2017-10-04 19:55:00           2017-10-10 21:25:13   \n",
       "1          2018-07-26 14:31:00           2018-08-07 15:27:45   \n",
       "2          2018-08-08 13:50:00           2018-08-17 18:06:29   \n",
       "3          2017-11-22 13:39:59           2017-12-02 00:28:42   \n",
       "4          2018-02-14 19:46:34           2018-02-16 18:17:02   \n",
       "\n",
       "  order_estimated_delivery_date  in_items                customer_unique_id  \n",
       "0                    2017-10-18         1  7c396fd4830fd04220f754e42b4e5bff  \n",
       "1                    2018-08-13         1  af07308b275d755c9edb36a90c618231  \n",
       "2                    2018-09-04         1  3a653a41f6f9fc3d2a113cf8398680e8  \n",
       "3                    2017-12-15         1  7c142cf63193a1473d2e66489a9ae977  \n",
       "4                    2018-02-26         1  72632f0f9dd73dfee390c9b22eb56dd6  "
      ]
     },
     "execution_count": 18,
     "metadata": {},
     "output_type": "execute_result"
    }
   ],
   "source": [
    "# Присоединяем уникальные id покупателей из датафрейма customers\n",
    "order_customer_data = confirmed_orders.merge(customers[['customer_unique_id', 'customer_id']], on='customer_id', how='left')\n",
    "order_customer_data.head()"
   ]
  },
  {
   "cell_type": "code",
   "execution_count": 19,
   "id": "f9f7e192",
   "metadata": {},
   "outputs": [
    {
     "data": {
      "text/html": [
       "<div>\n",
       "<style scoped>\n",
       "    .dataframe tbody tr th:only-of-type {\n",
       "        vertical-align: middle;\n",
       "    }\n",
       "\n",
       "    .dataframe tbody tr th {\n",
       "        vertical-align: top;\n",
       "    }\n",
       "\n",
       "    .dataframe thead th {\n",
       "        text-align: right;\n",
       "    }\n",
       "</style>\n",
       "<table border=\"1\" class=\"dataframe\">\n",
       "  <thead>\n",
       "    <tr style=\"text-align: right;\">\n",
       "      <th></th>\n",
       "      <th>customer_unique_id</th>\n",
       "      <th>sum_of_orders</th>\n",
       "    </tr>\n",
       "  </thead>\n",
       "  <tbody>\n",
       "    <tr>\n",
       "      <th>52358</th>\n",
       "      <td>8d50f5eadf50201ccdcedfb9e2ac8455</td>\n",
       "      <td>16</td>\n",
       "    </tr>\n",
       "    <tr>\n",
       "      <th>23201</th>\n",
       "      <td>3e43e6105506432c953e165fb2acf44c</td>\n",
       "      <td>9</td>\n",
       "    </tr>\n",
       "    <tr>\n",
       "      <th>37374</th>\n",
       "      <td>6469f99c1f9dfae7733b25662e7f1782</td>\n",
       "      <td>7</td>\n",
       "    </tr>\n",
       "    <tr>\n",
       "      <th>10235</th>\n",
       "      <td>1b6c7548a2a1f9037c1fd3ddfed95f33</td>\n",
       "      <td>7</td>\n",
       "    </tr>\n",
       "    <tr>\n",
       "      <th>75211</th>\n",
       "      <td>ca77025e7201e3b30c44b472ff346268</td>\n",
       "      <td>7</td>\n",
       "    </tr>\n",
       "    <tr>\n",
       "      <th>...</th>\n",
       "      <td>...</td>\n",
       "      <td>...</td>\n",
       "    </tr>\n",
       "    <tr>\n",
       "      <th>32122</th>\n",
       "      <td>56509f7bc43892a0da09ee14f50a6f84</td>\n",
       "      <td>1</td>\n",
       "    </tr>\n",
       "    <tr>\n",
       "      <th>32121</th>\n",
       "      <td>564feb90710b4f84399f931fa97ea704</td>\n",
       "      <td>1</td>\n",
       "    </tr>\n",
       "    <tr>\n",
       "      <th>32120</th>\n",
       "      <td>564fb2956ed34f0a78c1cc37d731f3d9</td>\n",
       "      <td>1</td>\n",
       "    </tr>\n",
       "    <tr>\n",
       "      <th>32119</th>\n",
       "      <td>564f89ca1f5371992bf1fb87a0331ac3</td>\n",
       "      <td>1</td>\n",
       "    </tr>\n",
       "    <tr>\n",
       "      <th>94989</th>\n",
       "      <td>ffffd2657e2aad2907e67c3e9daecbeb</td>\n",
       "      <td>1</td>\n",
       "    </tr>\n",
       "  </tbody>\n",
       "</table>\n",
       "<p>94990 rows × 2 columns</p>\n",
       "</div>"
      ],
      "text/plain": [
       "                     customer_unique_id  sum_of_orders\n",
       "52358  8d50f5eadf50201ccdcedfb9e2ac8455             16\n",
       "23201  3e43e6105506432c953e165fb2acf44c              9\n",
       "37374  6469f99c1f9dfae7733b25662e7f1782              7\n",
       "10235  1b6c7548a2a1f9037c1fd3ddfed95f33              7\n",
       "75211  ca77025e7201e3b30c44b472ff346268              7\n",
       "...                                 ...            ...\n",
       "32122  56509f7bc43892a0da09ee14f50a6f84              1\n",
       "32121  564feb90710b4f84399f931fa97ea704              1\n",
       "32120  564fb2956ed34f0a78c1cc37d731f3d9              1\n",
       "32119  564f89ca1f5371992bf1fb87a0331ac3              1\n",
       "94989  ffffd2657e2aad2907e67c3e9daecbeb              1\n",
       "\n",
       "[94990 rows x 2 columns]"
      ]
     },
     "execution_count": 19,
     "metadata": {},
     "output_type": "execute_result"
    }
   ],
   "source": [
    "# Сгруппировали заказы по уникальным покупателям\n",
    "sum_of_orders = order_customer_data.groupby('customer_unique_id', as_index=False)\\\n",
    "    .agg({'order_id': 'count'})\\\n",
    "    .rename(columns={'order_id': 'sum_of_orders'})\\\n",
    "    .sort_values(by='sum_of_orders', ascending=False)\n",
    "sum_of_orders"
   ]
  },
  {
   "cell_type": "markdown",
   "id": "9e9fb6d8",
   "metadata": {},
   "source": [
    "Из полученных данных видно, что есть покупатели, которые совершали покупки более одного раза и покупатели, которые совершали покупку только один раз"
   ]
  },
  {
   "cell_type": "code",
   "execution_count": 20,
   "id": "1ed14bc7",
   "metadata": {},
   "outputs": [
    {
     "name": "stdout",
     "output_type": "stream",
     "text": [
      "\u001b[1mСколько у нас пользователей, которые совершили покупку только один раз?\n",
      "92102 пользователь совершил покупку на сайте только один раз.\u001b[0m\n"
     ]
    }
   ],
   "source": [
    "# Количество покупателей совершивших только 1 покупку\n",
    "print('\\033[1m' + 'Сколько у нас пользователей, которые совершили покупку только один раз?')\n",
    "print(sum_of_orders.query('sum_of_orders==1')['customer_unique_id'].count(), 'пользователь совершил покупку на сайте только один раз.' + '\\033[0m')"
   ]
  },
  {
   "cell_type": "markdown",
   "id": "501f25cc",
   "metadata": {},
   "source": [
    "**Вывод:**  Из 96096 пользователей 95,84% (92102) за 2 года сделали только один заказ "
   ]
  },
  {
   "cell_type": "markdown",
   "id": "b9e79d2a",
   "metadata": {},
   "source": [
    "# 2. Сколько заказов в месяц в среднем не доставляется по разным причинам (детализация по причинам)"
   ]
  },
  {
   "cell_type": "markdown",
   "id": "40bc5fc4",
   "metadata": {},
   "source": [
    "**2.1. Определим недоставленные заказы**"
   ]
  },
  {
   "cell_type": "code",
   "execution_count": 21,
   "id": "3e387ef4",
   "metadata": {},
   "outputs": [
    {
     "data": {
      "text/plain": [
       "order_id                            0\n",
       "customer_id                         0\n",
       "order_status                        0\n",
       "order_purchase_timestamp            0\n",
       "order_approved_at                  19\n",
       "order_delivered_carrier_date      624\n",
       "order_delivered_customer_date    1737\n",
       "order_estimated_delivery_date       0\n",
       "in_items                            0\n",
       "dtype: int64"
      ]
     },
     "execution_count": 21,
     "metadata": {},
     "output_type": "execute_result"
    }
   ],
   "source": [
    "# Пропущенные значения в дадасете совершенных заказов\n",
    "confirmed_orders.isna().sum()"
   ]
  },
  {
   "cell_type": "markdown",
   "id": "26cbcc73",
   "metadata": {},
   "source": [
    "Проверка пропущенных значений среди совершенных покупателем покупок показывает, что есть заказы без даты доставки покупателю и даты доставки на склад.  \n",
    "`Недоставленными заказами` будем считать совершенные покупателем заказы без зафиксированного времени доставки. При этом подразумевается, что все недоставленные на склад логистики заказы, не должны быть доставлены покупателю, т.е. из 1737 недоставленных покупателю заказа 624 должны быть не доставлены на склад логистики."
   ]
  },
  {
   "cell_type": "code",
   "execution_count": 22,
   "id": "53e086cd",
   "metadata": {},
   "outputs": [
    {
     "data": {
      "text/plain": [
       "order_id                            0\n",
       "customer_id                         0\n",
       "order_status                        0\n",
       "order_purchase_timestamp            0\n",
       "order_approved_at                   5\n",
       "order_delivered_carrier_date      623\n",
       "order_delivered_customer_date    1737\n",
       "order_estimated_delivery_date       0\n",
       "in_items                            0\n",
       "dtype: int64"
      ]
     },
     "execution_count": 22,
     "metadata": {},
     "output_type": "execute_result"
    }
   ],
   "source": [
    "# Заказы без времени доставки покупателю. Проверка пропущенных занчений.\n",
    "not_delivered = pd.DataFrame(confirmed_orders[confirmed_orders['order_delivered_customer_date'].isna()])\n",
    "not_delivered.isna().sum()"
   ]
  },
  {
   "cell_type": "markdown",
   "id": "738f846f",
   "metadata": {},
   "source": [
    "В сравнении пропущенных занчений видно, что один заказ не был доставлен на склад, но был доставлен покупателю.  \n",
    "Из 1737 недоставленных покупателю заказа 623 не доставлены на склад логистики."
   ]
  },
  {
   "cell_type": "code",
   "execution_count": 23,
   "id": "159c7816",
   "metadata": {},
   "outputs": [
    {
     "data": {
      "text/html": [
       "<div>\n",
       "<style scoped>\n",
       "    .dataframe tbody tr th:only-of-type {\n",
       "        vertical-align: middle;\n",
       "    }\n",
       "\n",
       "    .dataframe tbody tr th {\n",
       "        vertical-align: top;\n",
       "    }\n",
       "\n",
       "    .dataframe thead th {\n",
       "        text-align: right;\n",
       "    }\n",
       "</style>\n",
       "<table border=\"1\" class=\"dataframe\">\n",
       "  <thead>\n",
       "    <tr style=\"text-align: right;\">\n",
       "      <th></th>\n",
       "      <th>order_id</th>\n",
       "      <th>customer_id</th>\n",
       "      <th>order_status</th>\n",
       "      <th>order_purchase_timestamp</th>\n",
       "      <th>order_approved_at</th>\n",
       "      <th>order_delivered_carrier_date</th>\n",
       "      <th>order_delivered_customer_date</th>\n",
       "      <th>order_estimated_delivery_date</th>\n",
       "      <th>in_items</th>\n",
       "    </tr>\n",
       "  </thead>\n",
       "  <tbody>\n",
       "    <tr>\n",
       "      <th>73222</th>\n",
       "      <td>2aa91108853cecb43c84a5dc5b277475</td>\n",
       "      <td>afeb16c7f46396c0ed54acb45ccaaa40</td>\n",
       "      <td>delivered</td>\n",
       "      <td>2017-09-29 08:52:58</td>\n",
       "      <td>2017-09-29 09:07:16</td>\n",
       "      <td>NaT</td>\n",
       "      <td>2017-11-20 19:44:47</td>\n",
       "      <td>2017-11-14</td>\n",
       "      <td>1</td>\n",
       "    </tr>\n",
       "  </tbody>\n",
       "</table>\n",
       "</div>"
      ],
      "text/plain": [
       "                               order_id                       customer_id  \\\n",
       "73222  2aa91108853cecb43c84a5dc5b277475  afeb16c7f46396c0ed54acb45ccaaa40   \n",
       "\n",
       "      order_status order_purchase_timestamp   order_approved_at  \\\n",
       "73222    delivered      2017-09-29 08:52:58 2017-09-29 09:07:16   \n",
       "\n",
       "      order_delivered_carrier_date order_delivered_customer_date  \\\n",
       "73222                          NaT           2017-11-20 19:44:47   \n",
       "\n",
       "      order_estimated_delivery_date  in_items  \n",
       "73222                    2017-11-14         1  "
      ]
     },
     "execution_count": 23,
     "metadata": {},
     "output_type": "execute_result"
    }
   ],
   "source": [
    "# Заказы, без времени доставки на склад логистики,\n",
    "# но со временем доставки покупателю.\n",
    "not_logistic = confirmed_orders[confirmed_orders['order_delivered_carrier_date'].isna()]\n",
    "not_logistic[not_logistic['order_delivered_customer_date'].notna()]"
   ]
  },
  {
   "cell_type": "markdown",
   "id": "361b540e",
   "metadata": {},
   "source": [
    "Полученный заказ оплачен, имеет статус `\"delivered\"`. Возможно продавец доставил заказ покупателю самостоятельно, или по техническим причинам время доставки на склад зафиксировано не было."
   ]
  },
  {
   "cell_type": "markdown",
   "id": "2c341d76",
   "metadata": {},
   "source": [
    "**2.2. Определим возможные причины, по которым заказы не были доставлены покупателю**\n",
    "\n",
    "Выделим предполагаемые причины недосатвки заказов, рассмотрев недоставленные заказы в разрезе статусов"
   ]
  },
  {
   "cell_type": "code",
   "execution_count": 24,
   "id": "95c95ad5",
   "metadata": {},
   "outputs": [
    {
     "data": {
      "text/html": [
       "<div>\n",
       "<style scoped>\n",
       "    .dataframe tbody tr th:only-of-type {\n",
       "        vertical-align: middle;\n",
       "    }\n",
       "\n",
       "    .dataframe tbody tr th {\n",
       "        vertical-align: top;\n",
       "    }\n",
       "\n",
       "    .dataframe thead th {\n",
       "        text-align: right;\n",
       "    }\n",
       "</style>\n",
       "<table border=\"1\" class=\"dataframe\">\n",
       "  <thead>\n",
       "    <tr style=\"text-align: right;\">\n",
       "      <th></th>\n",
       "      <th>order_status</th>\n",
       "      <th>order_delivered_carrier_date</th>\n",
       "      <th>order_delivered_customer_date</th>\n",
       "    </tr>\n",
       "  </thead>\n",
       "  <tbody>\n",
       "    <tr>\n",
       "      <th>0</th>\n",
       "      <td>approved</td>\n",
       "      <td>2</td>\n",
       "      <td>2</td>\n",
       "    </tr>\n",
       "    <tr>\n",
       "      <th>1</th>\n",
       "      <td>created</td>\n",
       "      <td>5</td>\n",
       "      <td>5</td>\n",
       "    </tr>\n",
       "    <tr>\n",
       "      <th>2</th>\n",
       "      <td>delivered</td>\n",
       "      <td>1</td>\n",
       "      <td>8</td>\n",
       "    </tr>\n",
       "    <tr>\n",
       "      <th>3</th>\n",
       "      <td>invoiced</td>\n",
       "      <td>314</td>\n",
       "      <td>314</td>\n",
       "    </tr>\n",
       "    <tr>\n",
       "      <th>4</th>\n",
       "      <td>processing</td>\n",
       "      <td>301</td>\n",
       "      <td>301</td>\n",
       "    </tr>\n",
       "    <tr>\n",
       "      <th>5</th>\n",
       "      <td>shipped</td>\n",
       "      <td>0</td>\n",
       "      <td>1107</td>\n",
       "    </tr>\n",
       "  </tbody>\n",
       "</table>\n",
       "</div>"
      ],
      "text/plain": [
       "  order_status  order_delivered_carrier_date  order_delivered_customer_date\n",
       "0     approved                             2                              2\n",
       "1      created                             5                              5\n",
       "2    delivered                             1                              8\n",
       "3     invoiced                           314                            314\n",
       "4   processing                           301                            301\n",
       "5      shipped                             0                           1107"
      ]
     },
     "execution_count": 24,
     "metadata": {},
     "output_type": "execute_result"
    }
   ],
   "source": [
    "missing = not_delivered[['order_delivered_carrier_date', 'order_delivered_customer_date']].isna().astype(int)\n",
    "# Объединим статусы заказов с даннными о пропущенных занчениях по колонкам дат\n",
    "not_delivered_status = pd.concat([not_delivered[['order_id', 'order_status']], missing], axis=1)\n",
    "# Посчитаем количество пропущщеных занчений в колонках с датами в разрезе статусов заказов\n",
    "not_delivered_status.groupby('order_status', as_index=False)['order_delivered_carrier_date', 'order_delivered_customer_date'].sum()"
   ]
  },
  {
   "cell_type": "code",
   "execution_count": 25,
   "id": "3dd3351a",
   "metadata": {},
   "outputs": [
    {
     "data": {
      "text/html": [
       "<div>\n",
       "<style scoped>\n",
       "    .dataframe tbody tr th:only-of-type {\n",
       "        vertical-align: middle;\n",
       "    }\n",
       "\n",
       "    .dataframe tbody tr th {\n",
       "        vertical-align: top;\n",
       "    }\n",
       "\n",
       "    .dataframe thead th {\n",
       "        text-align: right;\n",
       "    }\n",
       "</style>\n",
       "<table border=\"1\" class=\"dataframe\">\n",
       "  <thead>\n",
       "    <tr style=\"text-align: right;\">\n",
       "      <th></th>\n",
       "      <th>order_id</th>\n",
       "      <th>customer_id</th>\n",
       "      <th>order_status</th>\n",
       "      <th>order_purchase_timestamp</th>\n",
       "      <th>order_approved_at</th>\n",
       "      <th>order_delivered_carrier_date</th>\n",
       "      <th>order_delivered_customer_date</th>\n",
       "      <th>order_estimated_delivery_date</th>\n",
       "      <th>in_items</th>\n",
       "    </tr>\n",
       "  </thead>\n",
       "  <tbody>\n",
       "    <tr>\n",
       "      <th>3002</th>\n",
       "      <td>2d1e2d5bf4dc7227b3bfebb81328c15f</td>\n",
       "      <td>ec05a6d8558c6455f0cbbd8a420ad34f</td>\n",
       "      <td>delivered</td>\n",
       "      <td>2017-11-28 17:44:07</td>\n",
       "      <td>2017-11-28 17:56:40</td>\n",
       "      <td>2017-11-30 18:12:23</td>\n",
       "      <td>NaT</td>\n",
       "      <td>2017-12-18</td>\n",
       "      <td>1</td>\n",
       "    </tr>\n",
       "    <tr>\n",
       "      <th>20618</th>\n",
       "      <td>f5dd62b788049ad9fc0526e3ad11a097</td>\n",
       "      <td>5e89028e024b381dc84a13a3570decb4</td>\n",
       "      <td>delivered</td>\n",
       "      <td>2018-06-20 06:58:43</td>\n",
       "      <td>2018-06-20 07:19:05</td>\n",
       "      <td>2018-06-25 08:05:00</td>\n",
       "      <td>NaT</td>\n",
       "      <td>2018-07-16</td>\n",
       "      <td>1</td>\n",
       "    </tr>\n",
       "    <tr>\n",
       "      <th>43834</th>\n",
       "      <td>2ebdfc4f15f23b91474edf87475f108e</td>\n",
       "      <td>29f0540231702fda0cfdee0a310f11aa</td>\n",
       "      <td>delivered</td>\n",
       "      <td>2018-07-01 17:05:11</td>\n",
       "      <td>2018-07-01 17:15:12</td>\n",
       "      <td>2018-07-03 13:57:00</td>\n",
       "      <td>NaT</td>\n",
       "      <td>2018-07-30</td>\n",
       "      <td>1</td>\n",
       "    </tr>\n",
       "    <tr>\n",
       "      <th>79263</th>\n",
       "      <td>e69f75a717d64fc5ecdfae42b2e8e086</td>\n",
       "      <td>cfda40ca8dd0a5d486a9635b611b398a</td>\n",
       "      <td>delivered</td>\n",
       "      <td>2018-07-01 22:05:55</td>\n",
       "      <td>2018-07-01 22:15:14</td>\n",
       "      <td>2018-07-03 13:57:00</td>\n",
       "      <td>NaT</td>\n",
       "      <td>2018-07-30</td>\n",
       "      <td>1</td>\n",
       "    </tr>\n",
       "    <tr>\n",
       "      <th>82868</th>\n",
       "      <td>0d3268bad9b086af767785e3f0fc0133</td>\n",
       "      <td>4f1d63d35fb7c8999853b2699f5c7649</td>\n",
       "      <td>delivered</td>\n",
       "      <td>2018-07-01 21:14:02</td>\n",
       "      <td>2018-07-01 21:29:54</td>\n",
       "      <td>2018-07-03 09:28:00</td>\n",
       "      <td>NaT</td>\n",
       "      <td>2018-07-24</td>\n",
       "      <td>1</td>\n",
       "    </tr>\n",
       "    <tr>\n",
       "      <th>92643</th>\n",
       "      <td>2d858f451373b04fb5c984a1cc2defaf</td>\n",
       "      <td>e08caf668d499a6d643dafd7c5cc498a</td>\n",
       "      <td>delivered</td>\n",
       "      <td>2017-05-25 23:22:43</td>\n",
       "      <td>2017-05-25 23:30:16</td>\n",
       "      <td>NaT</td>\n",
       "      <td>NaT</td>\n",
       "      <td>2017-06-23</td>\n",
       "      <td>1</td>\n",
       "    </tr>\n",
       "    <tr>\n",
       "      <th>97647</th>\n",
       "      <td>ab7c89dc1bf4a1ead9d6ec1ec8968a84</td>\n",
       "      <td>dd1b84a7286eb4524d52af4256c0ba24</td>\n",
       "      <td>delivered</td>\n",
       "      <td>2018-06-08 12:09:39</td>\n",
       "      <td>2018-06-08 12:36:39</td>\n",
       "      <td>2018-06-12 14:10:00</td>\n",
       "      <td>NaT</td>\n",
       "      <td>2018-06-26</td>\n",
       "      <td>1</td>\n",
       "    </tr>\n",
       "    <tr>\n",
       "      <th>98038</th>\n",
       "      <td>20edc82cf5400ce95e1afacc25798b31</td>\n",
       "      <td>28c37425f1127d887d7337f284080a0f</td>\n",
       "      <td>delivered</td>\n",
       "      <td>2018-06-27 16:09:12</td>\n",
       "      <td>2018-06-27 16:29:30</td>\n",
       "      <td>2018-07-03 19:26:00</td>\n",
       "      <td>NaT</td>\n",
       "      <td>2018-07-19</td>\n",
       "      <td>1</td>\n",
       "    </tr>\n",
       "  </tbody>\n",
       "</table>\n",
       "</div>"
      ],
      "text/plain": [
       "                               order_id                       customer_id  \\\n",
       "3002   2d1e2d5bf4dc7227b3bfebb81328c15f  ec05a6d8558c6455f0cbbd8a420ad34f   \n",
       "20618  f5dd62b788049ad9fc0526e3ad11a097  5e89028e024b381dc84a13a3570decb4   \n",
       "43834  2ebdfc4f15f23b91474edf87475f108e  29f0540231702fda0cfdee0a310f11aa   \n",
       "79263  e69f75a717d64fc5ecdfae42b2e8e086  cfda40ca8dd0a5d486a9635b611b398a   \n",
       "82868  0d3268bad9b086af767785e3f0fc0133  4f1d63d35fb7c8999853b2699f5c7649   \n",
       "92643  2d858f451373b04fb5c984a1cc2defaf  e08caf668d499a6d643dafd7c5cc498a   \n",
       "97647  ab7c89dc1bf4a1ead9d6ec1ec8968a84  dd1b84a7286eb4524d52af4256c0ba24   \n",
       "98038  20edc82cf5400ce95e1afacc25798b31  28c37425f1127d887d7337f284080a0f   \n",
       "\n",
       "      order_status order_purchase_timestamp   order_approved_at  \\\n",
       "3002     delivered      2017-11-28 17:44:07 2017-11-28 17:56:40   \n",
       "20618    delivered      2018-06-20 06:58:43 2018-06-20 07:19:05   \n",
       "43834    delivered      2018-07-01 17:05:11 2018-07-01 17:15:12   \n",
       "79263    delivered      2018-07-01 22:05:55 2018-07-01 22:15:14   \n",
       "82868    delivered      2018-07-01 21:14:02 2018-07-01 21:29:54   \n",
       "92643    delivered      2017-05-25 23:22:43 2017-05-25 23:30:16   \n",
       "97647    delivered      2018-06-08 12:09:39 2018-06-08 12:36:39   \n",
       "98038    delivered      2018-06-27 16:09:12 2018-06-27 16:29:30   \n",
       "\n",
       "      order_delivered_carrier_date order_delivered_customer_date  \\\n",
       "3002           2017-11-30 18:12:23                           NaT   \n",
       "20618          2018-06-25 08:05:00                           NaT   \n",
       "43834          2018-07-03 13:57:00                           NaT   \n",
       "79263          2018-07-03 13:57:00                           NaT   \n",
       "82868          2018-07-03 09:28:00                           NaT   \n",
       "92643                          NaT                           NaT   \n",
       "97647          2018-06-12 14:10:00                           NaT   \n",
       "98038          2018-07-03 19:26:00                           NaT   \n",
       "\n",
       "      order_estimated_delivery_date  in_items  \n",
       "3002                     2017-12-18         1  \n",
       "20618                    2018-07-16         1  \n",
       "43834                    2018-07-30         1  \n",
       "79263                    2018-07-30         1  \n",
       "82868                    2018-07-24         1  \n",
       "92643                    2017-06-23         1  \n",
       "97647                    2018-06-26         1  \n",
       "98038                    2018-07-19         1  "
      ]
     },
     "execution_count": 25,
     "metadata": {},
     "output_type": "execute_result"
    }
   ],
   "source": [
    "# 8 заказов состатусом \"доставлено\", но без времени доставки\n",
    "not_delivered.query('order_status==\"delivered\"')"
   ]
  },
  {
   "cell_type": "markdown",
   "id": "650692d4",
   "metadata": {},
   "source": [
    "Недоставленные 1737 заказ можно примерно разделить на 3 группы: \n",
    "* 623 заказов не было доставлено продавцом на склад логистики для дальнейшей доставки покупателю (нет времени доставки на склад), \n",
    "* 1107 заказов служба логистики не доставила покупателям(есть время доставки на склад логистики,нет времени доставки покупателю, статус \"shipped\"), \n",
    "* 7 заказов со статусом \"delivered\" были доставлены на склад, но не имеют времени доставки покупателю. Возможно  техническая ошибка: неверно проставлен статус заказа и заказы не были доставлены, либо заказы доставлены покупателю, статус указан верно, но по техническим причинам время не было зафиксировано. \n",
    "\n",
    "При этом 623 заказа, недоставленных продавцом на склад логистики также можно разбить на группы: \n",
    "* approved(2)+invoiced(314)=316 заказов были оплачены, но сборка так и не началась(processing), возможно информация об оплате не поступила продавцу, поэтому продавец не приступил к сборке заказа.\n",
    "* processing(301) заказ не был собран продавцом вовремя, возможно товара нет в наличии у продавца\n",
    "* delivered(1)-возможно техническая ошибка, неверно указан статус, нет времени доставки на склад и покупателю"
   ]
  },
  {
   "cell_type": "code",
   "execution_count": 26,
   "id": "f59a1da0",
   "metadata": {},
   "outputs": [],
   "source": [
    "def get_reason(feature):\n",
    "    '''Функция для определения причины недоставки заказа'''\n",
    "    if feature == 'approved' or feature == 'invoiced':\n",
    "        return \"Нет на складе логистики, возможно информация об оплате не получена продавцом\"\n",
    "    elif feature == 'unavailable' or feature == 'processing':\n",
    "        return 'Нет на складе логистики. Продавец не предоставил заказ вовремя, возможно товара нет в наличии'\n",
    "    elif feature == 'shipped':\n",
    "        return 'Проблема службы логистики. Заказ отгружен со склада, недоставлен до адреса покупателя вовремя'\n",
    "    else:\n",
    "        return 'Возможно техническая ошибка, требутся провести более детальное исследование'"
   ]
  },
  {
   "cell_type": "code",
   "execution_count": 27,
   "id": "14872726",
   "metadata": {},
   "outputs": [],
   "source": [
    "# Создали колонку с указанием причины недоставки заказа\n",
    "not_delivered['reason'] = not_delivered['order_status'].apply(get_reason)"
   ]
  },
  {
   "cell_type": "code",
   "execution_count": 28,
   "id": "73cb4dad",
   "metadata": {},
   "outputs": [
    {
     "data": {
      "text/plain": [
       "Проблема службы логистики. Заказ отгружен со склада, недоставлен до адреса покупателя вовремя    1107\n",
       "Нет на складе логистики, возможно информация об оплате не получена продавцом                      316\n",
       "Нет на складе логистики. Продавец не предоставил заказ вовремя, возможно товара нет в наличии     301\n",
       "Возможно техническая ошибка, требутся провести более детальное исследование                        13\n",
       "Name: reason, dtype: int64"
      ]
     },
     "execution_count": 28,
     "metadata": {},
     "output_type": "execute_result"
    }
   ],
   "source": [
    "# общее количество недоставленных заказов с детализацией по причинам за весь период\n",
    "not_delivered['reason'].value_counts()"
   ]
  },
  {
   "cell_type": "markdown",
   "id": "8afd94f1",
   "metadata": {},
   "source": [
    "**2.3. Определим сколько заказов в месяц в среднем не доставляется по разным причинам**"
   ]
  },
  {
   "cell_type": "code",
   "execution_count": 29,
   "id": "08858efd",
   "metadata": {},
   "outputs": [],
   "source": [
    "# Колонку с предполагаемой датой доставки переведем в тип datetime\n",
    "# введем колонки с предполагаемым месяцем и годом доставки\n",
    "not_delivered['order_estimated_delivery_date'] = pd.to_datetime(not_delivered['order_estimated_delivery_date'])\n",
    "not_delivered['order_estimated_delivery_month'] = not_delivered['order_estimated_delivery_date'].dt.month\n",
    "not_delivered['order_estimated_delivery_year'] = not_delivered['order_estimated_delivery_date'].dt.year"
   ]
  },
  {
   "cell_type": "code",
   "execution_count": 30,
   "id": "35d78a70",
   "metadata": {},
   "outputs": [
    {
     "name": "stdout",
     "output_type": "stream",
     "text": [
      "<class 'pandas.core.frame.DataFrame'>\n",
      "Int64Index: 1737 entries, 6 to 99313\n",
      "Data columns (total 12 columns):\n",
      " #   Column                          Non-Null Count  Dtype         \n",
      "---  ------                          --------------  -----         \n",
      " 0   order_id                        1737 non-null   object        \n",
      " 1   customer_id                     1737 non-null   object        \n",
      " 2   order_status                    1737 non-null   object        \n",
      " 3   order_purchase_timestamp        1737 non-null   datetime64[ns]\n",
      " 4   order_approved_at               1732 non-null   datetime64[ns]\n",
      " 5   order_delivered_carrier_date    1114 non-null   datetime64[ns]\n",
      " 6   order_delivered_customer_date   0 non-null      datetime64[ns]\n",
      " 7   order_estimated_delivery_date   1737 non-null   datetime64[ns]\n",
      " 8   in_items                        1737 non-null   int32         \n",
      " 9   reason                          1737 non-null   object        \n",
      " 10  order_estimated_delivery_month  1737 non-null   int64         \n",
      " 11  order_estimated_delivery_year   1737 non-null   int64         \n",
      "dtypes: datetime64[ns](5), int32(1), int64(2), object(4)\n",
      "memory usage: 169.6+ KB\n"
     ]
    }
   ],
   "source": [
    "# Проверка: order_estimated_delivery_date изменился тип данных на datetime\n",
    "# и добавлены 2 колонки с предполагаемыми годом и месяцем доставки, тип данных int\n",
    "not_delivered.info()"
   ]
  },
  {
   "cell_type": "code",
   "execution_count": 31,
   "id": "2b7be380",
   "metadata": {},
   "outputs": [],
   "source": [
    "# Количество недоставленных заказов с детализацией по причинам по месяцам\n",
    "monthly_reasons = not_delivered.groupby(['order_estimated_delivery_month', 'reason'], as_index=False)\\\n",
    "    .agg({'order_id': 'count'})\\\n",
    "    .rename(columns={'order_id': 'not_delivered_orders'})"
   ]
  },
  {
   "cell_type": "code",
   "execution_count": 32,
   "id": "3710d7f8",
   "metadata": {},
   "outputs": [
    {
     "name": "stdout",
     "output_type": "stream",
     "text": [
      "\u001b[1mСколько заказов в месяц в среднем не доставлено по разным причинам (по всем данным)\u001b[0m\n"
     ]
    },
    {
     "data": {
      "text/html": [
       "<div>\n",
       "<style scoped>\n",
       "    .dataframe tbody tr th:only-of-type {\n",
       "        vertical-align: middle;\n",
       "    }\n",
       "\n",
       "    .dataframe tbody tr th {\n",
       "        vertical-align: top;\n",
       "    }\n",
       "\n",
       "    .dataframe thead th {\n",
       "        text-align: right;\n",
       "    }\n",
       "</style>\n",
       "<table border=\"1\" class=\"dataframe\">\n",
       "  <thead>\n",
       "    <tr style=\"text-align: right;\">\n",
       "      <th></th>\n",
       "      <th>reason</th>\n",
       "      <th>mean_not_delivered_orders</th>\n",
       "    </tr>\n",
       "  </thead>\n",
       "  <tbody>\n",
       "    <tr>\n",
       "      <th>0</th>\n",
       "      <td>Возможно техническая ошибка, требутся провести более детальное исследование</td>\n",
       "      <td>2.600000</td>\n",
       "    </tr>\n",
       "    <tr>\n",
       "      <th>1</th>\n",
       "      <td>Нет на складе логистики, возможно информация об оплате не получена продавцом</td>\n",
       "      <td>26.333333</td>\n",
       "    </tr>\n",
       "    <tr>\n",
       "      <th>2</th>\n",
       "      <td>Нет на складе логистики. Продавец не предоставил заказ вовремя, возможно товара нет в наличии</td>\n",
       "      <td>25.083333</td>\n",
       "    </tr>\n",
       "    <tr>\n",
       "      <th>3</th>\n",
       "      <td>Проблема службы логистики. Заказ отгружен со склада, недоставлен до адреса покупателя вовремя</td>\n",
       "      <td>92.250000</td>\n",
       "    </tr>\n",
       "  </tbody>\n",
       "</table>\n",
       "</div>"
      ],
      "text/plain": [
       "                                                                                          reason  \\\n",
       "0  Возможно техническая ошибка, требутся провести более детальное исследование                     \n",
       "1  Нет на складе логистики, возможно информация об оплате не получена продавцом                    \n",
       "2  Нет на складе логистики. Продавец не предоставил заказ вовремя, возможно товара нет в наличии   \n",
       "3  Проблема службы логистики. Заказ отгружен со склада, недоставлен до адреса покупателя вовремя   \n",
       "\n",
       "   mean_not_delivered_orders  \n",
       "0  2.600000                   \n",
       "1  26.333333                  \n",
       "2  25.083333                  \n",
       "3  92.250000                  "
      ]
     },
     "execution_count": 32,
     "metadata": {},
     "output_type": "execute_result"
    }
   ],
   "source": [
    "# Сколько заказов в месяц в среднем не было доставлено по разным причинам по всем предоставленным данным\n",
    "mean_monthly = monthly_reasons.groupby('reason', as_index=False)['not_delivered_orders'].mean()\\\n",
    "    .rename(columns={'not_delivered_orders': 'mean_not_delivered_orders'})\n",
    "print('\\033[1m'+'Сколько заказов в месяц в среднем не доставлено по разным причинам (по всем данным)' + '\\033[0m')\n",
    "pd.set_option('display.max_colwidth', 0)\n",
    "mean_monthly"
   ]
  },
  {
   "cell_type": "markdown",
   "id": "673af74e",
   "metadata": {},
   "source": [
    "Поскольку в 2016 и 2018 гг данные представлены за неполный год, можно взять данные для ответа на вопрос за полный 2017 год."
   ]
  },
  {
   "cell_type": "code",
   "execution_count": 33,
   "id": "91d074ed",
   "metadata": {},
   "outputs": [],
   "source": [
    "not_delivered_2017 = not_delivered.query('order_estimated_delivery_year==2017')"
   ]
  },
  {
   "cell_type": "code",
   "execution_count": 34,
   "id": "af5df15f",
   "metadata": {},
   "outputs": [
    {
     "name": "stdout",
     "output_type": "stream",
     "text": [
      "\u001b[1mСколько заказов в месяц в среднем не доставлено по разным причинам за 2017 год\u001b[0m\n"
     ]
    },
    {
     "data": {
      "text/html": [
       "<div>\n",
       "<style scoped>\n",
       "    .dataframe tbody tr th:only-of-type {\n",
       "        vertical-align: middle;\n",
       "    }\n",
       "\n",
       "    .dataframe tbody tr th {\n",
       "        vertical-align: top;\n",
       "    }\n",
       "\n",
       "    .dataframe thead th {\n",
       "        text-align: right;\n",
       "    }\n",
       "</style>\n",
       "<table border=\"1\" class=\"dataframe\">\n",
       "  <thead>\n",
       "    <tr style=\"text-align: right;\">\n",
       "      <th></th>\n",
       "      <th>reason</th>\n",
       "      <th>mean_not_delivered_orders_2017</th>\n",
       "    </tr>\n",
       "  </thead>\n",
       "  <tbody>\n",
       "    <tr>\n",
       "      <th>0</th>\n",
       "      <td>Возможно техническая ошибка, требутся провести более детальное исследование</td>\n",
       "      <td>2.000000</td>\n",
       "    </tr>\n",
       "    <tr>\n",
       "      <th>1</th>\n",
       "      <td>Нет на складе логистики, возможно информация об оплате не получена продавцом</td>\n",
       "      <td>15.363636</td>\n",
       "    </tr>\n",
       "    <tr>\n",
       "      <th>2</th>\n",
       "      <td>Нет на складе логистики. Продавец не предоставил заказ вовремя, возможно товара нет в наличии</td>\n",
       "      <td>19.000000</td>\n",
       "    </tr>\n",
       "    <tr>\n",
       "      <th>3</th>\n",
       "      <td>Проблема службы логистики. Заказ отгружен со склада, недоставлен до адреса покупателя вовремя</td>\n",
       "      <td>44.272727</td>\n",
       "    </tr>\n",
       "  </tbody>\n",
       "</table>\n",
       "</div>"
      ],
      "text/plain": [
       "                                                                                          reason  \\\n",
       "0  Возможно техническая ошибка, требутся провести более детальное исследование                     \n",
       "1  Нет на складе логистики, возможно информация об оплате не получена продавцом                    \n",
       "2  Нет на складе логистики. Продавец не предоставил заказ вовремя, возможно товара нет в наличии   \n",
       "3  Проблема службы логистики. Заказ отгружен со склада, недоставлен до адреса покупателя вовремя   \n",
       "\n",
       "   mean_not_delivered_orders_2017  \n",
       "0  2.000000                        \n",
       "1  15.363636                       \n",
       "2  19.000000                       \n",
       "3  44.272727                       "
      ]
     },
     "execution_count": 34,
     "metadata": {},
     "output_type": "execute_result"
    }
   ],
   "source": [
    "monthly_reasons_2017 = not_delivered_2017.groupby(['order_estimated_delivery_month', 'reason'], as_index=False)\\\n",
    "    .agg({'order_id': 'count'})\\\n",
    "    .rename(columns={'order_id': 'not_delivered_orders'})\n",
    "mean_monthly_2017 = monthly_reasons_2017.groupby('reason', as_index=False)['not_delivered_orders'].mean()\\\n",
    "    .rename(columns={'not_delivered_orders': 'mean_not_delivered_orders_2017'})\n",
    "print('\\033[1m'+'Сколько заказов в месяц в среднем не доставлено по разным причинам за 2017 год' + '\\033[0m')\n",
    "mean_monthly_2017"
   ]
  },
  {
   "cell_type": "markdown",
   "id": "f3b50656",
   "metadata": {},
   "source": [
    "# 3. В какой день недели каждый вид товара чаще всего покупается."
   ]
  },
  {
   "cell_type": "code",
   "execution_count": 35,
   "id": "29049eb0",
   "metadata": {},
   "outputs": [],
   "source": [
    "# Создали колонку с названием дня недели\n",
    "confirmed_orders['dayweek_purchase'] = confirmed_orders['order_approved_at'].dt.day_name()"
   ]
  },
  {
   "cell_type": "code",
   "execution_count": 36,
   "id": "86c2afef",
   "metadata": {},
   "outputs": [
    {
     "data": {
      "text/html": [
       "<div>\n",
       "<style scoped>\n",
       "    .dataframe tbody tr th:only-of-type {\n",
       "        vertical-align: middle;\n",
       "    }\n",
       "\n",
       "    .dataframe tbody tr th {\n",
       "        vertical-align: top;\n",
       "    }\n",
       "\n",
       "    .dataframe thead th {\n",
       "        text-align: right;\n",
       "    }\n",
       "</style>\n",
       "<table border=\"1\" class=\"dataframe\">\n",
       "  <thead>\n",
       "    <tr style=\"text-align: right;\">\n",
       "      <th></th>\n",
       "      <th>order_id</th>\n",
       "      <th>order_item_id</th>\n",
       "      <th>product_id</th>\n",
       "      <th>seller_id</th>\n",
       "      <th>shipping_limit_date</th>\n",
       "      <th>price</th>\n",
       "      <th>freight_value</th>\n",
       "      <th>dayweek_purchase</th>\n",
       "    </tr>\n",
       "  </thead>\n",
       "  <tbody>\n",
       "    <tr>\n",
       "      <th>0</th>\n",
       "      <td>00010242fe8c5a6d1ba2dd792cb16214</td>\n",
       "      <td>1</td>\n",
       "      <td>4244733e06e7ecb4970a6e2683c13e61</td>\n",
       "      <td>48436dade18ac8b2bce089ec2a041202</td>\n",
       "      <td>2017-09-19 09:45:35</td>\n",
       "      <td>58.90</td>\n",
       "      <td>13.29</td>\n",
       "      <td>Wednesday</td>\n",
       "    </tr>\n",
       "    <tr>\n",
       "      <th>1</th>\n",
       "      <td>00018f77f2f0320c557190d7a144bdd3</td>\n",
       "      <td>1</td>\n",
       "      <td>e5f2d52b802189ee658865ca93d83a8f</td>\n",
       "      <td>dd7ddc04e1b6c2c614352b383efe2d36</td>\n",
       "      <td>2017-05-03 11:05:13</td>\n",
       "      <td>239.90</td>\n",
       "      <td>19.93</td>\n",
       "      <td>Wednesday</td>\n",
       "    </tr>\n",
       "    <tr>\n",
       "      <th>2</th>\n",
       "      <td>000229ec398224ef6ca0657da4fc703e</td>\n",
       "      <td>1</td>\n",
       "      <td>c777355d18b72b67abbeef9df44fd0fd</td>\n",
       "      <td>5b51032eddd242adc84c38acab88f23d</td>\n",
       "      <td>2018-01-18 14:48:30</td>\n",
       "      <td>199.00</td>\n",
       "      <td>17.87</td>\n",
       "      <td>Sunday</td>\n",
       "    </tr>\n",
       "    <tr>\n",
       "      <th>3</th>\n",
       "      <td>00024acbcdf0a6daa1e931b038114c75</td>\n",
       "      <td>1</td>\n",
       "      <td>7634da152a4610f1595efa32f14722fc</td>\n",
       "      <td>9d7a1d34a5052409006425275ba1c2b4</td>\n",
       "      <td>2018-08-15 10:10:18</td>\n",
       "      <td>12.99</td>\n",
       "      <td>12.79</td>\n",
       "      <td>Wednesday</td>\n",
       "    </tr>\n",
       "    <tr>\n",
       "      <th>4</th>\n",
       "      <td>00042b26cf59d7ce69dfabb4e55b4fd9</td>\n",
       "      <td>1</td>\n",
       "      <td>ac6c3623068f30de03045865e4e10089</td>\n",
       "      <td>df560393f3a51e74553ab94004ba5c87</td>\n",
       "      <td>2017-02-13 13:57:51</td>\n",
       "      <td>199.90</td>\n",
       "      <td>18.14</td>\n",
       "      <td>Saturday</td>\n",
       "    </tr>\n",
       "  </tbody>\n",
       "</table>\n",
       "</div>"
      ],
      "text/plain": [
       "                           order_id  order_item_id  \\\n",
       "0  00010242fe8c5a6d1ba2dd792cb16214  1               \n",
       "1  00018f77f2f0320c557190d7a144bdd3  1               \n",
       "2  000229ec398224ef6ca0657da4fc703e  1               \n",
       "3  00024acbcdf0a6daa1e931b038114c75  1               \n",
       "4  00042b26cf59d7ce69dfabb4e55b4fd9  1               \n",
       "\n",
       "                         product_id                         seller_id  \\\n",
       "0  4244733e06e7ecb4970a6e2683c13e61  48436dade18ac8b2bce089ec2a041202   \n",
       "1  e5f2d52b802189ee658865ca93d83a8f  dd7ddc04e1b6c2c614352b383efe2d36   \n",
       "2  c777355d18b72b67abbeef9df44fd0fd  5b51032eddd242adc84c38acab88f23d   \n",
       "3  7634da152a4610f1595efa32f14722fc  9d7a1d34a5052409006425275ba1c2b4   \n",
       "4  ac6c3623068f30de03045865e4e10089  df560393f3a51e74553ab94004ba5c87   \n",
       "\n",
       "   shipping_limit_date   price  freight_value dayweek_purchase  \n",
       "0  2017-09-19 09:45:35  58.90   13.29          Wednesday        \n",
       "1  2017-05-03 11:05:13  239.90  19.93          Wednesday        \n",
       "2  2018-01-18 14:48:30  199.00  17.87          Sunday           \n",
       "3  2018-08-15 10:10:18  12.99   12.79          Wednesday        \n",
       "4  2017-02-13 13:57:51  199.90  18.14          Saturday         "
      ]
     },
     "execution_count": 36,
     "metadata": {},
     "output_type": "execute_result"
    }
   ],
   "source": [
    "# присоединили к items дни недели покупки\n",
    "item_data = items.merge(confirmed_orders[['dayweek_purchase', 'order_id']], on='order_id', how='left')\n",
    "item_data.head()"
   ]
  },
  {
   "cell_type": "code",
   "execution_count": 37,
   "id": "f304c209",
   "metadata": {},
   "outputs": [
    {
     "data": {
      "text/plain": [
       "(564, 8)"
      ]
     },
     "execution_count": 37,
     "metadata": {},
     "output_type": "execute_result"
    }
   ],
   "source": [
    "# Отфильтровали данные, у которых не заполнился день недели\n",
    "not_day = item_data[item_data['dayweek_purchase'].isna()]\n",
    "not_day.shape"
   ]
  },
  {
   "cell_type": "markdown",
   "id": "381bc7b6",
   "metadata": {},
   "source": [
    "У 564 заказов не заполнися день покупки. Возможно это отмененные заказы. Для проверки к таблице с незаполненными днями присоединяем информацию об оплате и статусе"
   ]
  },
  {
   "cell_type": "code",
   "execution_count": 38,
   "id": "92efe36b",
   "metadata": {},
   "outputs": [
    {
     "data": {
      "text/plain": [
       "canceled       542\n",
       "delivered      15 \n",
       "unavailable    7  \n",
       "Name: order_status, dtype: int64"
      ]
     },
     "execution_count": 38,
     "metadata": {},
     "output_type": "execute_result"
    }
   ],
   "source": [
    "not_day_status = not_day.merge(orders[['order_status', 'order_approved_at', 'order_id']], on='order_id', how='left')\n",
    "not_day_status.order_status.value_counts()"
   ]
  },
  {
   "cell_type": "code",
   "execution_count": 39,
   "id": "4c750080",
   "metadata": {},
   "outputs": [
    {
     "data": {
      "text/plain": [
       "order_id               0  \n",
       "order_item_id          0  \n",
       "product_id             0  \n",
       "seller_id              0  \n",
       "shipping_limit_date    0  \n",
       "price                  0  \n",
       "freight_value          0  \n",
       "dayweek_purchase       564\n",
       "order_status           0  \n",
       "order_approved_at      15 \n",
       "dtype: int64"
      ]
     },
     "execution_count": 39,
     "metadata": {},
     "output_type": "execute_result"
    }
   ],
   "source": [
    "not_day_status.isna().sum()"
   ]
  },
  {
   "cell_type": "markdown",
   "id": "346b874a",
   "metadata": {},
   "source": [
    "Из 564 заказов, у которых не указан день покупки:542 отменены, 15 не оплачены, 7 недоступны "
   ]
  },
  {
   "cell_type": "code",
   "execution_count": 40,
   "id": "56c73510",
   "metadata": {},
   "outputs": [
    {
     "data": {
      "text/plain": [
       "564"
      ]
     },
     "execution_count": 40,
     "metadata": {},
     "output_type": "execute_result"
    }
   ],
   "source": [
    "# Из данных о товарах удалим заказы без дня покупки\n",
    "clean_items = item_data.dropna(subset=['dayweek_purchase'])\n",
    "# Проверка: 564 отмененных и неоплаченных заказов удалены\n",
    "len(item_data)-len(clean_items)"
   ]
  },
  {
   "cell_type": "code",
   "execution_count": 41,
   "id": "c40ffe38",
   "metadata": {},
   "outputs": [
    {
     "data": {
      "text/html": [
       "<div>\n",
       "<style scoped>\n",
       "    .dataframe tbody tr th:only-of-type {\n",
       "        vertical-align: middle;\n",
       "    }\n",
       "\n",
       "    .dataframe tbody tr th {\n",
       "        vertical-align: top;\n",
       "    }\n",
       "\n",
       "    .dataframe thead th {\n",
       "        text-align: right;\n",
       "    }\n",
       "</style>\n",
       "<table border=\"1\" class=\"dataframe\">\n",
       "  <thead>\n",
       "    <tr style=\"text-align: right;\">\n",
       "      <th></th>\n",
       "      <th>product_id</th>\n",
       "      <th>dayweek_purchase</th>\n",
       "      <th>amount_of_orders</th>\n",
       "    </tr>\n",
       "  </thead>\n",
       "  <tbody>\n",
       "    <tr>\n",
       "      <th>0</th>\n",
       "      <td>00066f42aeeb9f3007548bb9d3f33c38</td>\n",
       "      <td>Sunday</td>\n",
       "      <td>1</td>\n",
       "    </tr>\n",
       "    <tr>\n",
       "      <th>1</th>\n",
       "      <td>00088930e925c41fd95ebfe695fd2655</td>\n",
       "      <td>Tuesday</td>\n",
       "      <td>1</td>\n",
       "    </tr>\n",
       "    <tr>\n",
       "      <th>2</th>\n",
       "      <td>0009406fd7479715e4bef61dd91f2462</td>\n",
       "      <td>Friday</td>\n",
       "      <td>1</td>\n",
       "    </tr>\n",
       "    <tr>\n",
       "      <th>3</th>\n",
       "      <td>000b8f95fcb9e0096488278317764d19</td>\n",
       "      <td>Friday</td>\n",
       "      <td>1</td>\n",
       "    </tr>\n",
       "    <tr>\n",
       "      <th>4</th>\n",
       "      <td>000b8f95fcb9e0096488278317764d19</td>\n",
       "      <td>Wednesday</td>\n",
       "      <td>1</td>\n",
       "    </tr>\n",
       "  </tbody>\n",
       "</table>\n",
       "</div>"
      ],
      "text/plain": [
       "                         product_id dayweek_purchase  amount_of_orders\n",
       "0  00066f42aeeb9f3007548bb9d3f33c38  Sunday           1               \n",
       "1  00088930e925c41fd95ebfe695fd2655  Tuesday          1               \n",
       "2  0009406fd7479715e4bef61dd91f2462  Friday           1               \n",
       "3  000b8f95fcb9e0096488278317764d19  Friday           1               \n",
       "4  000b8f95fcb9e0096488278317764d19  Wednesday        1               "
      ]
     },
     "execution_count": 41,
     "metadata": {},
     "output_type": "execute_result"
    }
   ],
   "source": [
    "# По каждому товару посчитали по дням недели сколько раз он был куплен в этот день\n",
    "day_item = clean_items.groupby('product_id')['dayweek_purchase'].value_counts()\\\n",
    "    .to_frame()\\\n",
    "    .rename(columns={'dayweek_purchase': 'amount_of_orders'})\\\n",
    "    .reset_index()\n",
    "day_item.head()"
   ]
  },
  {
   "cell_type": "code",
   "execution_count": 42,
   "id": "ca8bd330",
   "metadata": {},
   "outputs": [],
   "source": [
    "# По каждому товару определили день недели, в который он покупался чаще всего\n",
    "day_item['max_day'] = day_item.groupby('product_id')['amount_of_orders'].transform('max') == day_item['amount_of_orders']"
   ]
  },
  {
   "cell_type": "code",
   "execution_count": 43,
   "id": "fce1094b",
   "metadata": {},
   "outputs": [],
   "source": [
    "# Выбрали данные где количество сделанных покупок по каждому товару равно максимальному\n",
    "max_day_item = day_item.query('max_day==True')"
   ]
  },
  {
   "cell_type": "markdown",
   "id": "1934fac4",
   "metadata": {},
   "source": [
    "Проверка: Например выберем данные по одному товару, который был куплен во вторник 3 раза и по одному разу в четверг и пятницу.\n",
    "Вторник помечен как день с максимальным количеством заказов на данный товар"
   ]
  },
  {
   "cell_type": "code",
   "execution_count": 44,
   "id": "b8998a93",
   "metadata": {},
   "outputs": [
    {
     "data": {
      "text/html": [
       "<div>\n",
       "<style scoped>\n",
       "    .dataframe tbody tr th:only-of-type {\n",
       "        vertical-align: middle;\n",
       "    }\n",
       "\n",
       "    .dataframe tbody tr th {\n",
       "        vertical-align: top;\n",
       "    }\n",
       "\n",
       "    .dataframe thead th {\n",
       "        text-align: right;\n",
       "    }\n",
       "</style>\n",
       "<table border=\"1\" class=\"dataframe\">\n",
       "  <thead>\n",
       "    <tr style=\"text-align: right;\">\n",
       "      <th></th>\n",
       "      <th>product_id</th>\n",
       "      <th>dayweek_purchase</th>\n",
       "      <th>amount_of_orders</th>\n",
       "      <th>max_day</th>\n",
       "    </tr>\n",
       "  </thead>\n",
       "  <tbody>\n",
       "    <tr>\n",
       "      <th>60789</th>\n",
       "      <td>fffdb2d0ec8d6a61f0a0a0db3f25b441</td>\n",
       "      <td>Tuesday</td>\n",
       "      <td>3</td>\n",
       "      <td>True</td>\n",
       "    </tr>\n",
       "    <tr>\n",
       "      <th>60790</th>\n",
       "      <td>fffdb2d0ec8d6a61f0a0a0db3f25b441</td>\n",
       "      <td>Friday</td>\n",
       "      <td>1</td>\n",
       "      <td>False</td>\n",
       "    </tr>\n",
       "    <tr>\n",
       "      <th>60791</th>\n",
       "      <td>fffdb2d0ec8d6a61f0a0a0db3f25b441</td>\n",
       "      <td>Thursday</td>\n",
       "      <td>1</td>\n",
       "      <td>False</td>\n",
       "    </tr>\n",
       "  </tbody>\n",
       "</table>\n",
       "</div>"
      ],
      "text/plain": [
       "                             product_id dayweek_purchase  amount_of_orders  \\\n",
       "60789  fffdb2d0ec8d6a61f0a0a0db3f25b441  Tuesday          3                  \n",
       "60790  fffdb2d0ec8d6a61f0a0a0db3f25b441  Friday           1                  \n",
       "60791  fffdb2d0ec8d6a61f0a0a0db3f25b441  Thursday         1                  \n",
       "\n",
       "       max_day  \n",
       "60789  True     \n",
       "60790  False    \n",
       "60791  False    "
      ]
     },
     "execution_count": 44,
     "metadata": {},
     "output_type": "execute_result"
    }
   ],
   "source": [
    "day_item.query('product_id==\"fffdb2d0ec8d6a61f0a0a0db3f25b441\"')"
   ]
  },
  {
   "cell_type": "markdown",
   "id": "d65b8199",
   "metadata": {},
   "source": [
    "В отфильтрованных данных `max_day_item` отражен день, только с максимальным количеством заказов"
   ]
  },
  {
   "cell_type": "code",
   "execution_count": 45,
   "id": "a2bdefd4",
   "metadata": {},
   "outputs": [
    {
     "data": {
      "text/html": [
       "<div>\n",
       "<style scoped>\n",
       "    .dataframe tbody tr th:only-of-type {\n",
       "        vertical-align: middle;\n",
       "    }\n",
       "\n",
       "    .dataframe tbody tr th {\n",
       "        vertical-align: top;\n",
       "    }\n",
       "\n",
       "    .dataframe thead th {\n",
       "        text-align: right;\n",
       "    }\n",
       "</style>\n",
       "<table border=\"1\" class=\"dataframe\">\n",
       "  <thead>\n",
       "    <tr style=\"text-align: right;\">\n",
       "      <th></th>\n",
       "      <th>product_id</th>\n",
       "      <th>dayweek_purchase</th>\n",
       "      <th>amount_of_orders</th>\n",
       "      <th>max_day</th>\n",
       "    </tr>\n",
       "  </thead>\n",
       "  <tbody>\n",
       "    <tr>\n",
       "      <th>60789</th>\n",
       "      <td>fffdb2d0ec8d6a61f0a0a0db3f25b441</td>\n",
       "      <td>Tuesday</td>\n",
       "      <td>3</td>\n",
       "      <td>True</td>\n",
       "    </tr>\n",
       "  </tbody>\n",
       "</table>\n",
       "</div>"
      ],
      "text/plain": [
       "                             product_id dayweek_purchase  amount_of_orders  \\\n",
       "60789  fffdb2d0ec8d6a61f0a0a0db3f25b441  Tuesday          3                  \n",
       "\n",
       "       max_day  \n",
       "60789  True     "
      ]
     },
     "execution_count": 45,
     "metadata": {},
     "output_type": "execute_result"
    }
   ],
   "source": [
    "max_day_item.query('product_id==\"fffdb2d0ec8d6a61f0a0a0db3f25b441\"')"
   ]
  },
  {
   "cell_type": "markdown",
   "id": "34616406",
   "metadata": {},
   "source": [
    "В случае, если бы у каждого продукта был бы один явный максимальный день, то количество уникальных `product_id` равнялось бы количеству строк таблицы с днем максимальных продаж для каждого продукта `max_day_item`"
   ]
  },
  {
   "cell_type": "code",
   "execution_count": 46,
   "id": "8f07d681",
   "metadata": {},
   "outputs": [
    {
     "name": "stdout",
     "output_type": "stream",
     "text": [
      "32726 количество уникальных продуктов в базе\n",
      "42345 количество строк таблицы с днем максимальных продаж для каждого продукта\n"
     ]
    }
   ],
   "source": [
    "print(clean_items['product_id'].nunique(), 'количество уникальных продуктов в базе')\n",
    "print(len(max_day_item), 'количество строк таблицы с днем максимальных продаж для каждого продукта')"
   ]
  },
  {
   "cell_type": "markdown",
   "id": "dfd642c3",
   "metadata": {},
   "source": [
    "Поскольку количество строк `max_day_item` больше чем уникальных продуктов, значит у каких-то продуктов по некоторым дням одинаковое количество продаж. В полученной таблице некоторые id продуктов повторяются до шести раз."
   ]
  },
  {
   "cell_type": "code",
   "execution_count": 47,
   "id": "74104968",
   "metadata": {},
   "outputs": [
    {
     "data": {
      "text/html": [
       "<div>\n",
       "<style scoped>\n",
       "    .dataframe tbody tr th:only-of-type {\n",
       "        vertical-align: middle;\n",
       "    }\n",
       "\n",
       "    .dataframe tbody tr th {\n",
       "        vertical-align: top;\n",
       "    }\n",
       "\n",
       "    .dataframe thead th {\n",
       "        text-align: right;\n",
       "    }\n",
       "</style>\n",
       "<table border=\"1\" class=\"dataframe\">\n",
       "  <thead>\n",
       "    <tr style=\"text-align: right;\">\n",
       "      <th></th>\n",
       "      <th>product_id</th>\n",
       "    </tr>\n",
       "  </thead>\n",
       "  <tbody>\n",
       "    <tr>\n",
       "      <th>6e40985ec667ded54668d2b70a7aa0a2</th>\n",
       "      <td>6</td>\n",
       "    </tr>\n",
       "    <tr>\n",
       "      <th>8a8d870b168dfa470a5f28efab92145d</th>\n",
       "      <td>6</td>\n",
       "    </tr>\n",
       "    <tr>\n",
       "      <th>162e010af9fe224d35fd8496a273fb02</th>\n",
       "      <td>6</td>\n",
       "    </tr>\n",
       "    <tr>\n",
       "      <th>8920f1824cd68512eb6fb0b0f41004bf</th>\n",
       "      <td>6</td>\n",
       "    </tr>\n",
       "    <tr>\n",
       "      <th>1a7d1ce0dddfef9f6f2ed280798fd9bb</th>\n",
       "      <td>6</td>\n",
       "    </tr>\n",
       "    <tr>\n",
       "      <th>80d3aeff2ab6c9d795010c029dbd5ddd</th>\n",
       "      <td>6</td>\n",
       "    </tr>\n",
       "    <tr>\n",
       "      <th>33ab88b1e48538d846cd26ea55d34108</th>\n",
       "      <td>6</td>\n",
       "    </tr>\n",
       "    <tr>\n",
       "      <th>79d2c1de4aaac73cf031b5e1f03a68aa</th>\n",
       "      <td>6</td>\n",
       "    </tr>\n",
       "    <tr>\n",
       "      <th>007c63ae4b346920756b5adcad8095de</th>\n",
       "      <td>6</td>\n",
       "    </tr>\n",
       "    <tr>\n",
       "      <th>7aeaa8f3e592e380c420e8910a717255</th>\n",
       "      <td>6</td>\n",
       "    </tr>\n",
       "  </tbody>\n",
       "</table>\n",
       "</div>"
      ],
      "text/plain": [
       "                                  product_id\n",
       "6e40985ec667ded54668d2b70a7aa0a2  6         \n",
       "8a8d870b168dfa470a5f28efab92145d  6         \n",
       "162e010af9fe224d35fd8496a273fb02  6         \n",
       "8920f1824cd68512eb6fb0b0f41004bf  6         \n",
       "1a7d1ce0dddfef9f6f2ed280798fd9bb  6         \n",
       "80d3aeff2ab6c9d795010c029dbd5ddd  6         \n",
       "33ab88b1e48538d846cd26ea55d34108  6         \n",
       "79d2c1de4aaac73cf031b5e1f03a68aa  6         \n",
       "007c63ae4b346920756b5adcad8095de  6         \n",
       "7aeaa8f3e592e380c420e8910a717255  6         "
      ]
     },
     "execution_count": 47,
     "metadata": {},
     "output_type": "execute_result"
    }
   ],
   "source": [
    "max_day_item['product_id'].value_counts().to_frame()\\\n",
    "    .query('product_id>1')\\\n",
    "    .head(10)"
   ]
  },
  {
   "cell_type": "markdown",
   "id": "ad35236e",
   "metadata": {},
   "source": [
    "Для примера возьмем продукт, который повторяется в `max_day_item` больше одного раза. 6 дней: Вт,Ср, Чт, Пт, Сб, Вс, этот продукт продавался по одному разу, выделить один максимальный день недели невозможно"
   ]
  },
  {
   "cell_type": "code",
   "execution_count": 48,
   "id": "736e9e67",
   "metadata": {},
   "outputs": [
    {
     "data": {
      "text/html": [
       "<div>\n",
       "<style scoped>\n",
       "    .dataframe tbody tr th:only-of-type {\n",
       "        vertical-align: middle;\n",
       "    }\n",
       "\n",
       "    .dataframe tbody tr th {\n",
       "        vertical-align: top;\n",
       "    }\n",
       "\n",
       "    .dataframe thead th {\n",
       "        text-align: right;\n",
       "    }\n",
       "</style>\n",
       "<table border=\"1\" class=\"dataframe\">\n",
       "  <thead>\n",
       "    <tr style=\"text-align: right;\">\n",
       "      <th></th>\n",
       "      <th>product_id</th>\n",
       "      <th>dayweek_purchase</th>\n",
       "      <th>amount_of_orders</th>\n",
       "      <th>max_day</th>\n",
       "    </tr>\n",
       "  </thead>\n",
       "  <tbody>\n",
       "    <tr>\n",
       "      <th>84</th>\n",
       "      <td>007c63ae4b346920756b5adcad8095de</td>\n",
       "      <td>Friday</td>\n",
       "      <td>1</td>\n",
       "      <td>True</td>\n",
       "    </tr>\n",
       "    <tr>\n",
       "      <th>85</th>\n",
       "      <td>007c63ae4b346920756b5adcad8095de</td>\n",
       "      <td>Saturday</td>\n",
       "      <td>1</td>\n",
       "      <td>True</td>\n",
       "    </tr>\n",
       "    <tr>\n",
       "      <th>86</th>\n",
       "      <td>007c63ae4b346920756b5adcad8095de</td>\n",
       "      <td>Sunday</td>\n",
       "      <td>1</td>\n",
       "      <td>True</td>\n",
       "    </tr>\n",
       "    <tr>\n",
       "      <th>87</th>\n",
       "      <td>007c63ae4b346920756b5adcad8095de</td>\n",
       "      <td>Thursday</td>\n",
       "      <td>1</td>\n",
       "      <td>True</td>\n",
       "    </tr>\n",
       "    <tr>\n",
       "      <th>88</th>\n",
       "      <td>007c63ae4b346920756b5adcad8095de</td>\n",
       "      <td>Tuesday</td>\n",
       "      <td>1</td>\n",
       "      <td>True</td>\n",
       "    </tr>\n",
       "    <tr>\n",
       "      <th>89</th>\n",
       "      <td>007c63ae4b346920756b5adcad8095de</td>\n",
       "      <td>Wednesday</td>\n",
       "      <td>1</td>\n",
       "      <td>True</td>\n",
       "    </tr>\n",
       "  </tbody>\n",
       "</table>\n",
       "</div>"
      ],
      "text/plain": [
       "                          product_id dayweek_purchase  amount_of_orders  \\\n",
       "84  007c63ae4b346920756b5adcad8095de  Friday           1                  \n",
       "85  007c63ae4b346920756b5adcad8095de  Saturday         1                  \n",
       "86  007c63ae4b346920756b5adcad8095de  Sunday           1                  \n",
       "87  007c63ae4b346920756b5adcad8095de  Thursday         1                  \n",
       "88  007c63ae4b346920756b5adcad8095de  Tuesday          1                  \n",
       "89  007c63ae4b346920756b5adcad8095de  Wednesday        1                  \n",
       "\n",
       "    max_day  \n",
       "84  True     \n",
       "85  True     \n",
       "86  True     \n",
       "87  True     \n",
       "88  True     \n",
       "89  True     "
      ]
     },
     "execution_count": 48,
     "metadata": {},
     "output_type": "execute_result"
    }
   ],
   "source": [
    "max_day_item.query('product_id==\"007c63ae4b346920756b5adcad8095de\"')"
   ]
  },
  {
   "cell_type": "markdown",
   "id": "4ca1792f",
   "metadata": {},
   "source": [
    "Для товаров, у которых количество продаж по нескольким дням недели равно максимальному, дни недели выведем списком"
   ]
  },
  {
   "cell_type": "code",
   "execution_count": 49,
   "id": "c40337e0",
   "metadata": {},
   "outputs": [
    {
     "data": {
      "text/html": [
       "<div>\n",
       "<style scoped>\n",
       "    .dataframe tbody tr th:only-of-type {\n",
       "        vertical-align: middle;\n",
       "    }\n",
       "\n",
       "    .dataframe tbody tr th {\n",
       "        vertical-align: top;\n",
       "    }\n",
       "\n",
       "    .dataframe thead th {\n",
       "        text-align: right;\n",
       "    }\n",
       "</style>\n",
       "<table border=\"1\" class=\"dataframe\">\n",
       "  <thead>\n",
       "    <tr style=\"text-align: right;\">\n",
       "      <th></th>\n",
       "      <th>product_id</th>\n",
       "      <th>amount_of_orders</th>\n",
       "      <th>dayweek_purchase</th>\n",
       "    </tr>\n",
       "  </thead>\n",
       "  <tbody>\n",
       "    <tr>\n",
       "      <th>0</th>\n",
       "      <td>00066f42aeeb9f3007548bb9d3f33c38</td>\n",
       "      <td>1</td>\n",
       "      <td>Sunday</td>\n",
       "    </tr>\n",
       "    <tr>\n",
       "      <th>1</th>\n",
       "      <td>00088930e925c41fd95ebfe695fd2655</td>\n",
       "      <td>1</td>\n",
       "      <td>Tuesday</td>\n",
       "    </tr>\n",
       "    <tr>\n",
       "      <th>2</th>\n",
       "      <td>0009406fd7479715e4bef61dd91f2462</td>\n",
       "      <td>1</td>\n",
       "      <td>Friday</td>\n",
       "    </tr>\n",
       "    <tr>\n",
       "      <th>3</th>\n",
       "      <td>000b8f95fcb9e0096488278317764d19</td>\n",
       "      <td>1</td>\n",
       "      <td>Friday, Wednesday</td>\n",
       "    </tr>\n",
       "    <tr>\n",
       "      <th>4</th>\n",
       "      <td>000d9be29b5207b54e86aa1b1ac54872</td>\n",
       "      <td>1</td>\n",
       "      <td>Tuesday</td>\n",
       "    </tr>\n",
       "  </tbody>\n",
       "</table>\n",
       "</div>"
      ],
      "text/plain": [
       "                         product_id  amount_of_orders   dayweek_purchase\n",
       "0  00066f42aeeb9f3007548bb9d3f33c38  1                 Sunday           \n",
       "1  00088930e925c41fd95ebfe695fd2655  1                 Tuesday          \n",
       "2  0009406fd7479715e4bef61dd91f2462  1                 Friday           \n",
       "3  000b8f95fcb9e0096488278317764d19  1                 Friday, Wednesday\n",
       "4  000d9be29b5207b54e86aa1b1ac54872  1                 Tuesday          "
      ]
     },
     "execution_count": 49,
     "metadata": {},
     "output_type": "execute_result"
    }
   ],
   "source": [
    "best_days = max_day_item.groupby(['product_id', 'amount_of_orders'], as_index=False).agg({'dayweek_purchase': pd.Series.to_list})\n",
    "best_days['dayweek_purchase'] = best_days.dayweek_purchase.apply(lambda x: ', '.join(x))\n",
    "best_days.head()"
   ]
  },
  {
   "cell_type": "code",
   "execution_count": 50,
   "id": "9c24af99",
   "metadata": {},
   "outputs": [
    {
     "data": {
      "text/html": [
       "<div>\n",
       "<style scoped>\n",
       "    .dataframe tbody tr th:only-of-type {\n",
       "        vertical-align: middle;\n",
       "    }\n",
       "\n",
       "    .dataframe tbody tr th {\n",
       "        vertical-align: top;\n",
       "    }\n",
       "\n",
       "    .dataframe thead th {\n",
       "        text-align: right;\n",
       "    }\n",
       "</style>\n",
       "<table border=\"1\" class=\"dataframe\">\n",
       "  <thead>\n",
       "    <tr style=\"text-align: right;\">\n",
       "      <th></th>\n",
       "      <th>product_id</th>\n",
       "      <th>amount_of_orders</th>\n",
       "      <th>dayweek_purchase</th>\n",
       "    </tr>\n",
       "  </thead>\n",
       "  <tbody>\n",
       "    <tr>\n",
       "      <th>50</th>\n",
       "      <td>007c63ae4b346920756b5adcad8095de</td>\n",
       "      <td>1</td>\n",
       "      <td>Friday, Saturday, Sunday, Thursday, Tuesday, Wednesday</td>\n",
       "    </tr>\n",
       "  </tbody>\n",
       "</table>\n",
       "</div>"
      ],
      "text/plain": [
       "                          product_id  amount_of_orders  \\\n",
       "50  007c63ae4b346920756b5adcad8095de  1                  \n",
       "\n",
       "                                          dayweek_purchase  \n",
       "50  Friday, Saturday, Sunday, Thursday, Tuesday, Wednesday  "
      ]
     },
     "execution_count": 50,
     "metadata": {},
     "output_type": "execute_result"
    }
   ],
   "source": [
    "# Проверка товара с одной продажей 6 дней\n",
    "best_days.query('product_id==\"007c63ae4b346920756b5adcad8095de\"')"
   ]
  },
  {
   "cell_type": "code",
   "execution_count": 51,
   "id": "53e32c1e",
   "metadata": {},
   "outputs": [
    {
     "name": "stdout",
     "output_type": "stream",
     "text": [
      "32726 количество уникальных продуктов в базе\n",
      "32726 количество строк таблицы с днем максимальных продаж для каждого продукта\n"
     ]
    }
   ],
   "source": [
    "# Проверка: количество уникальных id товаров совпадает с количеством строк полученной таблицы\n",
    "print(clean_items['product_id'].nunique(), 'количество уникальных продуктов в базе')\n",
    "print(len(best_days), 'количество строк таблицы с днем максимальных продаж для каждого продукта')"
   ]
  },
  {
   "cell_type": "code",
   "execution_count": 52,
   "id": "22c7f42e",
   "metadata": {},
   "outputs": [
    {
     "name": "stdout",
     "output_type": "stream",
     "text": [
      "\u001b[1mДни недели максимальных продаж по каждому товару\u001b[0m\n",
      "\u001b[4mУчесть, что есть товары, с одинаковым количеством проданных товаров по некоторым дням\u001b[0m\n"
     ]
    },
    {
     "data": {
      "text/html": [
       "<div>\n",
       "<style scoped>\n",
       "    .dataframe tbody tr th:only-of-type {\n",
       "        vertical-align: middle;\n",
       "    }\n",
       "\n",
       "    .dataframe tbody tr th {\n",
       "        vertical-align: top;\n",
       "    }\n",
       "\n",
       "    .dataframe thead th {\n",
       "        text-align: right;\n",
       "    }\n",
       "</style>\n",
       "<table border=\"1\" class=\"dataframe\">\n",
       "  <thead>\n",
       "    <tr style=\"text-align: right;\">\n",
       "      <th></th>\n",
       "      <th>product_id</th>\n",
       "      <th>amount_of_orders</th>\n",
       "      <th>dayweek_purchase</th>\n",
       "    </tr>\n",
       "  </thead>\n",
       "  <tbody>\n",
       "    <tr>\n",
       "      <th>21957</th>\n",
       "      <td>aca2eb7d00ea1a7b8ebd4e68314663af</td>\n",
       "      <td>119</td>\n",
       "      <td>Tuesday</td>\n",
       "    </tr>\n",
       "    <tr>\n",
       "      <th>10787</th>\n",
       "      <td>53b36df67ebb7c41585e8d54d6772e08</td>\n",
       "      <td>105</td>\n",
       "      <td>Tuesday</td>\n",
       "    </tr>\n",
       "    <tr>\n",
       "      <th>8553</th>\n",
       "      <td>422879e10f46682990de24d770e7f83d</td>\n",
       "      <td>89</td>\n",
       "      <td>Tuesday</td>\n",
       "    </tr>\n",
       "    <tr>\n",
       "      <th>19597</th>\n",
       "      <td>99a4788cb24856965c36a24e339b6058</td>\n",
       "      <td>82</td>\n",
       "      <td>Tuesday</td>\n",
       "    </tr>\n",
       "    <tr>\n",
       "      <th>7032</th>\n",
       "      <td>368c6c730842d78016ad823897a372db</td>\n",
       "      <td>80</td>\n",
       "      <td>Thursday</td>\n",
       "    </tr>\n",
       "  </tbody>\n",
       "</table>\n",
       "</div>"
      ],
      "text/plain": [
       "                             product_id  amount_of_orders dayweek_purchase\n",
       "21957  aca2eb7d00ea1a7b8ebd4e68314663af  119               Tuesday        \n",
       "10787  53b36df67ebb7c41585e8d54d6772e08  105               Tuesday        \n",
       "8553   422879e10f46682990de24d770e7f83d  89                Tuesday        \n",
       "19597  99a4788cb24856965c36a24e339b6058  82                Tuesday        \n",
       "7032   368c6c730842d78016ad823897a372db  80                Thursday       "
      ]
     },
     "execution_count": 52,
     "metadata": {},
     "output_type": "execute_result"
    }
   ],
   "source": [
    "print('\\033[1m' + 'Дни недели максимальных продаж по каждому товару' + '\\033[0m')\n",
    "print('\\033[4m' + 'Учесть, что есть товары, с одинаковым количеством проданных товаров по некоторым дням' + '\\033[0m')\n",
    "best_days.sort_values(by='amount_of_orders', ascending=False).head()"
   ]
  },
  {
   "cell_type": "markdown",
   "id": "a7b3ac98",
   "metadata": {},
   "source": [
    "# 4. Сколько у каждого из пользователей в среднем покупок в неделю (по месяцам)"
   ]
  },
  {
   "cell_type": "markdown",
   "id": "ba2d2be2",
   "metadata": {},
   "source": [
    "Для того чтобы посчитать для каждого пользователя по месяцам среднее количество покупок в неделю, нужно по каждому пользователю общее количество покупок за месяц поделить на количество недель в месяце"
   ]
  },
  {
   "cell_type": "code",
   "execution_count": 53,
   "id": "f231234d",
   "metadata": {},
   "outputs": [],
   "source": [
    "# Дату оплаты переведем в формат datetime\n",
    "order_customer_data['order_approved_at'] = pd.to_datetime(order_customer_data['order_approved_at'])\n",
    "# выделим месяц и год в отдельные колонки\n",
    "order_customer_data['month_of_purchases'] = order_customer_data['order_approved_at'].dt.month\n",
    "order_customer_data['year_of_purchases'] = order_customer_data['order_approved_at'].dt.year"
   ]
  },
  {
   "cell_type": "code",
   "execution_count": 54,
   "id": "99983745",
   "metadata": {},
   "outputs": [
    {
     "name": "stdout",
     "output_type": "stream",
     "text": [
      "<class 'pandas.core.frame.DataFrame'>\n",
      "Int64Index: 98207 entries, 0 to 98206\n",
      "Data columns (total 12 columns):\n",
      " #   Column                         Non-Null Count  Dtype         \n",
      "---  ------                         --------------  -----         \n",
      " 0   order_id                       98207 non-null  object        \n",
      " 1   customer_id                    98207 non-null  object        \n",
      " 2   order_status                   98207 non-null  object        \n",
      " 3   order_purchase_timestamp       98207 non-null  datetime64[ns]\n",
      " 4   order_approved_at              98188 non-null  datetime64[ns]\n",
      " 5   order_delivered_carrier_date   97583 non-null  datetime64[ns]\n",
      " 6   order_delivered_customer_date  96470 non-null  datetime64[ns]\n",
      " 7   order_estimated_delivery_date  98207 non-null  datetime64[ns]\n",
      " 8   in_items                       98207 non-null  int32         \n",
      " 9   customer_unique_id             98207 non-null  object        \n",
      " 10  month_of_purchases             98188 non-null  float64       \n",
      " 11  year_of_purchases              98188 non-null  float64       \n",
      "dtypes: datetime64[ns](5), float64(2), int32(1), object(4)\n",
      "memory usage: 9.4+ MB\n"
     ]
    }
   ],
   "source": [
    "order_customer_data.info()"
   ]
  },
  {
   "cell_type": "markdown",
   "id": "1e0cb324",
   "metadata": {},
   "source": [
    "Рассмотрим данные за год, для этого отберем 2017 год, так как за этот год есть информация за полный год"
   ]
  },
  {
   "cell_type": "code",
   "execution_count": 55,
   "id": "96d5fa99",
   "metadata": {},
   "outputs": [
    {
     "data": {
      "text/html": [
       "<div>\n",
       "<style scoped>\n",
       "    .dataframe tbody tr th:only-of-type {\n",
       "        vertical-align: middle;\n",
       "    }\n",
       "\n",
       "    .dataframe tbody tr th {\n",
       "        vertical-align: top;\n",
       "    }\n",
       "\n",
       "    .dataframe thead th {\n",
       "        text-align: right;\n",
       "    }\n",
       "</style>\n",
       "<table border=\"1\" class=\"dataframe\">\n",
       "  <thead>\n",
       "    <tr style=\"text-align: right;\">\n",
       "      <th></th>\n",
       "      <th>customer_unique_id</th>\n",
       "      <th>month_of_purchases</th>\n",
       "      <th>total_purchases</th>\n",
       "    </tr>\n",
       "  </thead>\n",
       "  <tbody>\n",
       "    <tr>\n",
       "      <th>23988</th>\n",
       "      <td>8d50f5eadf50201ccdcedfb9e2ac8455</td>\n",
       "      <td>5.0</td>\n",
       "      <td>1</td>\n",
       "    </tr>\n",
       "    <tr>\n",
       "      <th>23989</th>\n",
       "      <td>8d50f5eadf50201ccdcedfb9e2ac8455</td>\n",
       "      <td>6.0</td>\n",
       "      <td>1</td>\n",
       "    </tr>\n",
       "    <tr>\n",
       "      <th>23990</th>\n",
       "      <td>8d50f5eadf50201ccdcedfb9e2ac8455</td>\n",
       "      <td>7.0</td>\n",
       "      <td>2</td>\n",
       "    </tr>\n",
       "    <tr>\n",
       "      <th>23991</th>\n",
       "      <td>8d50f5eadf50201ccdcedfb9e2ac8455</td>\n",
       "      <td>8.0</td>\n",
       "      <td>1</td>\n",
       "    </tr>\n",
       "    <tr>\n",
       "      <th>23992</th>\n",
       "      <td>8d50f5eadf50201ccdcedfb9e2ac8455</td>\n",
       "      <td>9.0</td>\n",
       "      <td>1</td>\n",
       "    </tr>\n",
       "    <tr>\n",
       "      <th>23993</th>\n",
       "      <td>8d50f5eadf50201ccdcedfb9e2ac8455</td>\n",
       "      <td>10.0</td>\n",
       "      <td>2</td>\n",
       "    </tr>\n",
       "    <tr>\n",
       "      <th>23994</th>\n",
       "      <td>8d50f5eadf50201ccdcedfb9e2ac8455</td>\n",
       "      <td>11.0</td>\n",
       "      <td>1</td>\n",
       "    </tr>\n",
       "  </tbody>\n",
       "</table>\n",
       "</div>"
      ],
      "text/plain": [
       "                     customer_unique_id  month_of_purchases  total_purchases\n",
       "23988  8d50f5eadf50201ccdcedfb9e2ac8455  5.0                 1              \n",
       "23989  8d50f5eadf50201ccdcedfb9e2ac8455  6.0                 1              \n",
       "23990  8d50f5eadf50201ccdcedfb9e2ac8455  7.0                 2              \n",
       "23991  8d50f5eadf50201ccdcedfb9e2ac8455  8.0                 1              \n",
       "23992  8d50f5eadf50201ccdcedfb9e2ac8455  9.0                 1              \n",
       "23993  8d50f5eadf50201ccdcedfb9e2ac8455  10.0                2              \n",
       "23994  8d50f5eadf50201ccdcedfb9e2ac8455  11.0                1              "
      ]
     },
     "execution_count": 55,
     "metadata": {},
     "output_type": "execute_result"
    }
   ],
   "source": [
    "order_customer_2017 = order_customer_data.query('year_of_purchases==2017')\n",
    "# количество сделанных покупок за каждый месяц по каждому покупателю\n",
    "order_monthly = order_customer_2017.groupby(['customer_unique_id', 'month_of_purchases'], as_index=False)\\\n",
    "    .agg({'order_id': 'count'})\\\n",
    "    .rename(columns={'order_id': 'total_purchases'})\n",
    "# Проверим по покупателю, который совершил более одной покупки\n",
    "order_monthly.query('customer_unique_id==\"8d50f5eadf50201ccdcedfb9e2ac8455\"')"
   ]
  },
  {
   "cell_type": "markdown",
   "id": "9afbb62c",
   "metadata": {},
   "source": [
    "Количество недель в месяце можно получить путем деления общего количества дней в месяце на 7 дней недели. Таким образом в месяцах с 30 днями будет 4.29 недели, в месяцах с 31 днем - 4.43 недели(4 недели и 3 дня), 28 дней - 4 недели. В феврале 2017 года 28 дней."
   ]
  },
  {
   "cell_type": "code",
   "execution_count": 56,
   "id": "eb97c81a",
   "metadata": {},
   "outputs": [],
   "source": [
    "def get_weeks_amount(month):\n",
    "    '''Функция для определения количества недель в месяце '''\n",
    "    if month in [1, 3, 5, 7, 8, 10, 12]:\n",
    "        return 4.43\n",
    "    elif month in [4, 6, 9, 11]:\n",
    "        return 4.29\n",
    "    else:\n",
    "        return 4"
   ]
  },
  {
   "cell_type": "code",
   "execution_count": 57,
   "id": "1d6d5348",
   "metadata": {
    "scrolled": true
   },
   "outputs": [],
   "source": [
    "# проставим количество недель(weeks) в месяце\n",
    "order_monthly['weeks'] = order_monthly['month_of_purchases'].apply(get_weeks_amount)\n",
    "# расчитаем среднее количество покупок в неделю\n",
    "order_monthly['weekly_mean'] = round(order_monthly['total_purchases']/order_monthly['weeks'], 2)"
   ]
  },
  {
   "cell_type": "markdown",
   "id": "178bd300",
   "metadata": {},
   "source": [
    "Для проверки рассмотрим данные по одному покупателю: \n",
    "* в `month of purchases` указаны все месяца, в которых покупатель совершал покупки, \n",
    "* в `total purchases` указано количество сделанных покупок в разрезе месяцев,\n",
    "* в `weeks` количество недель в соответствующем месяце, \n",
    "* в `weekly_mean` среднее количество покупок в неделю по месяцам "
   ]
  },
  {
   "cell_type": "code",
   "execution_count": 58,
   "id": "5ca97008",
   "metadata": {},
   "outputs": [
    {
     "data": {
      "text/html": [
       "<div>\n",
       "<style scoped>\n",
       "    .dataframe tbody tr th:only-of-type {\n",
       "        vertical-align: middle;\n",
       "    }\n",
       "\n",
       "    .dataframe tbody tr th {\n",
       "        vertical-align: top;\n",
       "    }\n",
       "\n",
       "    .dataframe thead th {\n",
       "        text-align: right;\n",
       "    }\n",
       "</style>\n",
       "<table border=\"1\" class=\"dataframe\">\n",
       "  <thead>\n",
       "    <tr style=\"text-align: right;\">\n",
       "      <th></th>\n",
       "      <th>customer_unique_id</th>\n",
       "      <th>month_of_purchases</th>\n",
       "      <th>total_purchases</th>\n",
       "      <th>weeks</th>\n",
       "      <th>weekly_mean</th>\n",
       "    </tr>\n",
       "  </thead>\n",
       "  <tbody>\n",
       "    <tr>\n",
       "      <th>23988</th>\n",
       "      <td>8d50f5eadf50201ccdcedfb9e2ac8455</td>\n",
       "      <td>5.0</td>\n",
       "      <td>1</td>\n",
       "      <td>4.43</td>\n",
       "      <td>0.23</td>\n",
       "    </tr>\n",
       "    <tr>\n",
       "      <th>23989</th>\n",
       "      <td>8d50f5eadf50201ccdcedfb9e2ac8455</td>\n",
       "      <td>6.0</td>\n",
       "      <td>1</td>\n",
       "      <td>4.29</td>\n",
       "      <td>0.23</td>\n",
       "    </tr>\n",
       "    <tr>\n",
       "      <th>23990</th>\n",
       "      <td>8d50f5eadf50201ccdcedfb9e2ac8455</td>\n",
       "      <td>7.0</td>\n",
       "      <td>2</td>\n",
       "      <td>4.43</td>\n",
       "      <td>0.45</td>\n",
       "    </tr>\n",
       "    <tr>\n",
       "      <th>23991</th>\n",
       "      <td>8d50f5eadf50201ccdcedfb9e2ac8455</td>\n",
       "      <td>8.0</td>\n",
       "      <td>1</td>\n",
       "      <td>4.43</td>\n",
       "      <td>0.23</td>\n",
       "    </tr>\n",
       "    <tr>\n",
       "      <th>23992</th>\n",
       "      <td>8d50f5eadf50201ccdcedfb9e2ac8455</td>\n",
       "      <td>9.0</td>\n",
       "      <td>1</td>\n",
       "      <td>4.29</td>\n",
       "      <td>0.23</td>\n",
       "    </tr>\n",
       "    <tr>\n",
       "      <th>23993</th>\n",
       "      <td>8d50f5eadf50201ccdcedfb9e2ac8455</td>\n",
       "      <td>10.0</td>\n",
       "      <td>2</td>\n",
       "      <td>4.43</td>\n",
       "      <td>0.45</td>\n",
       "    </tr>\n",
       "    <tr>\n",
       "      <th>23994</th>\n",
       "      <td>8d50f5eadf50201ccdcedfb9e2ac8455</td>\n",
       "      <td>11.0</td>\n",
       "      <td>1</td>\n",
       "      <td>4.29</td>\n",
       "      <td>0.23</td>\n",
       "    </tr>\n",
       "  </tbody>\n",
       "</table>\n",
       "</div>"
      ],
      "text/plain": [
       "                     customer_unique_id  month_of_purchases  total_purchases  \\\n",
       "23988  8d50f5eadf50201ccdcedfb9e2ac8455  5.0                 1                 \n",
       "23989  8d50f5eadf50201ccdcedfb9e2ac8455  6.0                 1                 \n",
       "23990  8d50f5eadf50201ccdcedfb9e2ac8455  7.0                 2                 \n",
       "23991  8d50f5eadf50201ccdcedfb9e2ac8455  8.0                 1                 \n",
       "23992  8d50f5eadf50201ccdcedfb9e2ac8455  9.0                 1                 \n",
       "23993  8d50f5eadf50201ccdcedfb9e2ac8455  10.0                2                 \n",
       "23994  8d50f5eadf50201ccdcedfb9e2ac8455  11.0                1                 \n",
       "\n",
       "       weeks  weekly_mean  \n",
       "23988  4.43   0.23         \n",
       "23989  4.29   0.23         \n",
       "23990  4.43   0.45         \n",
       "23991  4.43   0.23         \n",
       "23992  4.29   0.23         \n",
       "23993  4.43   0.45         \n",
       "23994  4.29   0.23         "
      ]
     },
     "execution_count": 58,
     "metadata": {},
     "output_type": "execute_result"
    }
   ],
   "source": [
    "order_monthly.query('customer_unique_id==\"8d50f5eadf50201ccdcedfb9e2ac8455\"')"
   ]
  },
  {
   "cell_type": "markdown",
   "id": "29694fce",
   "metadata": {},
   "source": [
    "Рассмотрим покупателей с наивысшим показателем среднего количества покупок в неделю `weekly_mean`: один из покупателей в феврале 2017 совершал покупку каждую неделю, покупатель с показателем 1.35 в январе совершил покупку более одного раза в неделю. В остальных случаях покупатели не совершали покупку каждую неделю месяца."
   ]
  },
  {
   "cell_type": "code",
   "execution_count": 59,
   "id": "f496b6b9",
   "metadata": {},
   "outputs": [
    {
     "data": {
      "text/html": [
       "<div>\n",
       "<style scoped>\n",
       "    .dataframe tbody tr th:only-of-type {\n",
       "        vertical-align: middle;\n",
       "    }\n",
       "\n",
       "    .dataframe tbody tr th {\n",
       "        vertical-align: top;\n",
       "    }\n",
       "\n",
       "    .dataframe thead th {\n",
       "        text-align: right;\n",
       "    }\n",
       "</style>\n",
       "<table border=\"1\" class=\"dataframe\">\n",
       "  <thead>\n",
       "    <tr style=\"text-align: right;\">\n",
       "      <th></th>\n",
       "      <th>customer_unique_id</th>\n",
       "      <th>month_of_purchases</th>\n",
       "      <th>total_purchases</th>\n",
       "      <th>weeks</th>\n",
       "      <th>weekly_mean</th>\n",
       "    </tr>\n",
       "  </thead>\n",
       "  <tbody>\n",
       "    <tr>\n",
       "      <th>3274</th>\n",
       "      <td>12f5d6e1cbf93dafd9dcc19095df0b3d</td>\n",
       "      <td>1.0</td>\n",
       "      <td>6</td>\n",
       "      <td>4.43</td>\n",
       "      <td>1.35</td>\n",
       "    </tr>\n",
       "    <tr>\n",
       "      <th>27595</th>\n",
       "      <td>a239b8e2fbce33780f1f1912e2ee5275</td>\n",
       "      <td>2.0</td>\n",
       "      <td>4</td>\n",
       "      <td>4.00</td>\n",
       "      <td>1.00</td>\n",
       "    </tr>\n",
       "    <tr>\n",
       "      <th>30054</th>\n",
       "      <td>b08fab27d47a1eb6deda07bfd965ad43</td>\n",
       "      <td>9.0</td>\n",
       "      <td>4</td>\n",
       "      <td>4.29</td>\n",
       "      <td>0.93</td>\n",
       "    </tr>\n",
       "    <tr>\n",
       "      <th>6411</th>\n",
       "      <td>25a560b9a6006157838aab1bdbd68624</td>\n",
       "      <td>4.0</td>\n",
       "      <td>4</td>\n",
       "      <td>4.29</td>\n",
       "      <td>0.93</td>\n",
       "    </tr>\n",
       "    <tr>\n",
       "      <th>22493</th>\n",
       "      <td>83e7958a94bd7f74a9414d8782f87628</td>\n",
       "      <td>1.0</td>\n",
       "      <td>4</td>\n",
       "      <td>4.43</td>\n",
       "      <td>0.90</td>\n",
       "    </tr>\n",
       "    <tr>\n",
       "      <th>39451</th>\n",
       "      <td>e78838df9c44e102b6ac84cc5eea7d5c</td>\n",
       "      <td>2.0</td>\n",
       "      <td>3</td>\n",
       "      <td>4.00</td>\n",
       "      <td>0.75</td>\n",
       "    </tr>\n",
       "    <tr>\n",
       "      <th>2452</th>\n",
       "      <td>0e4cb268bd62da7db135af6349b4fc2a</td>\n",
       "      <td>11.0</td>\n",
       "      <td>3</td>\n",
       "      <td>4.29</td>\n",
       "      <td>0.70</td>\n",
       "    </tr>\n",
       "    <tr>\n",
       "      <th>36739</th>\n",
       "      <td>d7624d219b6ffad980e91412174db310</td>\n",
       "      <td>4.0</td>\n",
       "      <td>3</td>\n",
       "      <td>4.29</td>\n",
       "      <td>0.70</td>\n",
       "    </tr>\n",
       "    <tr>\n",
       "      <th>41904</th>\n",
       "      <td>f64ec6d8dd29940264cd0bbb5ecade8a</td>\n",
       "      <td>11.0</td>\n",
       "      <td>3</td>\n",
       "      <td>4.29</td>\n",
       "      <td>0.70</td>\n",
       "    </tr>\n",
       "    <tr>\n",
       "      <th>40293</th>\n",
       "      <td>ec7f1811826ab04a27a92197bc40c888</td>\n",
       "      <td>11.0</td>\n",
       "      <td>3</td>\n",
       "      <td>4.29</td>\n",
       "      <td>0.70</td>\n",
       "    </tr>\n",
       "  </tbody>\n",
       "</table>\n",
       "</div>"
      ],
      "text/plain": [
       "                     customer_unique_id  month_of_purchases  total_purchases  \\\n",
       "3274   12f5d6e1cbf93dafd9dcc19095df0b3d  1.0                 6                 \n",
       "27595  a239b8e2fbce33780f1f1912e2ee5275  2.0                 4                 \n",
       "30054  b08fab27d47a1eb6deda07bfd965ad43  9.0                 4                 \n",
       "6411   25a560b9a6006157838aab1bdbd68624  4.0                 4                 \n",
       "22493  83e7958a94bd7f74a9414d8782f87628  1.0                 4                 \n",
       "39451  e78838df9c44e102b6ac84cc5eea7d5c  2.0                 3                 \n",
       "2452   0e4cb268bd62da7db135af6349b4fc2a  11.0                3                 \n",
       "36739  d7624d219b6ffad980e91412174db310  4.0                 3                 \n",
       "41904  f64ec6d8dd29940264cd0bbb5ecade8a  11.0                3                 \n",
       "40293  ec7f1811826ab04a27a92197bc40c888  11.0                3                 \n",
       "\n",
       "       weeks  weekly_mean  \n",
       "3274   4.43   1.35         \n",
       "27595  4.00   1.00         \n",
       "30054  4.29   0.93         \n",
       "6411   4.29   0.93         \n",
       "22493  4.43   0.90         \n",
       "39451  4.00   0.75         \n",
       "2452   4.29   0.70         \n",
       "36739  4.29   0.70         \n",
       "41904  4.29   0.70         \n",
       "40293  4.29   0.70         "
      ]
     },
     "execution_count": 59,
     "metadata": {},
     "output_type": "execute_result"
    }
   ],
   "source": [
    "order_monthly.sort_values(by='weekly_mean', ascending=False).head(10)"
   ]
  },
  {
   "cell_type": "markdown",
   "id": "1fb05f7d",
   "metadata": {},
   "source": [
    "# 5. Когортный анализ пользователей с января по декабрь. Определение когорты с самым высоким retention на 3й месяц"
   ]
  },
  {
   "cell_type": "markdown",
   "id": "b15f66cb",
   "metadata": {},
   "source": [
    "Для проведения когортного анализа из данных с совершенными покупателями покупками выберем уникальных пользователей и даты регистрации сделанных ими заказов(отражают сколько раз пользователь возвращался и в какие даты)"
   ]
  },
  {
   "cell_type": "code",
   "execution_count": 60,
   "id": "1b6df467",
   "metadata": {},
   "outputs": [],
   "source": [
    "customer_data = order_customer_data.loc[:, ['customer_unique_id', 'order_purchase_timestamp']]"
   ]
  },
  {
   "cell_type": "code",
   "execution_count": 61,
   "id": "97a8d7ca",
   "metadata": {},
   "outputs": [
    {
     "name": "stdout",
     "output_type": "stream",
     "text": [
      "<class 'pandas.core.frame.DataFrame'>\n",
      "Int64Index: 98207 entries, 0 to 98206\n",
      "Data columns (total 2 columns):\n",
      " #   Column                    Non-Null Count  Dtype         \n",
      "---  ------                    --------------  -----         \n",
      " 0   customer_unique_id        98207 non-null  object        \n",
      " 1   order_purchase_timestamp  98207 non-null  datetime64[ns]\n",
      "dtypes: datetime64[ns](1), object(1)\n",
      "memory usage: 2.2+ MB\n"
     ]
    }
   ],
   "source": [
    "customer_data['order_purchase_timestamp'] = pd.to_datetime(customer_data['order_purchase_timestamp'])\n",
    "customer_data.info()"
   ]
  },
  {
   "cell_type": "markdown",
   "id": "f88e4505",
   "metadata": {},
   "source": [
    "Для проведения анализа с января по декабрь выберем полный 2017 год"
   ]
  },
  {
   "cell_type": "code",
   "execution_count": 62,
   "id": "98a34dfc",
   "metadata": {},
   "outputs": [],
   "source": [
    "unique_customer_data = customer_data[customer_data['order_purchase_timestamp'].dt.year == 2017]"
   ]
  },
  {
   "cell_type": "markdown",
   "id": "36d5974c",
   "metadata": {},
   "source": [
    "Преобразуем колонку с датой для дальнейшего определения когортной группы по месяцу"
   ]
  },
  {
   "cell_type": "code",
   "execution_count": 63,
   "id": "d4c27a25",
   "metadata": {},
   "outputs": [],
   "source": [
    "def get_month(x):\n",
    "    return dt.datetime(x.year, x.month, 1)\n",
    "\n",
    "\n",
    "unique_customer_data['order_purchase_timestamp'] = unique_customer_data['order_purchase_timestamp'].apply(get_month)"
   ]
  },
  {
   "cell_type": "code",
   "execution_count": 64,
   "id": "2d2730d0",
   "metadata": {},
   "outputs": [
    {
     "data": {
      "text/html": [
       "<div>\n",
       "<style scoped>\n",
       "    .dataframe tbody tr th:only-of-type {\n",
       "        vertical-align: middle;\n",
       "    }\n",
       "\n",
       "    .dataframe tbody tr th {\n",
       "        vertical-align: top;\n",
       "    }\n",
       "\n",
       "    .dataframe thead th {\n",
       "        text-align: right;\n",
       "    }\n",
       "</style>\n",
       "<table border=\"1\" class=\"dataframe\">\n",
       "  <thead>\n",
       "    <tr style=\"text-align: right;\">\n",
       "      <th></th>\n",
       "      <th>customer_unique_id</th>\n",
       "      <th>order_purchase_timestamp</th>\n",
       "      <th>CohortMonth</th>\n",
       "    </tr>\n",
       "  </thead>\n",
       "  <tbody>\n",
       "    <tr>\n",
       "      <th>0</th>\n",
       "      <td>7c396fd4830fd04220f754e42b4e5bff</td>\n",
       "      <td>2017-10-01</td>\n",
       "      <td>2017-09-01</td>\n",
       "    </tr>\n",
       "    <tr>\n",
       "      <th>3</th>\n",
       "      <td>7c142cf63193a1473d2e66489a9ae977</td>\n",
       "      <td>2017-11-01</td>\n",
       "      <td>2017-11-01</td>\n",
       "    </tr>\n",
       "    <tr>\n",
       "      <th>5</th>\n",
       "      <td>80bb27c7c16e8f973207a5086ab329e2</td>\n",
       "      <td>2017-07-01</td>\n",
       "      <td>2017-07-01</td>\n",
       "    </tr>\n",
       "    <tr>\n",
       "      <th>6</th>\n",
       "      <td>36edbb3fb164b1f16485364b6fb04c73</td>\n",
       "      <td>2017-04-01</td>\n",
       "      <td>2017-04-01</td>\n",
       "    </tr>\n",
       "    <tr>\n",
       "      <th>7</th>\n",
       "      <td>932afa1e708222e5821dac9cd5db4cae</td>\n",
       "      <td>2017-05-01</td>\n",
       "      <td>2017-05-01</td>\n",
       "    </tr>\n",
       "  </tbody>\n",
       "</table>\n",
       "</div>"
      ],
      "text/plain": [
       "                 customer_unique_id order_purchase_timestamp CohortMonth\n",
       "0  7c396fd4830fd04220f754e42b4e5bff 2017-10-01               2017-09-01 \n",
       "3  7c142cf63193a1473d2e66489a9ae977 2017-11-01               2017-11-01 \n",
       "5  80bb27c7c16e8f973207a5086ab329e2 2017-07-01               2017-07-01 \n",
       "6  36edbb3fb164b1f16485364b6fb04c73 2017-04-01               2017-04-01 \n",
       "7  932afa1e708222e5821dac9cd5db4cae 2017-05-01               2017-05-01 "
      ]
     },
     "execution_count": 64,
     "metadata": {},
     "output_type": "execute_result"
    }
   ],
   "source": [
    "# По каждому пользователю определили месяц, когда он сделал заказ впервые\n",
    "unique_customer_data['CohortMonth'] = unique_customer_data.groupby('customer_unique_id')['order_purchase_timestamp'].transform('min')\n",
    "unique_customer_data.head()"
   ]
  },
  {
   "cell_type": "markdown",
   "id": "843b69e3",
   "metadata": {},
   "source": [
    "Определим разницу в месяцах между месяцем первого заказа и месяцами последующих заказов месяц возникновения проставим как первый. Написана общая формула для расчета с учетом разницы года, но в нашем случае разница года равна 0,т.к. данные отобраны за один год."
   ]
  },
  {
   "cell_type": "code",
   "execution_count": 65,
   "id": "1e2d32a4",
   "metadata": {},
   "outputs": [
    {
     "data": {
      "text/html": [
       "<div>\n",
       "<style scoped>\n",
       "    .dataframe tbody tr th:only-of-type {\n",
       "        vertical-align: middle;\n",
       "    }\n",
       "\n",
       "    .dataframe tbody tr th {\n",
       "        vertical-align: top;\n",
       "    }\n",
       "\n",
       "    .dataframe thead th {\n",
       "        text-align: right;\n",
       "    }\n",
       "</style>\n",
       "<table border=\"1\" class=\"dataframe\">\n",
       "  <thead>\n",
       "    <tr style=\"text-align: right;\">\n",
       "      <th></th>\n",
       "      <th>customer_unique_id</th>\n",
       "      <th>order_purchase_timestamp</th>\n",
       "      <th>CohortMonth</th>\n",
       "      <th>CohortIndex</th>\n",
       "    </tr>\n",
       "  </thead>\n",
       "  <tbody>\n",
       "    <tr>\n",
       "      <th>0</th>\n",
       "      <td>7c396fd4830fd04220f754e42b4e5bff</td>\n",
       "      <td>2017-10-01</td>\n",
       "      <td>2017-09-01</td>\n",
       "      <td>2</td>\n",
       "    </tr>\n",
       "    <tr>\n",
       "      <th>3</th>\n",
       "      <td>7c142cf63193a1473d2e66489a9ae977</td>\n",
       "      <td>2017-11-01</td>\n",
       "      <td>2017-11-01</td>\n",
       "      <td>1</td>\n",
       "    </tr>\n",
       "    <tr>\n",
       "      <th>5</th>\n",
       "      <td>80bb27c7c16e8f973207a5086ab329e2</td>\n",
       "      <td>2017-07-01</td>\n",
       "      <td>2017-07-01</td>\n",
       "      <td>1</td>\n",
       "    </tr>\n",
       "    <tr>\n",
       "      <th>6</th>\n",
       "      <td>36edbb3fb164b1f16485364b6fb04c73</td>\n",
       "      <td>2017-04-01</td>\n",
       "      <td>2017-04-01</td>\n",
       "      <td>1</td>\n",
       "    </tr>\n",
       "    <tr>\n",
       "      <th>7</th>\n",
       "      <td>932afa1e708222e5821dac9cd5db4cae</td>\n",
       "      <td>2017-05-01</td>\n",
       "      <td>2017-05-01</td>\n",
       "      <td>1</td>\n",
       "    </tr>\n",
       "  </tbody>\n",
       "</table>\n",
       "</div>"
      ],
      "text/plain": [
       "                 customer_unique_id order_purchase_timestamp CohortMonth  \\\n",
       "0  7c396fd4830fd04220f754e42b4e5bff 2017-10-01               2017-09-01    \n",
       "3  7c142cf63193a1473d2e66489a9ae977 2017-11-01               2017-11-01    \n",
       "5  80bb27c7c16e8f973207a5086ab329e2 2017-07-01               2017-07-01    \n",
       "6  36edbb3fb164b1f16485364b6fb04c73 2017-04-01               2017-04-01    \n",
       "7  932afa1e708222e5821dac9cd5db4cae 2017-05-01               2017-05-01    \n",
       "\n",
       "   CohortIndex  \n",
       "0  2            \n",
       "3  1            \n",
       "5  1            \n",
       "6  1            \n",
       "7  1            "
      ]
     },
     "execution_count": 65,
     "metadata": {},
     "output_type": "execute_result"
    }
   ],
   "source": [
    "Year_Diff = (unique_customer_data['order_purchase_timestamp'].dt.year) - unique_customer_data['CohortMonth'].dt.year\n",
    "Month_Diff = unique_customer_data['order_purchase_timestamp'].dt.month - unique_customer_data['CohortMonth'].dt.month\n",
    "unique_customer_data['CohortIndex'] = Year_Diff * 12 + Month_Diff + 1\n",
    "unique_customer_data.head()"
   ]
  },
  {
   "cell_type": "code",
   "execution_count": 66,
   "id": "094aba16",
   "metadata": {},
   "outputs": [
    {
     "data": {
      "text/html": [
       "<div>\n",
       "<style scoped>\n",
       "    .dataframe tbody tr th:only-of-type {\n",
       "        vertical-align: middle;\n",
       "    }\n",
       "\n",
       "    .dataframe tbody tr th {\n",
       "        vertical-align: top;\n",
       "    }\n",
       "\n",
       "    .dataframe thead th {\n",
       "        text-align: right;\n",
       "    }\n",
       "</style>\n",
       "<table border=\"1\" class=\"dataframe\">\n",
       "  <thead>\n",
       "    <tr style=\"text-align: right;\">\n",
       "      <th></th>\n",
       "      <th>CohortMonth</th>\n",
       "      <th>CohortIndex</th>\n",
       "      <th>customer_unique_id</th>\n",
       "    </tr>\n",
       "  </thead>\n",
       "  <tbody>\n",
       "    <tr>\n",
       "      <th>0</th>\n",
       "      <td>2017-01-01</td>\n",
       "      <td>1</td>\n",
       "      <td>753</td>\n",
       "    </tr>\n",
       "    <tr>\n",
       "      <th>1</th>\n",
       "      <td>2017-01-01</td>\n",
       "      <td>2</td>\n",
       "      <td>3</td>\n",
       "    </tr>\n",
       "    <tr>\n",
       "      <th>2</th>\n",
       "      <td>2017-01-01</td>\n",
       "      <td>3</td>\n",
       "      <td>2</td>\n",
       "    </tr>\n",
       "    <tr>\n",
       "      <th>3</th>\n",
       "      <td>2017-01-01</td>\n",
       "      <td>4</td>\n",
       "      <td>1</td>\n",
       "    </tr>\n",
       "    <tr>\n",
       "      <th>4</th>\n",
       "      <td>2017-01-01</td>\n",
       "      <td>5</td>\n",
       "      <td>3</td>\n",
       "    </tr>\n",
       "  </tbody>\n",
       "</table>\n",
       "</div>"
      ],
      "text/plain": [
       "  CohortMonth  CohortIndex  customer_unique_id\n",
       "0 2017-01-01   1            753               \n",
       "1 2017-01-01   2            3                 \n",
       "2 2017-01-01   3            2                 \n",
       "3 2017-01-01   4            1                 \n",
       "4 2017-01-01   5            3                 "
      ]
     },
     "execution_count": 66,
     "metadata": {},
     "output_type": "execute_result"
    }
   ],
   "source": [
    "# Сгруппируем пользователей по месяцу первого заказа и\n",
    "# разницами между первым и последующими заказами\n",
    "grouping = unique_customer_data.groupby(['CohortMonth', 'CohortIndex'])['customer_unique_id'].nunique().to_frame()\n",
    "grouping = grouping.reset_index()\n",
    "grouping.head()"
   ]
  },
  {
   "cell_type": "markdown",
   "id": "60bdb4a8",
   "metadata": {},
   "source": [
    "Преобразуем данные в сводную таблицу, где в индексе будут указаны когортные группы, а в колонках будут месяца прошедшие с месяца первого заказа(под индексом один-месяц возникновения когортной группы)"
   ]
  },
  {
   "cell_type": "code",
   "execution_count": 67,
   "id": "8c63fb11",
   "metadata": {},
   "outputs": [
    {
     "data": {
      "text/html": [
       "<div>\n",
       "<style scoped>\n",
       "    .dataframe tbody tr th:only-of-type {\n",
       "        vertical-align: middle;\n",
       "    }\n",
       "\n",
       "    .dataframe tbody tr th {\n",
       "        vertical-align: top;\n",
       "    }\n",
       "\n",
       "    .dataframe thead th {\n",
       "        text-align: right;\n",
       "    }\n",
       "</style>\n",
       "<table border=\"1\" class=\"dataframe\">\n",
       "  <thead>\n",
       "    <tr style=\"text-align: right;\">\n",
       "      <th>CohortIndex</th>\n",
       "      <th>1</th>\n",
       "      <th>2</th>\n",
       "      <th>3</th>\n",
       "      <th>4</th>\n",
       "      <th>5</th>\n",
       "      <th>6</th>\n",
       "      <th>7</th>\n",
       "      <th>8</th>\n",
       "      <th>9</th>\n",
       "      <th>10</th>\n",
       "      <th>11</th>\n",
       "      <th>12</th>\n",
       "    </tr>\n",
       "    <tr>\n",
       "      <th>CohortMonth</th>\n",
       "      <th></th>\n",
       "      <th></th>\n",
       "      <th></th>\n",
       "      <th></th>\n",
       "      <th></th>\n",
       "      <th></th>\n",
       "      <th></th>\n",
       "      <th></th>\n",
       "      <th></th>\n",
       "      <th></th>\n",
       "      <th></th>\n",
       "      <th></th>\n",
       "    </tr>\n",
       "  </thead>\n",
       "  <tbody>\n",
       "    <tr>\n",
       "      <th>2017-01-01</th>\n",
       "      <td>753.0</td>\n",
       "      <td>3.0</td>\n",
       "      <td>2.0</td>\n",
       "      <td>1.0</td>\n",
       "      <td>3.0</td>\n",
       "      <td>1.0</td>\n",
       "      <td>3.0</td>\n",
       "      <td>1.0</td>\n",
       "      <td>1.0</td>\n",
       "      <td>NaN</td>\n",
       "      <td>3.0</td>\n",
       "      <td>1.0</td>\n",
       "    </tr>\n",
       "    <tr>\n",
       "      <th>2017-02-01</th>\n",
       "      <td>1690.0</td>\n",
       "      <td>4.0</td>\n",
       "      <td>5.0</td>\n",
       "      <td>2.0</td>\n",
       "      <td>7.0</td>\n",
       "      <td>2.0</td>\n",
       "      <td>4.0</td>\n",
       "      <td>3.0</td>\n",
       "      <td>2.0</td>\n",
       "      <td>3.0</td>\n",
       "      <td>2.0</td>\n",
       "      <td>NaN</td>\n",
       "    </tr>\n",
       "    <tr>\n",
       "      <th>2017-03-01</th>\n",
       "      <td>2571.0</td>\n",
       "      <td>13.0</td>\n",
       "      <td>9.0</td>\n",
       "      <td>10.0</td>\n",
       "      <td>9.0</td>\n",
       "      <td>4.0</td>\n",
       "      <td>4.0</td>\n",
       "      <td>8.0</td>\n",
       "      <td>9.0</td>\n",
       "      <td>2.0</td>\n",
       "      <td>NaN</td>\n",
       "      <td>NaN</td>\n",
       "    </tr>\n",
       "    <tr>\n",
       "      <th>2017-04-01</th>\n",
       "      <td>2326.0</td>\n",
       "      <td>14.0</td>\n",
       "      <td>5.0</td>\n",
       "      <td>4.0</td>\n",
       "      <td>7.0</td>\n",
       "      <td>6.0</td>\n",
       "      <td>8.0</td>\n",
       "      <td>7.0</td>\n",
       "      <td>7.0</td>\n",
       "      <td>NaN</td>\n",
       "      <td>NaN</td>\n",
       "      <td>NaN</td>\n",
       "    </tr>\n",
       "    <tr>\n",
       "      <th>2017-05-01</th>\n",
       "      <td>3541.0</td>\n",
       "      <td>17.0</td>\n",
       "      <td>17.0</td>\n",
       "      <td>14.0</td>\n",
       "      <td>11.0</td>\n",
       "      <td>12.0</td>\n",
       "      <td>15.0</td>\n",
       "      <td>5.0</td>\n",
       "      <td>NaN</td>\n",
       "      <td>NaN</td>\n",
       "      <td>NaN</td>\n",
       "      <td>NaN</td>\n",
       "    </tr>\n",
       "    <tr>\n",
       "      <th>2017-06-01</th>\n",
       "      <td>3102.0</td>\n",
       "      <td>14.0</td>\n",
       "      <td>11.0</td>\n",
       "      <td>12.0</td>\n",
       "      <td>8.0</td>\n",
       "      <td>12.0</td>\n",
       "      <td>11.0</td>\n",
       "      <td>NaN</td>\n",
       "      <td>NaN</td>\n",
       "      <td>NaN</td>\n",
       "      <td>NaN</td>\n",
       "      <td>NaN</td>\n",
       "    </tr>\n",
       "    <tr>\n",
       "      <th>2017-07-01</th>\n",
       "      <td>3823.0</td>\n",
       "      <td>20.0</td>\n",
       "      <td>13.0</td>\n",
       "      <td>9.0</td>\n",
       "      <td>11.0</td>\n",
       "      <td>8.0</td>\n",
       "      <td>NaN</td>\n",
       "      <td>NaN</td>\n",
       "      <td>NaN</td>\n",
       "      <td>NaN</td>\n",
       "      <td>NaN</td>\n",
       "      <td>NaN</td>\n",
       "    </tr>\n",
       "    <tr>\n",
       "      <th>2017-08-01</th>\n",
       "      <td>4130.0</td>\n",
       "      <td>28.0</td>\n",
       "      <td>14.0</td>\n",
       "      <td>11.0</td>\n",
       "      <td>15.0</td>\n",
       "      <td>NaN</td>\n",
       "      <td>NaN</td>\n",
       "      <td>NaN</td>\n",
       "      <td>NaN</td>\n",
       "      <td>NaN</td>\n",
       "      <td>NaN</td>\n",
       "      <td>NaN</td>\n",
       "    </tr>\n",
       "    <tr>\n",
       "      <th>2017-09-01</th>\n",
       "      <td>4076.0</td>\n",
       "      <td>28.0</td>\n",
       "      <td>22.0</td>\n",
       "      <td>12.0</td>\n",
       "      <td>NaN</td>\n",
       "      <td>NaN</td>\n",
       "      <td>NaN</td>\n",
       "      <td>NaN</td>\n",
       "      <td>NaN</td>\n",
       "      <td>NaN</td>\n",
       "      <td>NaN</td>\n",
       "      <td>NaN</td>\n",
       "    </tr>\n",
       "    <tr>\n",
       "      <th>2017-10-01</th>\n",
       "      <td>4392.0</td>\n",
       "      <td>31.0</td>\n",
       "      <td>11.0</td>\n",
       "      <td>NaN</td>\n",
       "      <td>NaN</td>\n",
       "      <td>NaN</td>\n",
       "      <td>NaN</td>\n",
       "      <td>NaN</td>\n",
       "      <td>NaN</td>\n",
       "      <td>NaN</td>\n",
       "      <td>NaN</td>\n",
       "      <td>NaN</td>\n",
       "    </tr>\n",
       "    <tr>\n",
       "      <th>2017-11-01</th>\n",
       "      <td>7191.0</td>\n",
       "      <td>40.0</td>\n",
       "      <td>NaN</td>\n",
       "      <td>NaN</td>\n",
       "      <td>NaN</td>\n",
       "      <td>NaN</td>\n",
       "      <td>NaN</td>\n",
       "      <td>NaN</td>\n",
       "      <td>NaN</td>\n",
       "      <td>NaN</td>\n",
       "      <td>NaN</td>\n",
       "      <td>NaN</td>\n",
       "    </tr>\n",
       "    <tr>\n",
       "      <th>2017-12-01</th>\n",
       "      <td>5439.0</td>\n",
       "      <td>NaN</td>\n",
       "      <td>NaN</td>\n",
       "      <td>NaN</td>\n",
       "      <td>NaN</td>\n",
       "      <td>NaN</td>\n",
       "      <td>NaN</td>\n",
       "      <td>NaN</td>\n",
       "      <td>NaN</td>\n",
       "      <td>NaN</td>\n",
       "      <td>NaN</td>\n",
       "      <td>NaN</td>\n",
       "    </tr>\n",
       "  </tbody>\n",
       "</table>\n",
       "</div>"
      ],
      "text/plain": [
       "CohortIndex       1     2     3     4     5     6     7    8    9   10   11  \\\n",
       "CohortMonth                                                                   \n",
       "2017-01-01   753.0   3.0   2.0   1.0   3.0   1.0   3.0   1.0  1.0 NaN   3.0   \n",
       "2017-02-01   1690.0  4.0   5.0   2.0   7.0   2.0   4.0   3.0  2.0  3.0  2.0   \n",
       "2017-03-01   2571.0  13.0  9.0   10.0  9.0   4.0   4.0   8.0  9.0  2.0 NaN    \n",
       "2017-04-01   2326.0  14.0  5.0   4.0   7.0   6.0   8.0   7.0  7.0 NaN  NaN    \n",
       "2017-05-01   3541.0  17.0  17.0  14.0  11.0  12.0  15.0  5.0 NaN  NaN  NaN    \n",
       "2017-06-01   3102.0  14.0  11.0  12.0  8.0   12.0  11.0 NaN  NaN  NaN  NaN    \n",
       "2017-07-01   3823.0  20.0  13.0  9.0   11.0  8.0  NaN   NaN  NaN  NaN  NaN    \n",
       "2017-08-01   4130.0  28.0  14.0  11.0  15.0 NaN   NaN   NaN  NaN  NaN  NaN    \n",
       "2017-09-01   4076.0  28.0  22.0  12.0 NaN   NaN   NaN   NaN  NaN  NaN  NaN    \n",
       "2017-10-01   4392.0  31.0  11.0 NaN   NaN   NaN   NaN   NaN  NaN  NaN  NaN    \n",
       "2017-11-01   7191.0  40.0 NaN   NaN   NaN   NaN   NaN   NaN  NaN  NaN  NaN    \n",
       "2017-12-01   5439.0 NaN   NaN   NaN   NaN   NaN   NaN   NaN  NaN  NaN  NaN    \n",
       "\n",
       "CohortIndex   12  \n",
       "CohortMonth       \n",
       "2017-01-01   1.0  \n",
       "2017-02-01  NaN   \n",
       "2017-03-01  NaN   \n",
       "2017-04-01  NaN   \n",
       "2017-05-01  NaN   \n",
       "2017-06-01  NaN   \n",
       "2017-07-01  NaN   \n",
       "2017-08-01  NaN   \n",
       "2017-09-01  NaN   \n",
       "2017-10-01  NaN   \n",
       "2017-11-01  NaN   \n",
       "2017-12-01  NaN   "
      ]
     },
     "execution_count": 67,
     "metadata": {},
     "output_type": "execute_result"
    }
   ],
   "source": [
    "cohort_counts = grouping.pivot(index=\"CohortMonth\", columns=\"CohortIndex\", values=\"customer_unique_id\")\n",
    "retention = cohort_counts\n",
    "retention"
   ]
  },
  {
   "cell_type": "code",
   "execution_count": 68,
   "id": "cc94eac6",
   "metadata": {},
   "outputs": [],
   "source": [
    "# Отформатируем индекс для отображения на графике в виде месяца и года\n",
    "retention.index = retention.index.strftime('%B %Y')"
   ]
  },
  {
   "cell_type": "code",
   "execution_count": 69,
   "id": "03d9ab2f",
   "metadata": {},
   "outputs": [
    {
     "data": {
      "text/plain": [
       "<AxesSubplot:xlabel='CohortIndex', ylabel='CohortMonth'>"
      ]
     },
     "execution_count": 69,
     "metadata": {},
     "output_type": "execute_result"
    },
    {
     "data": {
      "image/png": "[encoded data removed]",
      "text/plain": [
       "<Figure size 1512x720 with 2 Axes>"
      ]
     },
     "metadata": {
      "needs_background": "light"
     },
     "output_type": "display_data"
    }
   ],
   "source": [
    "# Визуализируем retention в абсолютных значениях\n",
    "plt.figure(figsize=(21, 10))\n",
    "sns.heatmap(retention, annot=True, cmap='coolwarm', fmt='g', vmax=40)"
   ]
  },
  {
   "cell_type": "code",
   "execution_count": 70,
   "id": "8c4ead63",
   "metadata": {},
   "outputs": [
    {
     "data": {
      "text/html": [
       "<div>\n",
       "<style scoped>\n",
       "    .dataframe tbody tr th:only-of-type {\n",
       "        vertical-align: middle;\n",
       "    }\n",
       "\n",
       "    .dataframe tbody tr th {\n",
       "        vertical-align: top;\n",
       "    }\n",
       "\n",
       "    .dataframe thead th {\n",
       "        text-align: right;\n",
       "    }\n",
       "</style>\n",
       "<table border=\"1\" class=\"dataframe\">\n",
       "  <thead>\n",
       "    <tr style=\"text-align: right;\">\n",
       "      <th>CohortIndex</th>\n",
       "      <th>1</th>\n",
       "      <th>2</th>\n",
       "      <th>3</th>\n",
       "      <th>4</th>\n",
       "      <th>5</th>\n",
       "      <th>6</th>\n",
       "      <th>7</th>\n",
       "      <th>8</th>\n",
       "      <th>9</th>\n",
       "      <th>10</th>\n",
       "      <th>11</th>\n",
       "      <th>12</th>\n",
       "    </tr>\n",
       "    <tr>\n",
       "      <th>CohortMonth</th>\n",
       "      <th></th>\n",
       "      <th></th>\n",
       "      <th></th>\n",
       "      <th></th>\n",
       "      <th></th>\n",
       "      <th></th>\n",
       "      <th></th>\n",
       "      <th></th>\n",
       "      <th></th>\n",
       "      <th></th>\n",
       "      <th></th>\n",
       "      <th></th>\n",
       "    </tr>\n",
       "  </thead>\n",
       "  <tbody>\n",
       "    <tr>\n",
       "      <th>January 2017</th>\n",
       "      <td>1.0</td>\n",
       "      <td>0.003984</td>\n",
       "      <td>0.002656</td>\n",
       "      <td>0.001328</td>\n",
       "      <td>0.003984</td>\n",
       "      <td>0.001328</td>\n",
       "      <td>0.003984</td>\n",
       "      <td>0.001328</td>\n",
       "      <td>0.001328</td>\n",
       "      <td>NaN</td>\n",
       "      <td>0.003984</td>\n",
       "      <td>0.001328</td>\n",
       "    </tr>\n",
       "    <tr>\n",
       "      <th>February 2017</th>\n",
       "      <td>1.0</td>\n",
       "      <td>0.002367</td>\n",
       "      <td>0.002959</td>\n",
       "      <td>0.001183</td>\n",
       "      <td>0.004142</td>\n",
       "      <td>0.001183</td>\n",
       "      <td>0.002367</td>\n",
       "      <td>0.001775</td>\n",
       "      <td>0.001183</td>\n",
       "      <td>0.001775</td>\n",
       "      <td>0.001183</td>\n",
       "      <td>NaN</td>\n",
       "    </tr>\n",
       "    <tr>\n",
       "      <th>March 2017</th>\n",
       "      <td>1.0</td>\n",
       "      <td>0.005056</td>\n",
       "      <td>0.003501</td>\n",
       "      <td>0.003890</td>\n",
       "      <td>0.003501</td>\n",
       "      <td>0.001556</td>\n",
       "      <td>0.001556</td>\n",
       "      <td>0.003112</td>\n",
       "      <td>0.003501</td>\n",
       "      <td>0.000778</td>\n",
       "      <td>NaN</td>\n",
       "      <td>NaN</td>\n",
       "    </tr>\n",
       "    <tr>\n",
       "      <th>April 2017</th>\n",
       "      <td>1.0</td>\n",
       "      <td>0.006019</td>\n",
       "      <td>0.002150</td>\n",
       "      <td>0.001720</td>\n",
       "      <td>0.003009</td>\n",
       "      <td>0.002580</td>\n",
       "      <td>0.003439</td>\n",
       "      <td>0.003009</td>\n",
       "      <td>0.003009</td>\n",
       "      <td>NaN</td>\n",
       "      <td>NaN</td>\n",
       "      <td>NaN</td>\n",
       "    </tr>\n",
       "    <tr>\n",
       "      <th>May 2017</th>\n",
       "      <td>1.0</td>\n",
       "      <td>0.004801</td>\n",
       "      <td>0.004801</td>\n",
       "      <td>0.003954</td>\n",
       "      <td>0.003106</td>\n",
       "      <td>0.003389</td>\n",
       "      <td>0.004236</td>\n",
       "      <td>0.001412</td>\n",
       "      <td>NaN</td>\n",
       "      <td>NaN</td>\n",
       "      <td>NaN</td>\n",
       "      <td>NaN</td>\n",
       "    </tr>\n",
       "    <tr>\n",
       "      <th>June 2017</th>\n",
       "      <td>1.0</td>\n",
       "      <td>0.004513</td>\n",
       "      <td>0.003546</td>\n",
       "      <td>0.003868</td>\n",
       "      <td>0.002579</td>\n",
       "      <td>0.003868</td>\n",
       "      <td>0.003546</td>\n",
       "      <td>NaN</td>\n",
       "      <td>NaN</td>\n",
       "      <td>NaN</td>\n",
       "      <td>NaN</td>\n",
       "      <td>NaN</td>\n",
       "    </tr>\n",
       "    <tr>\n",
       "      <th>July 2017</th>\n",
       "      <td>1.0</td>\n",
       "      <td>0.005231</td>\n",
       "      <td>0.003400</td>\n",
       "      <td>0.002354</td>\n",
       "      <td>0.002877</td>\n",
       "      <td>0.002093</td>\n",
       "      <td>NaN</td>\n",
       "      <td>NaN</td>\n",
       "      <td>NaN</td>\n",
       "      <td>NaN</td>\n",
       "      <td>NaN</td>\n",
       "      <td>NaN</td>\n",
       "    </tr>\n",
       "    <tr>\n",
       "      <th>August 2017</th>\n",
       "      <td>1.0</td>\n",
       "      <td>0.006780</td>\n",
       "      <td>0.003390</td>\n",
       "      <td>0.002663</td>\n",
       "      <td>0.003632</td>\n",
       "      <td>NaN</td>\n",
       "      <td>NaN</td>\n",
       "      <td>NaN</td>\n",
       "      <td>NaN</td>\n",
       "      <td>NaN</td>\n",
       "      <td>NaN</td>\n",
       "      <td>NaN</td>\n",
       "    </tr>\n",
       "    <tr>\n",
       "      <th>September 2017</th>\n",
       "      <td>1.0</td>\n",
       "      <td>0.006869</td>\n",
       "      <td>0.005397</td>\n",
       "      <td>0.002944</td>\n",
       "      <td>NaN</td>\n",
       "      <td>NaN</td>\n",
       "      <td>NaN</td>\n",
       "      <td>NaN</td>\n",
       "      <td>NaN</td>\n",
       "      <td>NaN</td>\n",
       "      <td>NaN</td>\n",
       "      <td>NaN</td>\n",
       "    </tr>\n",
       "    <tr>\n",
       "      <th>October 2017</th>\n",
       "      <td>1.0</td>\n",
       "      <td>0.007058</td>\n",
       "      <td>0.002505</td>\n",
       "      <td>NaN</td>\n",
       "      <td>NaN</td>\n",
       "      <td>NaN</td>\n",
       "      <td>NaN</td>\n",
       "      <td>NaN</td>\n",
       "      <td>NaN</td>\n",
       "      <td>NaN</td>\n",
       "      <td>NaN</td>\n",
       "      <td>NaN</td>\n",
       "    </tr>\n",
       "    <tr>\n",
       "      <th>November 2017</th>\n",
       "      <td>1.0</td>\n",
       "      <td>0.005563</td>\n",
       "      <td>NaN</td>\n",
       "      <td>NaN</td>\n",
       "      <td>NaN</td>\n",
       "      <td>NaN</td>\n",
       "      <td>NaN</td>\n",
       "      <td>NaN</td>\n",
       "      <td>NaN</td>\n",
       "      <td>NaN</td>\n",
       "      <td>NaN</td>\n",
       "      <td>NaN</td>\n",
       "    </tr>\n",
       "    <tr>\n",
       "      <th>December 2017</th>\n",
       "      <td>1.0</td>\n",
       "      <td>NaN</td>\n",
       "      <td>NaN</td>\n",
       "      <td>NaN</td>\n",
       "      <td>NaN</td>\n",
       "      <td>NaN</td>\n",
       "      <td>NaN</td>\n",
       "      <td>NaN</td>\n",
       "      <td>NaN</td>\n",
       "      <td>NaN</td>\n",
       "      <td>NaN</td>\n",
       "      <td>NaN</td>\n",
       "    </tr>\n",
       "  </tbody>\n",
       "</table>\n",
       "</div>"
      ],
      "text/plain": [
       "CohortIndex       1         2         3         4         5         6  \\\n",
       "CohortMonth                                                             \n",
       "January 2017    1.0  0.003984  0.002656  0.001328  0.003984  0.001328   \n",
       "February 2017   1.0  0.002367  0.002959  0.001183  0.004142  0.001183   \n",
       "March 2017      1.0  0.005056  0.003501  0.003890  0.003501  0.001556   \n",
       "April 2017      1.0  0.006019  0.002150  0.001720  0.003009  0.002580   \n",
       "May 2017        1.0  0.004801  0.004801  0.003954  0.003106  0.003389   \n",
       "June 2017       1.0  0.004513  0.003546  0.003868  0.002579  0.003868   \n",
       "July 2017       1.0  0.005231  0.003400  0.002354  0.002877  0.002093   \n",
       "August 2017     1.0  0.006780  0.003390  0.002663  0.003632 NaN         \n",
       "September 2017  1.0  0.006869  0.005397  0.002944 NaN       NaN         \n",
       "October 2017    1.0  0.007058  0.002505 NaN       NaN       NaN         \n",
       "November 2017   1.0  0.005563 NaN       NaN       NaN       NaN         \n",
       "December 2017   1.0 NaN       NaN       NaN       NaN       NaN         \n",
       "\n",
       "CohortIndex            7         8         9        10        11        12  \n",
       "CohortMonth                                                                 \n",
       "January 2017    0.003984  0.001328  0.001328 NaN        0.003984  0.001328  \n",
       "February 2017   0.002367  0.001775  0.001183  0.001775  0.001183 NaN        \n",
       "March 2017      0.001556  0.003112  0.003501  0.000778 NaN       NaN        \n",
       "April 2017      0.003439  0.003009  0.003009 NaN       NaN       NaN        \n",
       "May 2017        0.004236  0.001412 NaN       NaN       NaN       NaN        \n",
       "June 2017       0.003546 NaN       NaN       NaN       NaN       NaN        \n",
       "July 2017      NaN       NaN       NaN       NaN       NaN       NaN        \n",
       "August 2017    NaN       NaN       NaN       NaN       NaN       NaN        \n",
       "September 2017 NaN       NaN       NaN       NaN       NaN       NaN        \n",
       "October 2017   NaN       NaN       NaN       NaN       NaN       NaN        \n",
       "November 2017  NaN       NaN       NaN       NaN       NaN       NaN        \n",
       "December 2017  NaN       NaN       NaN       NaN       NaN       NaN        "
      ]
     },
     "execution_count": 70,
     "metadata": {},
     "output_type": "execute_result"
    }
   ],
   "source": [
    "# Преобразуем таблицу retention в относительные значения\n",
    "retention_percent = retention.divide(retention.iloc[:, 0], axis=0)\n",
    "retention_percent"
   ]
  },
  {
   "cell_type": "code",
   "execution_count": 71,
   "id": "511dbc2b",
   "metadata": {},
   "outputs": [
    {
     "data": {
      "text/plain": [
       "<AxesSubplot:xlabel='CohortIndex', ylabel='CohortMonth'>"
      ]
     },
     "execution_count": 71,
     "metadata": {},
     "output_type": "execute_result"
    },
    {
     "data": {
      "image/png": "[encoded data removed]",
      "text/plain": [
       "<Figure size 1512x720 with 2 Axes>"
      ]
     },
     "metadata": {
      "needs_background": "light"
     },
     "output_type": "display_data"
    }
   ],
   "source": [
    "# Визуализируем retention в процентах\n",
    "plt.figure(figsize=(21, 10))\n",
    "sns.heatmap(retention_percent, annot=True, cmap='coolwarm', fmt='.2%', vmax=0.008)"
   ]
  },
  {
   "cell_type": "markdown",
   "id": "7e8256ef",
   "metadata": {},
   "source": [
    "**Когорта за май имеет самый высокий retention на 3й месяц(CohortIndex 4) в 2017 году-0.415867%**"
   ]
  },
  {
   "cell_type": "markdown",
   "id": "72942a4b",
   "metadata": {},
   "source": [
    "# 6. RFM-сегментация пользователей, для качественной оценки аудитории"
   ]
  },
  {
   "cell_type": "markdown",
   "id": "970a1264",
   "metadata": {},
   "source": [
    "**6.1.Подготовка данных за 2 года о:** \n",
    "* **Recency(R) - времени от последней покупки до текущей даты , частоте и сумме покупок за 2 года.**\n",
    "* **Frequency(F) -  суммарном количестве покупок у пользователя за всё время**\n",
    "* **Monetary(M) - сумме покупок за всё время**"
   ]
  },
  {
   "cell_type": "code",
   "execution_count": 72,
   "id": "775fc06c",
   "metadata": {},
   "outputs": [
    {
     "data": {
      "text/html": [
       "<div>\n",
       "<style scoped>\n",
       "    .dataframe tbody tr th:only-of-type {\n",
       "        vertical-align: middle;\n",
       "    }\n",
       "\n",
       "    .dataframe tbody tr th {\n",
       "        vertical-align: top;\n",
       "    }\n",
       "\n",
       "    .dataframe thead th {\n",
       "        text-align: right;\n",
       "    }\n",
       "</style>\n",
       "<table border=\"1\" class=\"dataframe\">\n",
       "  <thead>\n",
       "    <tr style=\"text-align: right;\">\n",
       "      <th></th>\n",
       "      <th>customer_unique_id</th>\n",
       "      <th>order_purchase_timestamp</th>\n",
       "    </tr>\n",
       "  </thead>\n",
       "  <tbody>\n",
       "    <tr>\n",
       "      <th>0</th>\n",
       "      <td>7c396fd4830fd04220f754e42b4e5bff</td>\n",
       "      <td>2017-10-02 10:56:33</td>\n",
       "    </tr>\n",
       "    <tr>\n",
       "      <th>1</th>\n",
       "      <td>af07308b275d755c9edb36a90c618231</td>\n",
       "      <td>2018-07-24 20:41:37</td>\n",
       "    </tr>\n",
       "    <tr>\n",
       "      <th>2</th>\n",
       "      <td>3a653a41f6f9fc3d2a113cf8398680e8</td>\n",
       "      <td>2018-08-08 08:38:49</td>\n",
       "    </tr>\n",
       "    <tr>\n",
       "      <th>3</th>\n",
       "      <td>7c142cf63193a1473d2e66489a9ae977</td>\n",
       "      <td>2017-11-18 19:28:06</td>\n",
       "    </tr>\n",
       "    <tr>\n",
       "      <th>4</th>\n",
       "      <td>72632f0f9dd73dfee390c9b22eb56dd6</td>\n",
       "      <td>2018-02-13 21:18:39</td>\n",
       "    </tr>\n",
       "  </tbody>\n",
       "</table>\n",
       "</div>"
      ],
      "text/plain": [
       "                 customer_unique_id order_purchase_timestamp\n",
       "0  7c396fd4830fd04220f754e42b4e5bff 2017-10-02 10:56:33     \n",
       "1  af07308b275d755c9edb36a90c618231 2018-07-24 20:41:37     \n",
       "2  3a653a41f6f9fc3d2a113cf8398680e8 2018-08-08 08:38:49     \n",
       "3  7c142cf63193a1473d2e66489a9ae977 2017-11-18 19:28:06     \n",
       "4  72632f0f9dd73dfee390c9b22eb56dd6 2018-02-13 21:18:39     "
      ]
     },
     "execution_count": 72,
     "metadata": {},
     "output_type": "execute_result"
    }
   ],
   "source": [
    "customer_data.head()"
   ]
  },
  {
   "cell_type": "markdown",
   "id": "af3ae92a",
   "metadata": {},
   "source": [
    "Чтобы определить время от последней покупки пользователя до текущей даты, предположим, что данные были получены на следующий\n",
    "день после их формирования. Последняя дата в базе совершенных покупок 3 сентября 2018 года"
   ]
  },
  {
   "cell_type": "code",
   "execution_count": 73,
   "id": "23a30e91",
   "metadata": {},
   "outputs": [
    {
     "name": "stdout",
     "output_type": "stream",
     "text": [
      "2018-09-03 09:06:57\n",
      "2016-09-04 21:15:19\n"
     ]
    }
   ],
   "source": [
    "print(customer_data['order_purchase_timestamp'].max())\n",
    "print(customer_data['order_purchase_timestamp'].min())"
   ]
  },
  {
   "cell_type": "markdown",
   "id": "5f862f60",
   "metadata": {},
   "source": [
    "Определили день для отсчета разницы в днях, как последнюю дату, указанную в базе плюс один день"
   ]
  },
  {
   "cell_type": "code",
   "execution_count": 74,
   "id": "e72b2d4f",
   "metadata": {},
   "outputs": [
    {
     "name": "stdout",
     "output_type": "stream",
     "text": [
      "2018-09-04 09:06:57\n"
     ]
    }
   ],
   "source": [
    "day_of_report = (customer_data['order_purchase_timestamp'].max() + pd.DateOffset(days=1))\n",
    "print(day_of_report)"
   ]
  },
  {
   "cell_type": "markdown",
   "id": "42f166dc",
   "metadata": {},
   "source": [
    "Посчитали разницу в днях между предполагаемой текущей датой и датой совершенных заказов"
   ]
  },
  {
   "cell_type": "code",
   "execution_count": 75,
   "id": "5120e8cf",
   "metadata": {},
   "outputs": [
    {
     "data": {
      "text/html": [
       "<div>\n",
       "<style scoped>\n",
       "    .dataframe tbody tr th:only-of-type {\n",
       "        vertical-align: middle;\n",
       "    }\n",
       "\n",
       "    .dataframe tbody tr th {\n",
       "        vertical-align: top;\n",
       "    }\n",
       "\n",
       "    .dataframe thead th {\n",
       "        text-align: right;\n",
       "    }\n",
       "</style>\n",
       "<table border=\"1\" class=\"dataframe\">\n",
       "  <thead>\n",
       "    <tr style=\"text-align: right;\">\n",
       "      <th></th>\n",
       "      <th>customer_unique_id</th>\n",
       "      <th>order_purchase_timestamp</th>\n",
       "      <th>days_diff</th>\n",
       "    </tr>\n",
       "  </thead>\n",
       "  <tbody>\n",
       "    <tr>\n",
       "      <th>0</th>\n",
       "      <td>7c396fd4830fd04220f754e42b4e5bff</td>\n",
       "      <td>2017-10-02 10:56:33</td>\n",
       "      <td>336</td>\n",
       "    </tr>\n",
       "    <tr>\n",
       "      <th>1</th>\n",
       "      <td>af07308b275d755c9edb36a90c618231</td>\n",
       "      <td>2018-07-24 20:41:37</td>\n",
       "      <td>41</td>\n",
       "    </tr>\n",
       "    <tr>\n",
       "      <th>2</th>\n",
       "      <td>3a653a41f6f9fc3d2a113cf8398680e8</td>\n",
       "      <td>2018-08-08 08:38:49</td>\n",
       "      <td>27</td>\n",
       "    </tr>\n",
       "    <tr>\n",
       "      <th>3</th>\n",
       "      <td>7c142cf63193a1473d2e66489a9ae977</td>\n",
       "      <td>2017-11-18 19:28:06</td>\n",
       "      <td>289</td>\n",
       "    </tr>\n",
       "    <tr>\n",
       "      <th>4</th>\n",
       "      <td>72632f0f9dd73dfee390c9b22eb56dd6</td>\n",
       "      <td>2018-02-13 21:18:39</td>\n",
       "      <td>202</td>\n",
       "    </tr>\n",
       "  </tbody>\n",
       "</table>\n",
       "</div>"
      ],
      "text/plain": [
       "                 customer_unique_id order_purchase_timestamp  days_diff\n",
       "0  7c396fd4830fd04220f754e42b4e5bff 2017-10-02 10:56:33       336      \n",
       "1  af07308b275d755c9edb36a90c618231 2018-07-24 20:41:37       41       \n",
       "2  3a653a41f6f9fc3d2a113cf8398680e8 2018-08-08 08:38:49       27       \n",
       "3  7c142cf63193a1473d2e66489a9ae977 2017-11-18 19:28:06       289      \n",
       "4  72632f0f9dd73dfee390c9b22eb56dd6 2018-02-13 21:18:39       202      "
      ]
     },
     "execution_count": 75,
     "metadata": {},
     "output_type": "execute_result"
    }
   ],
   "source": [
    "customer_data[\"days_diff\"] = (day_of_report - customer_data[\"order_purchase_timestamp\"]).dt.days\n",
    "customer_data.head()"
   ]
  },
  {
   "cell_type": "markdown",
   "id": "ce93ac5c",
   "metadata": {},
   "source": [
    "По каждому покупателю определили, сколько дней тому назад он в последний раз совершал покупку (recency). Т.е. количество дней между последней совершенной покупкой и текущим днем должна быть минимальная"
   ]
  },
  {
   "cell_type": "code",
   "execution_count": 76,
   "id": "0153b654",
   "metadata": {
    "scrolled": true
   },
   "outputs": [
    {
     "data": {
      "text/html": [
       "<div>\n",
       "<style scoped>\n",
       "    .dataframe tbody tr th:only-of-type {\n",
       "        vertical-align: middle;\n",
       "    }\n",
       "\n",
       "    .dataframe tbody tr th {\n",
       "        vertical-align: top;\n",
       "    }\n",
       "\n",
       "    .dataframe thead th {\n",
       "        text-align: right;\n",
       "    }\n",
       "</style>\n",
       "<table border=\"1\" class=\"dataframe\">\n",
       "  <thead>\n",
       "    <tr style=\"text-align: right;\">\n",
       "      <th></th>\n",
       "      <th>customer_unique_id</th>\n",
       "      <th>days_diff</th>\n",
       "    </tr>\n",
       "  </thead>\n",
       "  <tbody>\n",
       "    <tr>\n",
       "      <th>0</th>\n",
       "      <td>0000366f3b9a7992bf8c76cfdf3221e2</td>\n",
       "      <td>116</td>\n",
       "    </tr>\n",
       "    <tr>\n",
       "      <th>1</th>\n",
       "      <td>0000b849f77a49e4a4ce2b2a4ca5be3f</td>\n",
       "      <td>119</td>\n",
       "    </tr>\n",
       "    <tr>\n",
       "      <th>2</th>\n",
       "      <td>0000f46a3911fa3c0805444483337064</td>\n",
       "      <td>542</td>\n",
       "    </tr>\n",
       "    <tr>\n",
       "      <th>3</th>\n",
       "      <td>0000f6ccb0745a6a4b88665a16c9f078</td>\n",
       "      <td>326</td>\n",
       "    </tr>\n",
       "    <tr>\n",
       "      <th>4</th>\n",
       "      <td>0004aac84e0df4da2b147fca70cf8255</td>\n",
       "      <td>293</td>\n",
       "    </tr>\n",
       "  </tbody>\n",
       "</table>\n",
       "</div>"
      ],
      "text/plain": [
       "                 customer_unique_id  days_diff\n",
       "0  0000366f3b9a7992bf8c76cfdf3221e2  116      \n",
       "1  0000b849f77a49e4a4ce2b2a4ca5be3f  119      \n",
       "2  0000f46a3911fa3c0805444483337064  542      \n",
       "3  0000f6ccb0745a6a4b88665a16c9f078  326      \n",
       "4  0004aac84e0df4da2b147fca70cf8255  293      "
      ]
     },
     "execution_count": 76,
     "metadata": {},
     "output_type": "execute_result"
    }
   ],
   "source": [
    "recency = customer_data.groupby('customer_unique_id', as_index=False)['days_diff'].min()\n",
    "recency.head()"
   ]
  },
  {
   "cell_type": "markdown",
   "id": "e952fc3e",
   "metadata": {},
   "source": [
    "Суммарное количество покупок у пользователя за всё время (frequency) было посчитано в первом пункте"
   ]
  },
  {
   "cell_type": "code",
   "execution_count": 77,
   "id": "25c9de80",
   "metadata": {},
   "outputs": [
    {
     "data": {
      "text/html": [
       "<div>\n",
       "<style scoped>\n",
       "    .dataframe tbody tr th:only-of-type {\n",
       "        vertical-align: middle;\n",
       "    }\n",
       "\n",
       "    .dataframe tbody tr th {\n",
       "        vertical-align: top;\n",
       "    }\n",
       "\n",
       "    .dataframe thead th {\n",
       "        text-align: right;\n",
       "    }\n",
       "</style>\n",
       "<table border=\"1\" class=\"dataframe\">\n",
       "  <thead>\n",
       "    <tr style=\"text-align: right;\">\n",
       "      <th></th>\n",
       "      <th>customer_unique_id</th>\n",
       "      <th>sum_of_orders</th>\n",
       "    </tr>\n",
       "  </thead>\n",
       "  <tbody>\n",
       "    <tr>\n",
       "      <th>52358</th>\n",
       "      <td>8d50f5eadf50201ccdcedfb9e2ac8455</td>\n",
       "      <td>16</td>\n",
       "    </tr>\n",
       "    <tr>\n",
       "      <th>23201</th>\n",
       "      <td>3e43e6105506432c953e165fb2acf44c</td>\n",
       "      <td>9</td>\n",
       "    </tr>\n",
       "    <tr>\n",
       "      <th>37374</th>\n",
       "      <td>6469f99c1f9dfae7733b25662e7f1782</td>\n",
       "      <td>7</td>\n",
       "    </tr>\n",
       "    <tr>\n",
       "      <th>10235</th>\n",
       "      <td>1b6c7548a2a1f9037c1fd3ddfed95f33</td>\n",
       "      <td>7</td>\n",
       "    </tr>\n",
       "    <tr>\n",
       "      <th>75211</th>\n",
       "      <td>ca77025e7201e3b30c44b472ff346268</td>\n",
       "      <td>7</td>\n",
       "    </tr>\n",
       "  </tbody>\n",
       "</table>\n",
       "</div>"
      ],
      "text/plain": [
       "                     customer_unique_id  sum_of_orders\n",
       "52358  8d50f5eadf50201ccdcedfb9e2ac8455  16           \n",
       "23201  3e43e6105506432c953e165fb2acf44c  9            \n",
       "37374  6469f99c1f9dfae7733b25662e7f1782  7            \n",
       "10235  1b6c7548a2a1f9037c1fd3ddfed95f33  7            \n",
       "75211  ca77025e7201e3b30c44b472ff346268  7            "
      ]
     },
     "execution_count": 77,
     "metadata": {},
     "output_type": "execute_result"
    }
   ],
   "source": [
    "frequency = sum_of_orders\n",
    "frequency.head()"
   ]
  },
  {
   "cell_type": "markdown",
   "id": "93c3edb5",
   "metadata": {},
   "source": [
    "Чтобы посчитать сумму покупок каждого покупателя за всё время (monetary) сначала определим сумму каждого заказа в таблице `items`, а затем суммируем стоимость всех заказов для каждого уникального покупателя"
   ]
  },
  {
   "cell_type": "code",
   "execution_count": 78,
   "id": "771495c2",
   "metadata": {},
   "outputs": [],
   "source": [
    "revenue_per_order = items.groupby('order_id', as_index=False)['price'].sum()"
   ]
  },
  {
   "cell_type": "code",
   "execution_count": 79,
   "id": "c479dd5d",
   "metadata": {},
   "outputs": [],
   "source": [
    "# присоединили к заказам и покупателям сумму заказа\n",
    "data_m = order_customer_data.merge(revenue_per_order[['price', 'order_id']], on='order_id', how='left')"
   ]
  },
  {
   "cell_type": "code",
   "execution_count": 80,
   "id": "419de4c2",
   "metadata": {},
   "outputs": [
    {
     "data": {
      "text/html": [
       "<div>\n",
       "<style scoped>\n",
       "    .dataframe tbody tr th:only-of-type {\n",
       "        vertical-align: middle;\n",
       "    }\n",
       "\n",
       "    .dataframe tbody tr th {\n",
       "        vertical-align: top;\n",
       "    }\n",
       "\n",
       "    .dataframe thead th {\n",
       "        text-align: right;\n",
       "    }\n",
       "</style>\n",
       "<table border=\"1\" class=\"dataframe\">\n",
       "  <thead>\n",
       "    <tr style=\"text-align: right;\">\n",
       "      <th></th>\n",
       "      <th>customer_unique_id</th>\n",
       "      <th>total_customer_revenue</th>\n",
       "    </tr>\n",
       "  </thead>\n",
       "  <tbody>\n",
       "    <tr>\n",
       "      <th>3788</th>\n",
       "      <td>0a0a92112bd4c708ca5fde585afaa872</td>\n",
       "      <td>13440.0</td>\n",
       "    </tr>\n",
       "    <tr>\n",
       "      <th>81017</th>\n",
       "      <td>da122df9eeddfedc1dc1f5349a1a690c</td>\n",
       "      <td>7388.0</td>\n",
       "    </tr>\n",
       "    <tr>\n",
       "      <th>43943</th>\n",
       "      <td>763c8b1c9c68a0229c42c9fc6f662b93</td>\n",
       "      <td>7160.0</td>\n",
       "    </tr>\n",
       "    <tr>\n",
       "      <th>81856</th>\n",
       "      <td>dc4802a71eae9be1dd28f5d788ceb526</td>\n",
       "      <td>6735.0</td>\n",
       "    </tr>\n",
       "    <tr>\n",
       "      <th>25904</th>\n",
       "      <td>459bef486812aa25204be022145caa62</td>\n",
       "      <td>6729.0</td>\n",
       "    </tr>\n",
       "  </tbody>\n",
       "</table>\n",
       "</div>"
      ],
      "text/plain": [
       "                     customer_unique_id  total_customer_revenue\n",
       "3788   0a0a92112bd4c708ca5fde585afaa872  13440.0               \n",
       "81017  da122df9eeddfedc1dc1f5349a1a690c  7388.0                \n",
       "43943  763c8b1c9c68a0229c42c9fc6f662b93  7160.0                \n",
       "81856  dc4802a71eae9be1dd28f5d788ceb526  6735.0                \n",
       "25904  459bef486812aa25204be022145caa62  6729.0                "
      ]
     },
     "execution_count": 80,
     "metadata": {},
     "output_type": "execute_result"
    }
   ],
   "source": [
    "# Опеределили сумму покупок каждого покупателя за всё время (monetary)\n",
    "revenue_customers = data_m.groupby('customer_unique_id', as_index=False)\\\n",
    "    .agg({'price': 'sum'})\\\n",
    "    .rename(columns={'price': 'total_customer_revenue'})\\\n",
    "    .sort_values(by='total_customer_revenue', ascending=False)\n",
    "# monetary\n",
    "monetary = revenue_customers\n",
    "monetary.head()"
   ]
  },
  {
   "cell_type": "markdown",
   "id": "674648ab",
   "metadata": {},
   "source": [
    "Объединили 3 метрики: recency, frequency, monetary в один датафрейм"
   ]
  },
  {
   "cell_type": "code",
   "execution_count": 81,
   "id": "154aa8f7",
   "metadata": {},
   "outputs": [
    {
     "data": {
      "text/html": [
       "<div>\n",
       "<style scoped>\n",
       "    .dataframe tbody tr th:only-of-type {\n",
       "        vertical-align: middle;\n",
       "    }\n",
       "\n",
       "    .dataframe tbody tr th {\n",
       "        vertical-align: top;\n",
       "    }\n",
       "\n",
       "    .dataframe thead th {\n",
       "        text-align: right;\n",
       "    }\n",
       "</style>\n",
       "<table border=\"1\" class=\"dataframe\">\n",
       "  <thead>\n",
       "    <tr style=\"text-align: right;\">\n",
       "      <th></th>\n",
       "      <th>customer_unique_id</th>\n",
       "      <th>recency</th>\n",
       "      <th>frequency</th>\n",
       "      <th>monetary</th>\n",
       "    </tr>\n",
       "  </thead>\n",
       "  <tbody>\n",
       "    <tr>\n",
       "      <th>0</th>\n",
       "      <td>0000366f3b9a7992bf8c76cfdf3221e2</td>\n",
       "      <td>116</td>\n",
       "      <td>1</td>\n",
       "      <td>129.90</td>\n",
       "    </tr>\n",
       "    <tr>\n",
       "      <th>1</th>\n",
       "      <td>0000b849f77a49e4a4ce2b2a4ca5be3f</td>\n",
       "      <td>119</td>\n",
       "      <td>1</td>\n",
       "      <td>18.90</td>\n",
       "    </tr>\n",
       "    <tr>\n",
       "      <th>2</th>\n",
       "      <td>0000f46a3911fa3c0805444483337064</td>\n",
       "      <td>542</td>\n",
       "      <td>1</td>\n",
       "      <td>69.00</td>\n",
       "    </tr>\n",
       "    <tr>\n",
       "      <th>3</th>\n",
       "      <td>0000f6ccb0745a6a4b88665a16c9f078</td>\n",
       "      <td>326</td>\n",
       "      <td>1</td>\n",
       "      <td>25.99</td>\n",
       "    </tr>\n",
       "    <tr>\n",
       "      <th>4</th>\n",
       "      <td>0004aac84e0df4da2b147fca70cf8255</td>\n",
       "      <td>293</td>\n",
       "      <td>1</td>\n",
       "      <td>180.00</td>\n",
       "    </tr>\n",
       "  </tbody>\n",
       "</table>\n",
       "</div>"
      ],
      "text/plain": [
       "                 customer_unique_id  recency  frequency  monetary\n",
       "0  0000366f3b9a7992bf8c76cfdf3221e2  116      1          129.90  \n",
       "1  0000b849f77a49e4a4ce2b2a4ca5be3f  119      1          18.90   \n",
       "2  0000f46a3911fa3c0805444483337064  542      1          69.00   \n",
       "3  0000f6ccb0745a6a4b88665a16c9f078  326      1          25.99   \n",
       "4  0004aac84e0df4da2b147fca70cf8255  293      1          180.00  "
      ]
     },
     "execution_count": 81,
     "metadata": {},
     "output_type": "execute_result"
    }
   ],
   "source": [
    "rfm_data = pd.concat([recency, frequency['sum_of_orders'], monetary['total_customer_revenue']], axis=1)\n",
    "rfm_data.columns = ['customer_unique_id', 'recency', 'frequency', 'monetary']\n",
    "rfm_data.head()"
   ]
  },
  {
   "cell_type": "markdown",
   "id": "8db0106b",
   "metadata": {},
   "source": [
    "**6.2. Определение границ метрик**"
   ]
  },
  {
   "cell_type": "code",
   "execution_count": 82,
   "id": "469c042b",
   "metadata": {},
   "outputs": [
    {
     "data": {
      "text/html": [
       "<div>\n",
       "<style scoped>\n",
       "    .dataframe tbody tr th:only-of-type {\n",
       "        vertical-align: middle;\n",
       "    }\n",
       "\n",
       "    .dataframe tbody tr th {\n",
       "        vertical-align: top;\n",
       "    }\n",
       "\n",
       "    .dataframe thead th {\n",
       "        text-align: right;\n",
       "    }\n",
       "</style>\n",
       "<table border=\"1\" class=\"dataframe\">\n",
       "  <thead>\n",
       "    <tr style=\"text-align: right;\">\n",
       "      <th></th>\n",
       "      <th>recency</th>\n",
       "      <th>frequency</th>\n",
       "      <th>monetary</th>\n",
       "    </tr>\n",
       "  </thead>\n",
       "  <tbody>\n",
       "    <tr>\n",
       "      <th>count</th>\n",
       "      <td>94990.000000</td>\n",
       "      <td>94990.000000</td>\n",
       "      <td>94990.000000</td>\n",
       "    </tr>\n",
       "    <tr>\n",
       "      <th>mean</th>\n",
       "      <td>243.448374</td>\n",
       "      <td>1.033867</td>\n",
       "      <td>142.061277</td>\n",
       "    </tr>\n",
       "    <tr>\n",
       "      <th>std</th>\n",
       "      <td>152.999947</td>\n",
       "      <td>0.210826</td>\n",
       "      <td>216.070479</td>\n",
       "    </tr>\n",
       "    <tr>\n",
       "      <th>min</th>\n",
       "      <td>1.000000</td>\n",
       "      <td>1.000000</td>\n",
       "      <td>0.000000</td>\n",
       "    </tr>\n",
       "    <tr>\n",
       "      <th>25%</th>\n",
       "      <td>119.000000</td>\n",
       "      <td>1.000000</td>\n",
       "      <td>47.882500</td>\n",
       "    </tr>\n",
       "    <tr>\n",
       "      <th>50%</th>\n",
       "      <td>224.000000</td>\n",
       "      <td>1.000000</td>\n",
       "      <td>89.810000</td>\n",
       "    </tr>\n",
       "    <tr>\n",
       "      <th>75%</th>\n",
       "      <td>352.000000</td>\n",
       "      <td>1.000000</td>\n",
       "      <td>155.000000</td>\n",
       "    </tr>\n",
       "    <tr>\n",
       "      <th>max</th>\n",
       "      <td>729.000000</td>\n",
       "      <td>16.000000</td>\n",
       "      <td>13440.000000</td>\n",
       "    </tr>\n",
       "  </tbody>\n",
       "</table>\n",
       "</div>"
      ],
      "text/plain": [
       "            recency     frequency      monetary\n",
       "count  94990.000000  94990.000000  94990.000000\n",
       "mean   243.448374    1.033867      142.061277  \n",
       "std    152.999947    0.210826      216.070479  \n",
       "min    1.000000      1.000000      0.000000    \n",
       "25%    119.000000    1.000000      47.882500   \n",
       "50%    224.000000    1.000000      89.810000   \n",
       "75%    352.000000    1.000000      155.000000  \n",
       "max    729.000000    16.000000     13440.000000"
      ]
     },
     "execution_count": 82,
     "metadata": {},
     "output_type": "execute_result"
    }
   ],
   "source": [
    "# Описательная статистика метрик\n",
    "rfm_data.describe()"
   ]
  },
  {
   "cell_type": "markdown",
   "id": "15562f46",
   "metadata": {},
   "source": [
    "***Recency***"
   ]
  },
  {
   "cell_type": "markdown",
   "id": "26cb7657",
   "metadata": {},
   "source": [
    "Определим границы recency:\n",
    "Исходя из округленных данных процентилей 25, 50 и 75 % \n",
    "* 1-покупали давно-более 300 дней\n",
    "* 2-покупали относительно недавно- от 120 до 300 дней\n",
    "* 3-покупали недавно-от 1 до 120 дней"
   ]
  },
  {
   "cell_type": "code",
   "execution_count": 83,
   "id": "7d02323d",
   "metadata": {},
   "outputs": [
    {
     "data": {
      "text/plain": [
       "<AxesSubplot:xlabel='recency', ylabel='Density'>"
      ]
     },
     "execution_count": 83,
     "metadata": {},
     "output_type": "execute_result"
    },
    {
     "data": {
      "image/png": "[encoded data removed]",
      "text/plain": [
       "<Figure size 432x288 with 1 Axes>"
      ]
     },
     "metadata": {
      "needs_background": "light"
     },
     "output_type": "display_data"
    }
   ],
   "source": [
    "sns.distplot(rfm_data['recency'])"
   ]
  },
  {
   "cell_type": "markdown",
   "id": "8f0b3eca",
   "metadata": {},
   "source": [
    "Примерно после 300 дней идет спад количества пользователей"
   ]
  },
  {
   "cell_type": "code",
   "execution_count": 84,
   "id": "cd624499",
   "metadata": {},
   "outputs": [],
   "source": [
    "def recency_score(rec):\n",
    "    '''функция для присвоения показателя recency'''\n",
    "    if rec <= 120:\n",
    "        return 1\n",
    "    elif (rec > 120) and (rec <= 300):\n",
    "        return 2\n",
    "    else:\n",
    "        return 3\n",
    "\n",
    "\n",
    "rfm_data['R'] = rfm_data['recency'].apply(recency_score)"
   ]
  },
  {
   "cell_type": "code",
   "execution_count": 85,
   "id": "027c53c4",
   "metadata": {},
   "outputs": [
    {
     "data": {
      "image/png": "[encoded data removed]",
      "text/plain": [
       "<Figure size 432x288 with 1 Axes>"
      ]
     },
     "metadata": {
      "needs_background": "light"
     },
     "output_type": "display_data"
    }
   ],
   "source": [
    "ax = sns.countplot(rfm_data['R'])\n",
    "ax.set_title('Recency', fontsize=14, fontweight='bold')\n",
    "ax.set_xlabel('Recency Score')\n",
    "ax.set_ylabel('Количество пользователей')\n",
    "ax.spines['right'].set_visible(False)\n",
    "ax.spines['top'].set_visible(False)"
   ]
  },
  {
   "cell_type": "markdown",
   "id": "25900f5f",
   "metadata": {},
   "source": [
    "Основное количество пользователей пришло на сайт относительно недавно"
   ]
  },
  {
   "cell_type": "markdown",
   "id": "65f99241",
   "metadata": {},
   "source": [
    "***Frequency***"
   ]
  },
  {
   "cell_type": "markdown",
   "id": "4adb0031",
   "metadata": {},
   "source": [
    "Из 96096 покупателя: 92102 совершили только 1 покупку, что состаялвяет почти 96% "
   ]
  },
  {
   "cell_type": "code",
   "execution_count": 86,
   "id": "3deadf42",
   "metadata": {},
   "outputs": [
    {
     "data": {
      "text/plain": [
       "2     2652\n",
       "3     188 \n",
       "4     29  \n",
       "5     9   \n",
       "6     5   \n",
       "7     3   \n",
       "9     1   \n",
       "16    1   \n",
       "Name: frequency, dtype: int64"
      ]
     },
     "execution_count": 86,
     "metadata": {},
     "output_type": "execute_result"
    }
   ],
   "source": [
    "# Рассмотрим сколько покупателей сделали определенное количество покупок\n",
    "rfm_data.query('frequency>1')['frequency'].value_counts()"
   ]
  },
  {
   "cell_type": "markdown",
   "id": "d3ba8059",
   "metadata": {},
   "source": [
    "Покупатели делали 1,2,3,4,5,6,7,9,16 покупок. Из них 5 покупок-медианное значение. Исходя из этого установим следующие границы для frequency :\n",
    "* 1-покупали редко или однократно-1,2 покупок\n",
    "* 2-покупали несколько раз-3-5 покупок\n",
    "* 3-покупали часто-более 5 раз"
   ]
  },
  {
   "cell_type": "code",
   "execution_count": 87,
   "id": "37c1611c",
   "metadata": {},
   "outputs": [],
   "source": [
    "def frequency_score(freq):\n",
    "    '''функция для присвоения показателя frequency'''\n",
    "    if freq <= 2:\n",
    "        return 1\n",
    "    elif (freq > 2) and (freq <= 5):\n",
    "        return 2\n",
    "    else:\n",
    "        return 3\n",
    "\n",
    "\n",
    "rfm_data['F'] = rfm_data['frequency'].apply(frequency_score)"
   ]
  },
  {
   "cell_type": "code",
   "execution_count": 88,
   "id": "98c662fc",
   "metadata": {},
   "outputs": [
    {
     "data": {
      "image/png": "[encoded data removed]",
      "text/plain": [
       "<Figure size 432x288 with 1 Axes>"
      ]
     },
     "metadata": {
      "needs_background": "light"
     },
     "output_type": "display_data"
    }
   ],
   "source": [
    "ax = sns.countplot(rfm_data['F'])\n",
    "ax.set_title('Frequency', fontsize=14, fontweight='bold')\n",
    "ax.set_xlabel('Frequency Score')\n",
    "ax.set_ylabel('Количество пользователей')\n",
    "ax.spines['right'].set_visible(False)\n",
    "ax.spines['top'].set_visible(False)"
   ]
  },
  {
   "cell_type": "markdown",
   "id": "3c7bf60f",
   "metadata": {},
   "source": [
    "На графике видно, что почти все пользователи делали покупки редко или однократно"
   ]
  },
  {
   "cell_type": "markdown",
   "id": "5550ff30",
   "metadata": {},
   "source": [
    "***Monetary***"
   ]
  },
  {
   "cell_type": "code",
   "execution_count": 89,
   "id": "e4f16c44",
   "metadata": {},
   "outputs": [
    {
     "data": {
      "text/plain": [
       "<AxesSubplot:xlabel='monetary', ylabel='Density'>"
      ]
     },
     "execution_count": 89,
     "metadata": {},
     "output_type": "execute_result"
    },
    {
     "data": {
      "image/png": "[encoded data removed]",
      "text/plain": [
       "<Figure size 432x288 with 1 Axes>"
      ]
     },
     "metadata": {
      "needs_background": "light"
     },
     "output_type": "display_data"
    }
   ],
   "source": [
    "plt.ticklabel_format(style='plain')\n",
    "sns.distplot(rfm_data[rfm_data['monetary'] < 400]['monetary'])"
   ]
  },
  {
   "cell_type": "markdown",
   "id": "b25df6da",
   "metadata": {},
   "source": [
    "Маскимальное значение по monetary 13440, однако по графику видно,что основная часть покупателей совершали покупки в пределах 100. После 100 сумма идет на спад"
   ]
  },
  {
   "cell_type": "markdown",
   "id": "b5c72465",
   "metadata": {},
   "source": [
    "Для monetary установим следующие границы:\n",
    "* 1-маленькая сумма заказа- менее 100\n",
    "* 2-средняя сумма заказа -от 100 до 300\n",
    "* 3-большая сумма заказа- более 300"
   ]
  },
  {
   "cell_type": "code",
   "execution_count": 90,
   "id": "92788bb7",
   "metadata": {},
   "outputs": [],
   "source": [
    "def monetary_score(mon):\n",
    "    '''функция для присвоения показателя monetary'''\n",
    "    if mon <= 100:\n",
    "        return 1\n",
    "    elif (mon > 100) and (mon <= 300):\n",
    "        return 2\n",
    "    else:\n",
    "        return 3\n",
    "\n",
    "\n",
    "rfm_data['M'] = rfm_data['monetary'].apply(monetary_score)"
   ]
  },
  {
   "cell_type": "code",
   "execution_count": 91,
   "id": "ec01dc6f",
   "metadata": {},
   "outputs": [
    {
     "data": {
      "image/png": "[encoded data removed]",
      "text/plain": [
       "<Figure size 432x288 with 1 Axes>"
      ]
     },
     "metadata": {
      "needs_background": "light"
     },
     "output_type": "display_data"
    }
   ],
   "source": [
    "ax = sns.countplot(rfm_data['M'])\n",
    "ax.set_title('Monetary', fontsize=14, fontweight='bold')\n",
    "ax.set_xlabel('Monetary Score')\n",
    "ax.set_ylabel('Количество пользователей')\n",
    "ax.spines['right'].set_visible(False)\n",
    "ax.spines['top'].set_visible(False)"
   ]
  },
  {
   "cell_type": "markdown",
   "id": "df6ef178",
   "metadata": {},
   "source": [
    "На графике видна обратная зависимость количества покупателей и потраченной суммы. Чем выше сумма тем меньше покупателей"
   ]
  },
  {
   "cell_type": "code",
   "execution_count": 92,
   "id": "ecb0ede1",
   "metadata": {},
   "outputs": [
    {
     "data": {
      "text/html": [
       "<div>\n",
       "<style scoped>\n",
       "    .dataframe tbody tr th:only-of-type {\n",
       "        vertical-align: middle;\n",
       "    }\n",
       "\n",
       "    .dataframe tbody tr th {\n",
       "        vertical-align: top;\n",
       "    }\n",
       "\n",
       "    .dataframe thead th {\n",
       "        text-align: right;\n",
       "    }\n",
       "</style>\n",
       "<table border=\"1\" class=\"dataframe\">\n",
       "  <thead>\n",
       "    <tr style=\"text-align: right;\">\n",
       "      <th></th>\n",
       "      <th>customer_unique_id</th>\n",
       "      <th>recency</th>\n",
       "      <th>frequency</th>\n",
       "      <th>monetary</th>\n",
       "      <th>R</th>\n",
       "      <th>F</th>\n",
       "      <th>M</th>\n",
       "      <th>RFM Score</th>\n",
       "    </tr>\n",
       "  </thead>\n",
       "  <tbody>\n",
       "    <tr>\n",
       "      <th>0</th>\n",
       "      <td>0000366f3b9a7992bf8c76cfdf3221e2</td>\n",
       "      <td>116</td>\n",
       "      <td>1</td>\n",
       "      <td>129.90</td>\n",
       "      <td>1</td>\n",
       "      <td>1</td>\n",
       "      <td>2</td>\n",
       "      <td>112</td>\n",
       "    </tr>\n",
       "    <tr>\n",
       "      <th>1</th>\n",
       "      <td>0000b849f77a49e4a4ce2b2a4ca5be3f</td>\n",
       "      <td>119</td>\n",
       "      <td>1</td>\n",
       "      <td>18.90</td>\n",
       "      <td>1</td>\n",
       "      <td>1</td>\n",
       "      <td>1</td>\n",
       "      <td>111</td>\n",
       "    </tr>\n",
       "    <tr>\n",
       "      <th>2</th>\n",
       "      <td>0000f46a3911fa3c0805444483337064</td>\n",
       "      <td>542</td>\n",
       "      <td>1</td>\n",
       "      <td>69.00</td>\n",
       "      <td>3</td>\n",
       "      <td>1</td>\n",
       "      <td>1</td>\n",
       "      <td>311</td>\n",
       "    </tr>\n",
       "    <tr>\n",
       "      <th>3</th>\n",
       "      <td>0000f6ccb0745a6a4b88665a16c9f078</td>\n",
       "      <td>326</td>\n",
       "      <td>1</td>\n",
       "      <td>25.99</td>\n",
       "      <td>3</td>\n",
       "      <td>1</td>\n",
       "      <td>1</td>\n",
       "      <td>311</td>\n",
       "    </tr>\n",
       "    <tr>\n",
       "      <th>4</th>\n",
       "      <td>0004aac84e0df4da2b147fca70cf8255</td>\n",
       "      <td>293</td>\n",
       "      <td>1</td>\n",
       "      <td>180.00</td>\n",
       "      <td>2</td>\n",
       "      <td>1</td>\n",
       "      <td>2</td>\n",
       "      <td>212</td>\n",
       "    </tr>\n",
       "  </tbody>\n",
       "</table>\n",
       "</div>"
      ],
      "text/plain": [
       "                 customer_unique_id  recency  frequency  monetary  R  F  M  \\\n",
       "0  0000366f3b9a7992bf8c76cfdf3221e2  116      1          129.90    1  1  2   \n",
       "1  0000b849f77a49e4a4ce2b2a4ca5be3f  119      1          18.90     1  1  1   \n",
       "2  0000f46a3911fa3c0805444483337064  542      1          69.00     3  1  1   \n",
       "3  0000f6ccb0745a6a4b88665a16c9f078  326      1          25.99     3  1  1   \n",
       "4  0004aac84e0df4da2b147fca70cf8255  293      1          180.00    2  1  2   \n",
       "\n",
       "  RFM Score  \n",
       "0  112       \n",
       "1  111       \n",
       "2  311       \n",
       "3  311       \n",
       "4  212       "
      ]
     },
     "execution_count": 92,
     "metadata": {},
     "output_type": "execute_result"
    }
   ],
   "source": [
    "# Проставим RFM Score каждому покупателю\n",
    "rfm_data['RFM Score'] = rfm_data.apply(lambda x: str(x['R']) + str(x['F']) + str(x['M']), axis=1)\n",
    "rfm_data.head()"
   ]
  },
  {
   "cell_type": "code",
   "execution_count": 93,
   "id": "34c6ae62",
   "metadata": {},
   "outputs": [
    {
     "data": {
      "text/plain": [
       "21"
      ]
     },
     "execution_count": 93,
     "metadata": {},
     "output_type": "execute_result"
    }
   ],
   "source": [
    "# количество полученных комбинаций RFM Score\n",
    "rfm_data['RFM Score'].nunique()"
   ]
  },
  {
   "cell_type": "code",
   "execution_count": 94,
   "id": "7a2afa98",
   "metadata": {},
   "outputs": [
    {
     "data": {
      "text/plain": [
       "211    22838\n",
       "311    18110\n",
       "212    13931\n",
       "111    13475\n",
       "312    9907 \n",
       "112    8377 \n",
       "213    3323 \n",
       "313    2743 \n",
       "113    2050 \n",
       "123    45   \n",
       "222    44   \n",
       "223    44   \n",
       "322    26   \n",
       "323    25   \n",
       "122    24   \n",
       "321    9    \n",
       "121    6    \n",
       "133    5    \n",
       "233    4    \n",
       "221    3    \n",
       "331    1    \n",
       "Name: RFM Score, dtype: int64"
      ]
     },
     "execution_count": 94,
     "metadata": {},
     "output_type": "execute_result"
    }
   ],
   "source": [
    "rfm_data['RFM Score'].value_counts()"
   ]
  },
  {
   "cell_type": "markdown",
   "id": "c17814ab",
   "metadata": {},
   "source": [
    "**6.3. Определение сегментов:** \n",
    "* ПОТЕРЯННЫЕ - 11Х покупатели, которые давно сделали одну покупку, скорее всего уже не вернутся\n",
    "* УШЕДШИЕ - 12Х и 13Х покупатели, которые в прошлом были активны, но потом ушли\n",
    "* ТРЕБУЮТ ВНИМАНИЕ - 21X сделали одну покупку относительно недавно, могут уйти, а могут стать перспективными \n",
    "* ПЕРСПЕКТИВНЫЕ - 22Х, 23Х покупатели, которые совершили покупку относительно недавно, на сумму выше минимальной, у них есть потенциал стать лояльными\n",
    "* НОВЫЕ - 311 новые покупатели, недавно совершили одну покупку на минимальную сумму\n",
    "* МНОГООБЕЩАЮЩИЕ - 312, 313 новые покупатели которые недавно сделали покупку на сумму выше минимальной\n",
    "* ЛОЯЛЬНЫЕ - 32Х, 33Х покупатели, у которых последняя покупка была недавно, покупали относительно часто \n"
   ]
  },
  {
   "cell_type": "code",
   "execution_count": 95,
   "id": "5d76af57",
   "metadata": {},
   "outputs": [
    {
     "data": {
      "text/html": [
       "<div>\n",
       "<style scoped>\n",
       "    .dataframe tbody tr th:only-of-type {\n",
       "        vertical-align: middle;\n",
       "    }\n",
       "\n",
       "    .dataframe tbody tr th {\n",
       "        vertical-align: top;\n",
       "    }\n",
       "\n",
       "    .dataframe thead th {\n",
       "        text-align: right;\n",
       "    }\n",
       "</style>\n",
       "<table border=\"1\" class=\"dataframe\">\n",
       "  <thead>\n",
       "    <tr style=\"text-align: right;\">\n",
       "      <th></th>\n",
       "      <th>customer_unique_id</th>\n",
       "      <th>recency</th>\n",
       "      <th>frequency</th>\n",
       "      <th>monetary</th>\n",
       "      <th>R</th>\n",
       "      <th>F</th>\n",
       "      <th>M</th>\n",
       "      <th>RFM Score</th>\n",
       "      <th>Segment</th>\n",
       "    </tr>\n",
       "  </thead>\n",
       "  <tbody>\n",
       "    <tr>\n",
       "      <th>0</th>\n",
       "      <td>0000366f3b9a7992bf8c76cfdf3221e2</td>\n",
       "      <td>116</td>\n",
       "      <td>1</td>\n",
       "      <td>129.90</td>\n",
       "      <td>1</td>\n",
       "      <td>1</td>\n",
       "      <td>2</td>\n",
       "      <td>112</td>\n",
       "      <td>потерянные</td>\n",
       "    </tr>\n",
       "    <tr>\n",
       "      <th>1</th>\n",
       "      <td>0000b849f77a49e4a4ce2b2a4ca5be3f</td>\n",
       "      <td>119</td>\n",
       "      <td>1</td>\n",
       "      <td>18.90</td>\n",
       "      <td>1</td>\n",
       "      <td>1</td>\n",
       "      <td>1</td>\n",
       "      <td>111</td>\n",
       "      <td>потерянные</td>\n",
       "    </tr>\n",
       "    <tr>\n",
       "      <th>2</th>\n",
       "      <td>0000f46a3911fa3c0805444483337064</td>\n",
       "      <td>542</td>\n",
       "      <td>1</td>\n",
       "      <td>69.00</td>\n",
       "      <td>3</td>\n",
       "      <td>1</td>\n",
       "      <td>1</td>\n",
       "      <td>311</td>\n",
       "      <td>новые</td>\n",
       "    </tr>\n",
       "    <tr>\n",
       "      <th>3</th>\n",
       "      <td>0000f6ccb0745a6a4b88665a16c9f078</td>\n",
       "      <td>326</td>\n",
       "      <td>1</td>\n",
       "      <td>25.99</td>\n",
       "      <td>3</td>\n",
       "      <td>1</td>\n",
       "      <td>1</td>\n",
       "      <td>311</td>\n",
       "      <td>новые</td>\n",
       "    </tr>\n",
       "    <tr>\n",
       "      <th>4</th>\n",
       "      <td>0004aac84e0df4da2b147fca70cf8255</td>\n",
       "      <td>293</td>\n",
       "      <td>1</td>\n",
       "      <td>180.00</td>\n",
       "      <td>2</td>\n",
       "      <td>1</td>\n",
       "      <td>2</td>\n",
       "      <td>212</td>\n",
       "      <td>требуют внимания</td>\n",
       "    </tr>\n",
       "  </tbody>\n",
       "</table>\n",
       "</div>"
      ],
      "text/plain": [
       "                 customer_unique_id  recency  frequency  monetary  R  F  M  \\\n",
       "0  0000366f3b9a7992bf8c76cfdf3221e2  116      1          129.90    1  1  2   \n",
       "1  0000b849f77a49e4a4ce2b2a4ca5be3f  119      1          18.90     1  1  1   \n",
       "2  0000f46a3911fa3c0805444483337064  542      1          69.00     3  1  1   \n",
       "3  0000f6ccb0745a6a4b88665a16c9f078  326      1          25.99     3  1  1   \n",
       "4  0004aac84e0df4da2b147fca70cf8255  293      1          180.00    2  1  2   \n",
       "\n",
       "  RFM Score           Segment  \n",
       "0  112       потерянные        \n",
       "1  111       потерянные        \n",
       "2  311       новые             \n",
       "3  311       новые             \n",
       "4  212       требуют внимания  "
      ]
     },
     "execution_count": 95,
     "metadata": {},
     "output_type": "execute_result"
    }
   ],
   "source": [
    "# Создали колонку с названием сегмента для каждого пользователя\n",
    "segt_map = {\n",
    "    r'[1][1][1-3]': 'потерянные',\n",
    "    r'[1][2-3][1-3]': 'ушедшие',\n",
    "    r'[2][1][1-3]': 'требуют внимания',\n",
    "    r'[2][2-3][1-3]': 'перспективные',\n",
    "    r'[3][1][1]': 'новые',\n",
    "    r'[3][1][2-3]': 'многообещающие',\n",
    "    r'[3][2-3][1-3]': 'лояльные'\n",
    "    }\n",
    "rfm_data['Segment'] = rfm_data['R'].map(str) + rfm_data['F'].map(str) + rfm_data['M'].map(str)\n",
    "rfm_data['Segment'] = rfm_data['Segment'].replace(segt_map, regex=True)\n",
    "rfm_data.head()"
   ]
  },
  {
   "cell_type": "code",
   "execution_count": 96,
   "id": "db6dec09",
   "metadata": {},
   "outputs": [
    {
     "data": {
      "text/plain": [
       "требуют внимания    40092\n",
       "потерянные          23902\n",
       "новые               18110\n",
       "многообещающие      12650\n",
       "перспективные       95   \n",
       "ушедшие             80   \n",
       "лояльные            61   \n",
       "Name: Segment, dtype: int64"
      ]
     },
     "execution_count": 96,
     "metadata": {},
     "output_type": "execute_result"
    }
   ],
   "source": [
    "# Количество пользователей по сегментам\n",
    "rfm_data['Segment'].value_counts()"
   ]
  },
  {
   "cell_type": "code",
   "execution_count": 97,
   "id": "bd7ccf51",
   "metadata": {},
   "outputs": [
    {
     "data": {
      "text/plain": [
       "[Text(0, 0, '40092 (42.207%)'),\n",
       " Text(0, 0, '23902 (25.163%)'),\n",
       " Text(0, 0, '18110 (19.065%)'),\n",
       " Text(0, 0, '12650 (13.317%)'),\n",
       " Text(0, 0, '95 (0.100%)'),\n",
       " Text(0, 0, '80 (0.084%)'),\n",
       " Text(0, 0, '61 (0.064%)')]"
      ]
     },
     "execution_count": 97,
     "metadata": {},
     "output_type": "execute_result"
    },
    {
     "data": {
      "image/png": "[encoded data removed]",
      "text/plain": [
       "<Figure size 1080x720 with 1 Axes>"
      ]
     },
     "metadata": {
      "needs_background": "light"
     },
     "output_type": "display_data"
    }
   ],
   "source": [
    "# Визуализация количества пользователей по сегментам\n",
    "plt.figure(figsize=(15, 10))\n",
    "ax = sns.countplot(y=rfm_data['Segment'], order=rfm_data['Segment'].value_counts(ascending=False).index, palette=\"husl\")\n",
    "ax.set_title('СЕГМЕНТЫ ПОКУПАТЕЛЕЙ', fontsize=14, fontweight='bold')\n",
    "ax.set_xlabel(None)\n",
    "ax.set_ylabel(None)\n",
    "\n",
    "ax.set_frame_on(False)\n",
    "ax.tick_params(left=False,\n",
    "               bottom=False,\n",
    "               labelbottom=False)\n",
    "\n",
    "abs_values = rfm_data['Segment'].value_counts(ascending=False)\n",
    "rel_values = rfm_data['Segment'].value_counts(ascending=False, normalize=True).values * 100\n",
    "lbls = [f'{p[0]} ({p[1]:.3f}%)' for p in zip(abs_values, rel_values)]\n",
    "\n",
    "ax.bar_label(container=ax.containers[0], labels=lbls)"
   ]
  },
  {
   "cell_type": "markdown",
   "id": "b05579fe",
   "metadata": {},
   "source": [
    "`Лояльных` как и `ушедших` покупателей меньше одного процента. Основную массу покупателей составляют сегменты, которые делали покупку недавно или относительно недавно.\n",
    "* 42% составляют покупатели, которые сделали относительно недано одну покупку, у них есть потенциал попасть как в группу ушедших, так и в группу лояльных. На данном этапе эта группа покупателей `требует внимания`. \n",
    "* `Потерянные` на данный момент покупатели, которые в прошлом делали несколько покупок составляют 25 процентов. Это второй по величине сегмент, требуется найти возможность его уменьшить и вернуть внимание этих покупателей к продукту.\n",
    "* Довольно большой процент `новых` покупателей, 19% покупателей недавно сделали только одну покупку и присматриваются к продукту, а 13% недавно сделали несколько покупок, что показывает заинтересованность в продукте, эти покупатели опали в сегмент `многообещающие`.    "
   ]
  },
  {
   "cell_type": "code",
   "execution_count": null,
   "id": "290fc468",
   "metadata": {},
   "outputs": [],
   "source": []
  }
 ],
 "metadata": {
  "kernelspec": {
   "display_name": "Python 3 (ipykernel)",
   "language": "python",
   "name": "python3"
  },
  "language_info": {
   "codemirror_mode": {
    "name": "ipython",
    "version": 3
   },
   "file_extension": ".py",
   "mimetype": "text/x-python",
   "name": "python",
   "nbconvert_exporter": "python",
   "pygments_lexer": "ipython3",
   "version": "3.9.12"
  }
 },
 "nbformat": 4,
 "nbformat_minor": 5
}
