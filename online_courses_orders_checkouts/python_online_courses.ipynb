{
 "cells": [
  {
   "cell_type": "code",
   "execution_count": 1,
   "id": "670e4578",
   "metadata": {},
   "outputs": [],
   "source": [
    "# импорт библиотек\n",
    "import pandas as pd\n",
    "import numpy as np\n",
    "import matplotlib.pyplot as plt\n",
    "import seaborn as sns"
   ]
  },
  {
   "cell_type": "markdown",
   "id": "09ffb929",
   "metadata": {},
   "source": [
    "# 3. Python <a class=\"anchor\" id=\"3.-Python\"></a>\n",
    "**Задача 3.1**  \n",
    "Реализуйте функцию, которая будет автоматически подгружать информацию из дополнительного файла groups_add.csv (заголовки могут отличаться) и на основании дополнительных параметров пересчитывать метрики.\n"
   ]
  },
  {
   "cell_type": "markdown",
   "id": "c59f3e92",
   "metadata": {},
   "source": [
    "Для решения использованы данные первого задания, поэтому функция будет расчитывать метрики определенные в А/Б тесте первого задания: CR, AOV, RPV"
   ]
  },
  {
   "cell_type": "code",
   "execution_count": 2,
   "id": "d80f6e5b",
   "metadata": {},
   "outputs": [],
   "source": [
    "def add_groups(add_data): \n",
    "    '''Функция для расчета метрик'''\n",
    "    url_groups = 'https://raw.githubusercontent.com/GerelMN/portfolio_projects/main/online_courses_orders_checkouts/dataset/project_2_groups.csv'\n",
    "    url_active_studs = 'https://raw.githubusercontent.com/GerelMN/portfolio_projects/main/online_courses_orders_checkouts/dataset/project_2_active_studs.csv'\n",
    "    url_checks = 'https://raw.githubusercontent.com/GerelMN/portfolio_projects/main/online_courses_orders_checkouts/dataset/project_2_checks.csv'\n",
    "    url_groups_add = add_data\n",
    "    groups = pd.read_csv(url_groups, sep=';')\n",
    "    active_studs = pd.read_csv(url_active_studs)\n",
    "    checks = pd.read_csv(url_checks, sep=';')\n",
    "    groups_add = pd.read_csv(url_groups_add)\n",
    "    # Объединим данные о группах\n",
    "    combined_groups = pd.concat([groups, groups_add])\n",
    "    # Добавили признак активности (1-активный, 0-неактивный)\n",
    "    combined_groups['active'] = np.where(combined_groups['id'].isin(active_studs['student_id']) == True, 1, 0)\n",
    "    \n",
    "    # Добавили сумму оплаты\n",
    "    checks = checks.rename(columns={'student_id': 'id'})\n",
    "    user_data = combined_groups.merge(checks[['id', 'rev']], on='id', how='left')\n",
    "    user_data['rev'] = round(user_data['rev'].fillna(0), 2)\n",
    "    active_users = user_data.query('active == 1')\\\n",
    "    .groupby('grp', as_index=False)\\\n",
    "    .agg(amount_active_users=('id', 'count')) \n",
    "    check_users = user_data.query('active == 1 & rev>0')\\\n",
    "    .groupby('grp', as_index=False)\\\n",
    "    .agg(amount_check_users=('id', 'count'), rev_check=('rev', 'sum'))\n",
    "         \n",
    "    df = active_users.merge(check_users, on='grp', how='left')\n",
    "    df['CR'] = (df['amount_check_users'] / df['amount_active_users']) * 100\n",
    "    df['AOV'] = df['rev_check'] / df['amount_check_users']\n",
    "    df['RPV'] = df['CR'] * df['AOV']\n",
    "         \n",
    "    metrics = round(df[['grp', 'CR', 'AOV', 'RPV']], 2) \n",
    "    metrics = metrics.replace({'grp': {'A': 'control', 'B': 'test'}})\n",
    "  \n",
    "    return metrics"
   ]
  },
  {
   "cell_type": "code",
   "execution_count": 3,
   "id": "32283bd3",
   "metadata": {},
   "outputs": [],
   "source": [
    "def get_diff(metrics):\n",
    "    '''Функция для расчета разниц в метриках'''\n",
    "    control = metrics.iloc[0, 1:4]\n",
    "    test = metrics.iloc[1, 1:4]\n",
    "    diff = test - control\n",
    "    diff_lst = list(diff)\n",
    "    \n",
    "    diff_dict = {'CR_diff': diff_lst[0], 'AOV_diff': diff_lst[1], 'RPV_diff': diff_lst[2]} \n",
    "    difference = pd.DataFrame(diff_dict, index=['test-control'])\n",
    "    diff_df = difference.style.applymap(lambda v: \"color:green;\" if v > 0 else \"color:red;\")\n",
    "\n",
    "    return diff_df"
   ]
  },
  {
   "cell_type": "markdown",
   "id": "f0a3d132",
   "metadata": {},
   "source": [
    "Получена ссылка на дополнительные данные https://raw.githubusercontent.com/GerelMN/portfolio_projects/main/online_courses_orders_checkouts/dataset/project_2_group_add.csv"
   ]
  },
  {
   "cell_type": "code",
   "execution_count": 4,
   "id": "9decddb0",
   "metadata": {},
   "outputs": [
    {
     "name": "stdout",
     "output_type": "stream",
     "text": [
      "Введите ссылку на данные https://raw.githubusercontent.com/GerelMN/portfolio_projects/main/online_courses_orders_checkouts/dataset/project_2_group_add.csv\n"
     ]
    },
    {
     "data": {
      "text/html": [
       "<div>\n",
       "<style scoped>\n",
       "    .dataframe tbody tr th:only-of-type {\n",
       "        vertical-align: middle;\n",
       "    }\n",
       "\n",
       "    .dataframe tbody tr th {\n",
       "        vertical-align: top;\n",
       "    }\n",
       "\n",
       "    .dataframe thead th {\n",
       "        text-align: right;\n",
       "    }\n",
       "</style>\n",
       "<table border=\"1\" class=\"dataframe\">\n",
       "  <thead>\n",
       "    <tr style=\"text-align: right;\">\n",
       "      <th></th>\n",
       "      <th>grp</th>\n",
       "      <th>CR</th>\n",
       "      <th>AOV</th>\n",
       "      <th>RPV</th>\n",
       "    </tr>\n",
       "  </thead>\n",
       "  <tbody>\n",
       "    <tr>\n",
       "      <th>0</th>\n",
       "      <td>control</td>\n",
       "      <td>5.07</td>\n",
       "      <td>933.59</td>\n",
       "      <td>4734.72</td>\n",
       "    </tr>\n",
       "    <tr>\n",
       "      <th>1</th>\n",
       "      <td>test</td>\n",
       "      <td>4.62</td>\n",
       "      <td>1257.88</td>\n",
       "      <td>5805.88</td>\n",
       "    </tr>\n",
       "  </tbody>\n",
       "</table>\n",
       "</div>"
      ],
      "text/plain": [
       "       grp    CR      AOV      RPV\n",
       "0  control  5.07   933.59  4734.72\n",
       "1     test  4.62  1257.88  5805.88"
      ]
     },
     "metadata": {},
     "output_type": "display_data"
    },
    {
     "data": {
      "text/html": [
       "<style type=\"text/css\">\n",
       "#T_32255_row0_col0 {\n",
       "  color: red;\n",
       "}\n",
       "#T_32255_row0_col1, #T_32255_row0_col2 {\n",
       "  color: green;\n",
       "}\n",
       "</style>\n",
       "<table id=\"T_32255\">\n",
       "  <thead>\n",
       "    <tr>\n",
       "      <th class=\"blank level0\" >&nbsp;</th>\n",
       "      <th id=\"T_32255_level0_col0\" class=\"col_heading level0 col0\" >CR_diff</th>\n",
       "      <th id=\"T_32255_level0_col1\" class=\"col_heading level0 col1\" >AOV_diff</th>\n",
       "      <th id=\"T_32255_level0_col2\" class=\"col_heading level0 col2\" >RPV_diff</th>\n",
       "    </tr>\n",
       "  </thead>\n",
       "  <tbody>\n",
       "    <tr>\n",
       "      <th id=\"T_32255_level0_row0\" class=\"row_heading level0 row0\" >test-control</th>\n",
       "      <td id=\"T_32255_row0_col0\" class=\"data row0 col0\" >-0.450000</td>\n",
       "      <td id=\"T_32255_row0_col1\" class=\"data row0 col1\" >324.290000</td>\n",
       "      <td id=\"T_32255_row0_col2\" class=\"data row0 col2\" >1071.160000</td>\n",
       "    </tr>\n",
       "  </tbody>\n",
       "</table>\n"
      ],
      "text/plain": [
       "<pandas.io.formats.style.Styler at 0x1c04b075970>"
      ]
     },
     "metadata": {},
     "output_type": "display_data"
    }
   ],
   "source": [
    "url_add = input('Введите ссылку на данные ')\n",
    "display(add_groups(url_add))\n",
    "display(get_diff(add_groups(url_add)))"
   ]
  },
  {
   "cell_type": "markdown",
   "id": "26adb84c",
   "metadata": {},
   "source": [
    "#### Задача 3.2 <a class=\"anchor\" id=\"Задача-3.2\"></a>"
   ]
  },
  {
   "cell_type": "markdown",
   "id": "f05b8a14",
   "metadata": {},
   "source": [
    "Реализуйте функцию, которая будет строить графики по получаемым метрикам."
   ]
  },
  {
   "cell_type": "code",
   "execution_count": 59,
   "id": "5dca2a06",
   "metadata": {},
   "outputs": [],
   "source": [
    "def graph_plot(metrics):\n",
    "    '''Функция для построения графиков'''\n",
    "    fig, ax = plt.subplots(1, 3, figsize=(20, 10)) \n",
    "    sns.set_style(\"whitegrid\")\n",
    "    sns.set_palette(\"pastel\")\n",
    "    cr = sns.barplot(ax=ax[0], x='grp', y='CR', data=metrics)\n",
    "    cr.set_title(\"Conversion Rate\", fontsize=14)\n",
    "    cr.set_ylabel(\"%\", fontsize=14)\n",
    "    aov = sns.barplot(ax=ax[1], x='grp', y='AOV', data=metrics)\n",
    "    aov.set_title(\"Average Order Value\", fontsize=14)\n",
    "    aov.set_ylabel(\"rub.\", fontsize=14)\n",
    "    rpv = sns.barplot(ax=ax[2], x='grp', y='RPV', data=metrics)\n",
    "    rpv.set_title(\"Revenue per Visitor\", fontsize=14)\n",
    "    rpv.set_ylabel(\"rub.\", fontsize=14)\n",
    "    for axis in ax.ravel():\n",
    "        axis.set_fontsize = 20\n",
    "        axis.spines['right'].set_visible(False)\n",
    "        axis.spines['top'].set_visible(False)\n",
    "        axis.set_xlabel('groups', fontsize=12)\n",
    "        axis.tick_params(axis='both', which='major', labelsize=14)\n",
    "\n",
    "    fig.suptitle('METRICS for A/B test', fontsize=20, fontweight='bold')\n",
    "    return fig.show"
   ]
  },
  {
   "cell_type": "code",
   "execution_count": 61,
   "id": "81cc27a3",
   "metadata": {},
   "outputs": [
    {
     "data": {
      "text/plain": [
       "<bound method Figure.show of <Figure size 1440x720 with 3 Axes>>"
      ]
     },
     "execution_count": 61,
     "metadata": {},
     "output_type": "execute_result"
    },
    {
     "data": {
      "image/png": "[encoded data removed]",
      "text/plain": [
       "<Figure size 1440x720 with 3 Axes>"
      ]
     },
     "metadata": {},
     "output_type": "display_data"
    }
   ],
   "source": [
    "graph_plot(add_groups(url_add))"
   ]
  },
  {
   "cell_type": "code",
   "execution_count": null,
   "id": "0253e1d1",
   "metadata": {},
   "outputs": [],
   "source": []
  }
 ],
 "metadata": {
  "kernelspec": {
   "display_name": "Python 3 (ipykernel)",
   "language": "python",
   "name": "python3"
  },
  "language_info": {
   "codemirror_mode": {
    "name": "ipython",
    "version": 3
   },
   "file_extension": ".py",
   "mimetype": "text/x-python",
   "name": "python",
   "nbconvert_exporter": "python",
   "pygments_lexer": "ipython3",
   "version": "3.9.12"
  }
 },
 "nbformat": 4,
 "nbformat_minor": 5
}
