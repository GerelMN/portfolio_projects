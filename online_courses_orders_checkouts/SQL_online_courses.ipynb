{
 "cells": [
  {
   "cell_type": "code",
   "execution_count": 1,
   "id": "670e4578",
   "metadata": {},
   "outputs": [],
   "source": [
    "# импорт библиотек\n",
    "import pandahouse as ph"
   ]
  },
  {
   "cell_type": "markdown",
   "id": "db46e47f",
   "metadata": {},
   "source": [
    "# SQL \n",
    "**Задача 2.1**  \n",
    "Образовательные курсы состоят из различных уроков, каждый из которых состоит из нескольких маленьких заданий. Каждое такое маленькое задание называется \"горошиной\". <br>Назовём очень усердным учеником того пользователя, который хотя бы раз за текущий месяц правильно решил 20 горошин.\n",
    "<br>Дана таблица в Clickhouse **default.peas**:\n",
    "\n",
    "|Название атрибута|Тип атрибута|Смысловое значение|\n",
    "|:-|:-|:-|\n",
    "|st_id|int|ID ученика|\n",
    "|timest|timestamp|Время решения карточки|\n",
    "|correct|bool|Правильно ли решена горошина?|\n",
    "|subject|text|Дисциплина, в которой находится горошина|\n",
    "\n",
    "**Необходимо написать оптимальный запрос, который даст информацию о количестве очень усердных студентов.**\n",
    "<br>NB! Под очень усердным студентом мы понимаем студента, который правильно решил 20 задач за текущий месяц."
   ]
  },
  {
   "cell_type": "code",
   "execution_count": 2,
   "id": "d24a7397",
   "metadata": {},
   "outputs": [],
   "source": [
    "# задаем параметры для подключения к базе данных default на ClickHouse:\n",
    "connection_default = {'host': 'http://clickhouse.beslan.pro:8080',\n",
    "                      'database': 'default',\n",
    "                      'user': 'student', \n",
    "                      'password': 'dpo_python_2020'\n",
    "                      }"
   ]
  },
  {
   "cell_type": "code",
   "execution_count": 3,
   "id": "d49d8fa6",
   "metadata": {},
   "outputs": [],
   "source": [
    "# Создали запрос для подсчета количества усердных учеников\n",
    "q_1 = ''' \n",
    "    SELECT COUNT(*) AS amount_of_good_students  --посчитали количество учердных учеников\n",
    "    FROM  \n",
    "(--объявили параметр текущего месяца, как последний месяц указанный в таблице, \n",
    "--т.к. данных за текущий месяц на момент решения задачи в таблице нет.  \n",
    "    WITH\n",
    "    (SELECT MAX(toStartOfMonth(timest)) FROM peas) AS current_month \n",
    "--Посчитали количество правильно решенных заданий каждым студентом за текущий месяц \n",
    "--и выбрали студентов с 20 и более горошинами \n",
    "    SELECT st_id, SUM(correct) AS correct_peas FROM peas\n",
    "    WHERE toStartOfMonth(timest) = current_month \n",
    "    GROUP BY(st_id)\n",
    "    HAVING correct_peas >= 20\n",
    ") '''\n"
   ]
  },
  {
   "cell_type": "code",
   "execution_count": 4,
   "id": "92060520",
   "metadata": {},
   "outputs": [
    {
     "data": {
      "text/html": [
       "<div>\n",
       "<style scoped>\n",
       "    .dataframe tbody tr th:only-of-type {\n",
       "        vertical-align: middle;\n",
       "    }\n",
       "\n",
       "    .dataframe tbody tr th {\n",
       "        vertical-align: top;\n",
       "    }\n",
       "\n",
       "    .dataframe thead th {\n",
       "        text-align: right;\n",
       "    }\n",
       "</style>\n",
       "<table border=\"1\" class=\"dataframe\">\n",
       "  <thead>\n",
       "    <tr style=\"text-align: right;\">\n",
       "      <th></th>\n",
       "      <th>amount_of_good_students</th>\n",
       "    </tr>\n",
       "  </thead>\n",
       "  <tbody>\n",
       "    <tr>\n",
       "      <th>0</th>\n",
       "      <td>136</td>\n",
       "    </tr>\n",
       "  </tbody>\n",
       "</table>\n",
       "</div>"
      ],
      "text/plain": [
       "   amount_of_good_students\n",
       "0                      136"
      ]
     },
     "execution_count": 4,
     "metadata": {},
     "output_type": "execute_result"
    }
   ],
   "source": [
    "# отправляем запрос и записываем результат в пандасовский датафрейм\n",
    "q_test = ph.read_clickhouse(query=q_1, connection=connection_default)\n",
    "q_test"
   ]
  },
  {
   "cell_type": "markdown",
   "id": "802c859a",
   "metadata": {},
   "source": [
    "#### Задача 2.2 <a class=\"anchor\" id=\"Задача-2.2\"></a>"
   ]
  },
  {
   "cell_type": "markdown",
   "id": "d40093ac",
   "metadata": {},
   "source": [
    "Образовательная платформа предлагает пройти студентам курсы по модели trial: студент может решить бесплатно лишь 30 горошин в день. Для неограниченного количества заданий в определенной дисциплине студенту необходимо приобрести полный доступ. Команда провела эксперимент, где был протестирован новый экран оплаты.\n",
    "<br>Дана таблицы в Clickhouse: **default.peas (см. выше), default.studs:**\n",
    "\n",
    "|Название атрибута|Тип атрибута|Смысловое значение|\n",
    "|:-|:-|:-|\n",
    "|st_id|int|ID ученика|\n",
    "|test_grp|text|Метка ученика в данном эксперименте|"
   ]
  },
  {
   "cell_type": "markdown",
   "id": "018669a8",
   "metadata": {},
   "source": [
    "и **default.final_project_check:**\n",
    "\n",
    "|Название атрибута|Тип атрибута|Смысловое значение|\n",
    "|:-|:-|:-|\n",
    "|st_id|int|ID ученика|\n",
    "|sale_time|timestamp|Время покупки|\n",
    "|money|int|Цена, по которой приобрели данный курс|\n",
    "|subject|text|Дисциплина, на которую приобрели полный доступ|\n",
    "\n",
    "**Необходимо в одном запросе выгрузить следующую информацию о группах пользователей:**\n",
    "\n",
    "* ARPU \n",
    "* ARPAU \n",
    "* CR в покупку \n",
    "* СR активного пользователя в покупку \n",
    "* CR пользователя из активности по математике (subject = ’math’) в покупку курса по математике\n",
    "* ARPU считается относительно всех пользователей, попавших в группы.\n",
    "\n",
    "Активным считается пользователь, за все время решивший больше 10 задач правильно в любых дисциплинах.\n",
    "<br>Активным по математике считается пользователь, за все время решивший 2 или больше задач правильно по математике."
   ]
  },
  {
   "cell_type": "code",
   "execution_count": 5,
   "id": "2a0cddc4",
   "metadata": {},
   "outputs": [],
   "source": [
    "q_2= '''\n",
    "--Расчет метрик\n",
    "    SELECT test_grp, SUM(revenue)/COUNT(DISTINCT st_id) AS ARPU, SUM(IF(revenue!=0, 1 ,0))/COUNT(st_id) AS CR, \n",
    "    SUM(IF(active=1,revenue,0))/SUM (active) AS ARPAU,  \n",
    "    SUM(If(active=1 AND revenue!=0, active,0))/SUM(active) AS CR_active, \n",
    "    SUM(If(math_active=1 AND math_revenue!=0, math_active,0))/SUM(math_active) AS CR_math \n",
    "    FROM ( \n",
    "--Сформировали общую сводную таблицу, с необходимыми данными для расчета метрик\n",
    "    SELECT grp.st_id AS st_id, test_grp, active, math_active, revenue, math_revenue FROM studs AS grp \n",
    "    LEFT JOIN( \n",
    "    SELECT st_id, SUM(correct)>10::int AS active, SUM(IF(subject_learn = 'Math',correct,0))>=2::int AS math_active \n",
    "    FROM ( \n",
    "--К таблице активности добавили дату последней оплаты и отфильтровали задания выполненые до оплаты\n",
    "--Задания выпоненные после даты выполнения целевого действия(оплаты) не входят в эксперимент\n",
    "    SELECT l.st_id AS st_id, timest, last_pay,  correct, l.subject AS subject_learn \n",
    "    FROM peas AS l \n",
    "    LEFT JOIN  \n",
    "--Определили дату последней оплаты\n",
    "    (SELECT st_id, MAX(sale_time) AS last_pay FROM final_project_check GROUP BY st_id )AS r USING(st_id) \n",
    "    WHERE timest<=last_pay OR last_pay='1970-01-01 03:00:00' \n",
    "    ) AS peas_table \n",
    "    GROUP BY st_id \n",
    "    ) AS activity ON grp.st_id=activity.st_id \n",
    "    LEFT JOIN \n",
    "-- Расчитали выручку для каждого оплатившего студента по всем предметам и по математике\n",
    "    (SELECT st_id, SUM(money) AS revenue, SUM(IF(subject_pay = 'Math',money,0)) AS math_revenue  \n",
    "    FROM( \n",
    "--В таблицу с оплатами добавили дату первой активности и отфильтровали оплату сделанную после первой активности\n",
    "--Оплата, совершенная до первой активности не входит в эксперимент\n",
    "    SELECT st_id, sale_time,first_active, money, subject AS subject_pay  \n",
    "    FROM final_project_check \n",
    "    LEFT JOIN  \n",
    "--Определили дату первой активности для каждого оплатившего студента \n",
    "    (SELECT st_id, MIN(timest)  AS first_active \n",
    "    FROM peas \n",
    "    GROUP BY st_id) As n USING(st_id) \n",
    "    WHERE sale_time>first_active \n",
    "    ) AS payment  \n",
    "    GROUP BY st_id) AS revenue ON grp.st_id=revenue.st_id \n",
    "    ) AS data_set \n",
    "    GROUP BY test_grp '''"
   ]
  },
  {
   "cell_type": "code",
   "execution_count": 6,
   "id": "f2c678df",
   "metadata": {},
   "outputs": [
    {
     "data": {
      "text/html": [
       "<div>\n",
       "<style scoped>\n",
       "    .dataframe tbody tr th:only-of-type {\n",
       "        vertical-align: middle;\n",
       "    }\n",
       "\n",
       "    .dataframe tbody tr th {\n",
       "        vertical-align: top;\n",
       "    }\n",
       "\n",
       "    .dataframe thead th {\n",
       "        text-align: right;\n",
       "    }\n",
       "</style>\n",
       "<table border=\"1\" class=\"dataframe\">\n",
       "  <thead>\n",
       "    <tr style=\"text-align: right;\">\n",
       "      <th></th>\n",
       "      <th>test_grp</th>\n",
       "      <th>ARPU</th>\n",
       "      <th>CR</th>\n",
       "      <th>ARPAU</th>\n",
       "      <th>CR_active</th>\n",
       "      <th>CR_math</th>\n",
       "    </tr>\n",
       "  </thead>\n",
       "  <tbody>\n",
       "    <tr>\n",
       "      <th>0</th>\n",
       "      <td>control</td>\n",
       "      <td>4540.983607</td>\n",
       "      <td>0.049180</td>\n",
       "      <td>5168.067227</td>\n",
       "      <td>0.05042</td>\n",
       "      <td>0.041667</td>\n",
       "    </tr>\n",
       "    <tr>\n",
       "      <th>1</th>\n",
       "      <td>pilot</td>\n",
       "      <td>11288.135593</td>\n",
       "      <td>0.105085</td>\n",
       "      <td>25934.065934</td>\n",
       "      <td>0.21978</td>\n",
       "      <td>0.095238</td>\n",
       "    </tr>\n",
       "  </tbody>\n",
       "</table>\n",
       "</div>"
      ],
      "text/plain": [
       "  test_grp          ARPU        CR         ARPAU  CR_active   CR_math\n",
       "0  control   4540.983607  0.049180   5168.067227    0.05042  0.041667\n",
       "1    pilot  11288.135593  0.105085  25934.065934    0.21978  0.095238"
      ]
     },
     "execution_count": 6,
     "metadata": {},
     "output_type": "execute_result"
    }
   ],
   "source": [
    "q_test_2 = ph.read_clickhouse(query=q_2, connection=connection_default)\n",
    "q_test_2"
   ]
  }
 ],
 "metadata": {
  "kernelspec": {
   "display_name": "Python 3 (ipykernel)",
   "language": "python",
   "name": "python3"
  },
  "language_info": {
   "codemirror_mode": {
    "name": "ipython",
    "version": 3
   },
   "file_extension": ".py",
   "mimetype": "text/x-python",
   "name": "python",
   "nbconvert_exporter": "python",
   "pygments_lexer": "ipython3",
   "version": "3.9.12"
  }
 },
 "nbformat": 4,
 "nbformat_minor": 5
}
