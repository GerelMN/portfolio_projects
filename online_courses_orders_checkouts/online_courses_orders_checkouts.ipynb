{
 "cells": [
  {
   "cell_type": "markdown",
   "id": "179b923e",
   "metadata": {},
   "source": [
    "# Содержание:\n",
    "1. [A/B-тестирование](#Задание-1.-A/B–тестирование)\n",
    "    * [Предварительное исследование и предобработка данных](#Предварительное-исследование-и-предобработка-данных)\n",
    "    * [Выбор метрик и анализ:](#Выбор-метрик)\n",
    "        * [Конверсия](#Конверсия-(Conversion-Rate))\n",
    "        * [Средний чек](#Средний-чек-(Average-order-value))\n",
    "    * [Вывод](#Вывод)\n",
    "2. [SQL](#Задание-2.-SQL)\n",
    "    * [Задача 1](#Задание-2.-SQL)\n",
    "    * [Задача 2](#Задача-2.2)\n",
    "3. [Python](#3.-Python)\n",
    "    * [Задача 1](#3.-Python)\n",
    "    * [Задача 2](#Задача-3.2)"
   ]
  },
  {
   "cell_type": "code",
   "execution_count": 1,
   "id": "670e4578",
   "metadata": {},
   "outputs": [],
   "source": [
    "# импорт библиотек\n",
    "import pandas as pd\n",
    "import numpy as np\n",
    "import scipy.stats\n",
    "import statsmodels\n",
    "from scipy import stats  \n",
    "from statsmodels.stats.proportion import proportions_ztest\n",
    "from scipy.stats import mannwhitneyu\n",
    "import matplotlib.pyplot as plt\n",
    "import seaborn as sns\n",
    "\n",
    "from tqdm.auto import tqdm\n",
    "from scipy.stats import norm \n",
    "plt.style.use('ggplot')\n",
    "from statsmodels.stats.power import TTestIndPower\n",
    "\n",
    "import pandahouse as ph"
   ]
  },
  {
   "cell_type": "markdown",
   "id": "6f11ac38",
   "metadata": {},
   "source": [
    "# Задание 1. A/B–тестирование\n",
    "***В ходе тестирования одной гипотезы целевой группе была предложена новая механика оплаты услуг на сайте, у контрольной группы оставалась базовая механика. В качестве задания необходимо проанализировать итоги эксперимента и сделать вывод, стоит ли запускать новую механику оплаты на всех пользователей.***\n",
    "\n",
    "***В качестве входных данных мы имеем 4 csv-файла:***\n",
    "* ***groups.csv - файл с информацией о принадлежности пользователя к контрольной или экспериментальной группе (А – контроль, B – целевая группа)*** \n",
    "* ***groups_add.csv - дополнительный файл с пользователями, который вам прислали спустя 2 дня после передачи данных***\n",
    "* ***active_studs.csv - файл с информацией о пользователях, которые зашли на платформу в дни проведения эксперимента.*** \n",
    "* ***checks.csv - файл с информацией об оплатах пользователей в дни проведения эксперимента.*** \n"
   ]
  },
  {
   "cell_type": "markdown",
   "id": "c1d8eb76",
   "metadata": {},
   "source": [
    "### Предварительное исследование и предобработка данных"
   ]
  },
  {
   "cell_type": "code",
   "execution_count": 63,
   "id": "af09cf77",
   "metadata": {},
   "outputs": [],
   "source": [
    "# Прочитали полученные файлы с данными:\n",
    "groups = pd.read_csv('https://raw.githubusercontent.com/GerelMN/portfolio_projects/main/online_courses_orders_checkouts/dataset/project_2_groups.csv', sep=';') \n",
    "groups_add = pd.read_csv('https://raw.githubusercontent.com/GerelMN/portfolio_projects/main/online_courses_orders_checkouts/dataset/project_2_group_add.csv') \n",
    "active = pd.read_csv('https://raw.githubusercontent.com/GerelMN/portfolio_projects/main/online_courses_orders_checkouts/dataset/project_2_active_studs.csv')\n",
    "checks = pd.read_csv('https://raw.githubusercontent.com/GerelMN/portfolio_projects/main/online_courses_orders_checkouts/dataset/project_2_checks.csv', sep=';')"
   ]
  },
  {
   "cell_type": "code",
   "execution_count": 64,
   "id": "d418e27a",
   "metadata": {},
   "outputs": [
    {
     "name": "stdout",
     "output_type": "stream",
     "text": [
      "<class 'pandas.core.frame.DataFrame'>\n",
      "RangeIndex: 74484 entries, 0 to 74483\n",
      "Data columns (total 2 columns):\n",
      " #   Column  Non-Null Count  Dtype \n",
      "---  ------  --------------  ----- \n",
      " 0   id      74484 non-null  int64 \n",
      " 1   grp     74484 non-null  object\n",
      "dtypes: int64(1), object(1)\n",
      "memory usage: 1.1+ MB\n",
      "\n",
      " 74484 уникальных id\n"
     ]
    }
   ],
   "source": [
    "# Проверим количество пропущенных и уникальных значений в данных\n",
    "groups.info()\n",
    "print(\"\\n\", groups['id'].nunique(), \"уникальных id\")"
   ]
  },
  {
   "cell_type": "code",
   "execution_count": 65,
   "id": "3b578601",
   "metadata": {},
   "outputs": [
    {
     "name": "stdout",
     "output_type": "stream",
     "text": [
      "<class 'pandas.core.frame.DataFrame'>\n",
      "RangeIndex: 92 entries, 0 to 91\n",
      "Data columns (total 2 columns):\n",
      " #   Column  Non-Null Count  Dtype \n",
      "---  ------  --------------  ----- \n",
      " 0   id      92 non-null     int64 \n",
      " 1   grp     92 non-null     object\n",
      "dtypes: int64(1), object(1)\n",
      "memory usage: 1.6+ KB\n",
      "\n",
      " 92 уникальных id\n"
     ]
    }
   ],
   "source": [
    "groups_add.info()\n",
    "print(\"\\n\", groups_add['id'].nunique(), \"уникальных id\")"
   ]
  },
  {
   "cell_type": "code",
   "execution_count": 66,
   "id": "72f589f9",
   "metadata": {},
   "outputs": [
    {
     "name": "stdout",
     "output_type": "stream",
     "text": [
      "<class 'pandas.core.frame.DataFrame'>\n",
      "RangeIndex: 8341 entries, 0 to 8340\n",
      "Data columns (total 1 columns):\n",
      " #   Column      Non-Null Count  Dtype\n",
      "---  ------      --------------  -----\n",
      " 0   student_id  8341 non-null   int64\n",
      "dtypes: int64(1)\n",
      "memory usage: 65.3 KB\n",
      "\n",
      " 8341 уникальных id\n"
     ]
    }
   ],
   "source": [
    "active.info()\n",
    "print(\"\\n\", active['student_id'].nunique(), \"уникальных id\")"
   ]
  },
  {
   "cell_type": "code",
   "execution_count": 67,
   "id": "fa71b73b",
   "metadata": {},
   "outputs": [
    {
     "name": "stdout",
     "output_type": "stream",
     "text": [
      "<class 'pandas.core.frame.DataFrame'>\n",
      "RangeIndex: 541 entries, 0 to 540\n",
      "Data columns (total 2 columns):\n",
      " #   Column      Non-Null Count  Dtype  \n",
      "---  ------      --------------  -----  \n",
      " 0   student_id  541 non-null    int64  \n",
      " 1   rev         541 non-null    float64\n",
      "dtypes: float64(1), int64(1)\n",
      "memory usage: 8.6 KB\n",
      "\n",
      " 541 уникальных id\n"
     ]
    }
   ],
   "source": [
    "checks.info()\n",
    "print(\"\\n\", checks['student_id'].nunique(), \"уникальных id\")"
   ]
  },
  {
   "cell_type": "markdown",
   "id": "f03ee046",
   "metadata": {},
   "source": [
    "***Пропущенных значений нет, количество строк совпадает с количеством уникальных id, следовательно id внутри таблиц не повторяются***"
   ]
  },
  {
   "cell_type": "code",
   "execution_count": 7,
   "id": "43ec2558",
   "metadata": {},
   "outputs": [
    {
     "data": {
      "text/html": [
       "<div>\n",
       "<style scoped>\n",
       "    .dataframe tbody tr th:only-of-type {\n",
       "        vertical-align: middle;\n",
       "    }\n",
       "\n",
       "    .dataframe tbody tr th {\n",
       "        vertical-align: top;\n",
       "    }\n",
       "\n",
       "    .dataframe thead th {\n",
       "        text-align: right;\n",
       "    }\n",
       "</style>\n",
       "<table border=\"1\" class=\"dataframe\">\n",
       "  <thead>\n",
       "    <tr style=\"text-align: right;\">\n",
       "      <th></th>\n",
       "      <th>grp</th>\n",
       "      <th>id</th>\n",
       "    </tr>\n",
       "  </thead>\n",
       "  <tbody>\n",
       "    <tr>\n",
       "      <th>0</th>\n",
       "      <td>A</td>\n",
       "      <td>14671</td>\n",
       "    </tr>\n",
       "    <tr>\n",
       "      <th>1</th>\n",
       "      <td>B</td>\n",
       "      <td>59813</td>\n",
       "    </tr>\n",
       "  </tbody>\n",
       "</table>\n",
       "</div>"
      ],
      "text/plain": [
       "  grp     id\n",
       "0   A  14671\n",
       "1   B  59813"
      ]
     },
     "execution_count": 7,
     "metadata": {},
     "output_type": "execute_result"
    }
   ],
   "source": [
    "# Проверим количество пользователей в тестовой и контрольной группах\n",
    "groups.groupby('grp', as_index=False)['id'].count()"
   ]
  },
  {
   "cell_type": "code",
   "execution_count": 8,
   "id": "12cc09a0",
   "metadata": {},
   "outputs": [
    {
     "data": {
      "text/plain": [
       "B    0.8\n",
       "A    0.2\n",
       "Name: grp, dtype: float64"
      ]
     },
     "execution_count": 8,
     "metadata": {},
     "output_type": "execute_result"
    }
   ],
   "source": [
    "# Размер групп в процентном соотношении к общему количеству пользователей\n",
    "round(groups['grp'].value_counts(normalize=True), 2)"
   ]
  },
  {
   "cell_type": "markdown",
   "id": "df60a478",
   "metadata": {},
   "source": [
    "***Количество пользователей в тестовой группе больше, чем в контрольной, пропорция 20/80. \n",
    "<br>При проведении A/B теста, группы могут отличаться количеством пользователей, но при этом иметь одинаковое распределение трафика. Нужно иметь ввиду, что для сравнения групп между собой нужно использовать метрики относительно размера семпла,а не абсолютные.\n",
    "<br>Также нужно учитывать, что при пропорции 20/80, чтобы достичь мощности теста 80%, размер общей выборки должен быть больше чем при пропорции 50/50***"
   ]
  },
  {
   "cell_type": "code",
   "execution_count": 9,
   "id": "29ef715c",
   "metadata": {},
   "outputs": [
    {
     "data": {
      "text/html": [
       "<div>\n",
       "<style scoped>\n",
       "    .dataframe tbody tr th:only-of-type {\n",
       "        vertical-align: middle;\n",
       "    }\n",
       "\n",
       "    .dataframe tbody tr th {\n",
       "        vertical-align: top;\n",
       "    }\n",
       "\n",
       "    .dataframe thead th {\n",
       "        text-align: right;\n",
       "    }\n",
       "</style>\n",
       "<table border=\"1\" class=\"dataframe\">\n",
       "  <thead>\n",
       "    <tr style=\"text-align: right;\">\n",
       "      <th></th>\n",
       "      <th>id</th>\n",
       "      <th>grp</th>\n",
       "      <th>active</th>\n",
       "      <th>rev</th>\n",
       "    </tr>\n",
       "  </thead>\n",
       "  <tbody>\n",
       "    <tr>\n",
       "      <th>0</th>\n",
       "      <td>1489</td>\n",
       "      <td>B</td>\n",
       "      <td>0</td>\n",
       "      <td>0.0</td>\n",
       "    </tr>\n",
       "    <tr>\n",
       "      <th>1</th>\n",
       "      <td>1627</td>\n",
       "      <td>A</td>\n",
       "      <td>1</td>\n",
       "      <td>990.0</td>\n",
       "    </tr>\n",
       "    <tr>\n",
       "      <th>2</th>\n",
       "      <td>1768</td>\n",
       "      <td>B</td>\n",
       "      <td>0</td>\n",
       "      <td>0.0</td>\n",
       "    </tr>\n",
       "    <tr>\n",
       "      <th>3</th>\n",
       "      <td>1783</td>\n",
       "      <td>B</td>\n",
       "      <td>0</td>\n",
       "      <td>0.0</td>\n",
       "    </tr>\n",
       "    <tr>\n",
       "      <th>4</th>\n",
       "      <td>1794</td>\n",
       "      <td>A</td>\n",
       "      <td>0</td>\n",
       "      <td>0.0</td>\n",
       "    </tr>\n",
       "  </tbody>\n",
       "</table>\n",
       "</div>"
      ],
      "text/plain": [
       "     id grp  active    rev\n",
       "0  1489   B       0    0.0\n",
       "1  1627   A       1  990.0\n",
       "2  1768   B       0    0.0\n",
       "3  1783   B       0    0.0\n",
       "4  1794   A       0    0.0"
      ]
     },
     "metadata": {},
     "output_type": "display_data"
    },
    {
     "data": {
      "text/plain": [
       "(74484, 4)"
      ]
     },
     "execution_count": 9,
     "metadata": {},
     "output_type": "execute_result"
    }
   ],
   "source": [
    "# Объединим данные сплитования, активности и оплаты в один датасет\n",
    "# Добавили признак активности (1 - активный, 0 - неактивный)\n",
    "groups['active'] = np.where(groups['id'].isin(active['student_id']) == True, 1, 0)\n",
    "\n",
    "# Добавили сумму чека\n",
    "checks = checks.rename(columns={'student_id': 'id'})\n",
    "df = groups.merge(checks[['id', 'rev']], on='id', how='left')\n",
    "df['rev'] = round(df['rev'].fillna(0), 2)\n",
    "display(df.head())\n",
    "\n",
    "df.shape"
   ]
  },
  {
   "cell_type": "code",
   "execution_count": 10,
   "id": "ac32e978",
   "metadata": {},
   "outputs": [
    {
     "name": "stdout",
     "output_type": "stream",
     "text": [
      "13 активных пользователей не просплитовались на группы\n",
      "1 заплативших пользователей не просплитовались на группы\n"
     ]
    }
   ],
   "source": [
    "# Проверим все ли активные и оплатившие пользователи просплитовались\n",
    "print(len(active) - len(df.query('active == 1')), \"активных пользователей не просплитовались на группы\")\n",
    "print(len(checks) - len(df[df['rev'] != 0]), \"заплативших пользователей не просплитовались на группы\")"
   ]
  },
  {
   "cell_type": "code",
   "execution_count": 11,
   "id": "00606e08",
   "metadata": {},
   "outputs": [
    {
     "data": {
      "text/html": [
       "<div>\n",
       "<style scoped>\n",
       "    .dataframe tbody tr th:only-of-type {\n",
       "        vertical-align: middle;\n",
       "    }\n",
       "\n",
       "    .dataframe tbody tr th {\n",
       "        vertical-align: top;\n",
       "    }\n",
       "\n",
       "    .dataframe thead th {\n",
       "        text-align: right;\n",
       "    }\n",
       "</style>\n",
       "<table border=\"1\" class=\"dataframe\">\n",
       "  <thead>\n",
       "    <tr style=\"text-align: right;\">\n",
       "      <th></th>\n",
       "      <th>student_id</th>\n",
       "    </tr>\n",
       "  </thead>\n",
       "  <tbody>\n",
       "    <tr>\n",
       "      <th>1</th>\n",
       "      <td>5723133</td>\n",
       "    </tr>\n",
       "    <tr>\n",
       "      <th>111</th>\n",
       "      <td>5951797</td>\n",
       "    </tr>\n",
       "    <tr>\n",
       "      <th>632</th>\n",
       "      <td>5730382</td>\n",
       "    </tr>\n",
       "    <tr>\n",
       "      <th>2662</th>\n",
       "      <td>5739944</td>\n",
       "    </tr>\n",
       "    <tr>\n",
       "      <th>3830</th>\n",
       "      <td>5945085</td>\n",
       "    </tr>\n",
       "    <tr>\n",
       "      <th>4900</th>\n",
       "      <td>5700613</td>\n",
       "    </tr>\n",
       "    <tr>\n",
       "      <th>5254</th>\n",
       "      <td>5729371</td>\n",
       "    </tr>\n",
       "    <tr>\n",
       "      <th>5746</th>\n",
       "      <td>5777081</td>\n",
       "    </tr>\n",
       "    <tr>\n",
       "      <th>7413</th>\n",
       "      <td>5740903</td>\n",
       "    </tr>\n",
       "    <tr>\n",
       "      <th>7505</th>\n",
       "      <td>5760471</td>\n",
       "    </tr>\n",
       "    <tr>\n",
       "      <th>7535</th>\n",
       "      <td>5728431</td>\n",
       "    </tr>\n",
       "    <tr>\n",
       "      <th>7647</th>\n",
       "      <td>5723648</td>\n",
       "    </tr>\n",
       "    <tr>\n",
       "      <th>7668</th>\n",
       "      <td>5870856</td>\n",
       "    </tr>\n",
       "  </tbody>\n",
       "</table>\n",
       "</div>"
      ],
      "text/plain": [
       "      student_id\n",
       "1        5723133\n",
       "111      5951797\n",
       "632      5730382\n",
       "2662     5739944\n",
       "3830     5945085\n",
       "4900     5700613\n",
       "5254     5729371\n",
       "5746     5777081\n",
       "7413     5740903\n",
       "7505     5760471\n",
       "7535     5728431\n",
       "7647     5723648\n",
       "7668     5870856"
      ]
     },
     "execution_count": 11,
     "metadata": {},
     "output_type": "execute_result"
    }
   ],
   "source": [
    "# Проверим какие именно активные студенты не попали в сплитование \n",
    "active[~active['student_id'].isin(df['id'])]"
   ]
  },
  {
   "cell_type": "code",
   "execution_count": 12,
   "id": "904d5dc9",
   "metadata": {},
   "outputs": [
    {
     "data": {
      "text/html": [
       "<div>\n",
       "<style scoped>\n",
       "    .dataframe tbody tr th:only-of-type {\n",
       "        vertical-align: middle;\n",
       "    }\n",
       "\n",
       "    .dataframe tbody tr th {\n",
       "        vertical-align: top;\n",
       "    }\n",
       "\n",
       "    .dataframe thead th {\n",
       "        text-align: right;\n",
       "    }\n",
       "</style>\n",
       "<table border=\"1\" class=\"dataframe\">\n",
       "  <thead>\n",
       "    <tr style=\"text-align: right;\">\n",
       "      <th></th>\n",
       "      <th>id</th>\n",
       "      <th>rev</th>\n",
       "    </tr>\n",
       "  </thead>\n",
       "  <tbody>\n",
       "    <tr>\n",
       "      <th>540</th>\n",
       "      <td>5740903</td>\n",
       "      <td>1900.0</td>\n",
       "    </tr>\n",
       "  </tbody>\n",
       "</table>\n",
       "</div>"
      ],
      "text/plain": [
       "          id     rev\n",
       "540  5740903  1900.0"
      ]
     },
     "execution_count": 12,
     "metadata": {},
     "output_type": "execute_result"
    }
   ],
   "source": [
    "# Проверим какие именно оплатившие студенты не попали в сплитование \n",
    "checks[~checks['id'].isin(df['id'])]"
   ]
  },
  {
   "cell_type": "code",
   "execution_count": 13,
   "id": "73454845",
   "metadata": {},
   "outputs": [
    {
     "name": "stdout",
     "output_type": "stream",
     "text": [
      "74576 размер дополненного датафрейма\n",
      "74576 уникальных id\n",
      "92 id добавлено\n"
     ]
    }
   ],
   "source": [
    "# Дополним данные сплитования файлом, полученным через 2 дня\n",
    "uni_groups = pd.concat([groups, groups_add])  # объединили датафреймы\n",
    "print(uni_groups.shape[0], 'размер дополненного датафрейма') \n",
    "print(uni_groups['id'].nunique(), \"уникальных id\") \n",
    "print(len(uni_groups) - len(df), 'id добавлено')  # проверка\n"
   ]
  },
  {
   "cell_type": "code",
   "execution_count": 14,
   "id": "b1b8a50d",
   "metadata": {},
   "outputs": [
    {
     "name": "stdout",
     "output_type": "stream",
     "text": [
      "0 активных пользователей не просплитовались на группы\n",
      "0 заплативших пользователей не просплитовались на группы\n"
     ]
    }
   ],
   "source": [
    "# Объединим данные сплитования, активности и оплаты в один датасет\n",
    "# Добавили признак активности (1 - активный, 0 - неактивный)\n",
    "uni_groups['active'] = np.where(uni_groups['id'].isin(active['student_id']) == True, 1, 0)\n",
    "# Добавили сумму оплаты\n",
    "checks = checks.rename(columns={'student_id': 'id'})\n",
    "user_data = uni_groups.merge(checks[['id', 'rev']], on='id', how='left')\n",
    "user_data['rev'] = round(user_data['rev'].fillna(0), 2)\n",
    "# Проверим все ли пользователи из таблиц активности и оплаты присуствуют в таблице сплитования на группы\n",
    "print(len(active) - user_data.query('active == 1').shape[0], \"активных пользователей не просплитовались на группы\")\n",
    "print(len(checks) - len(user_data[user_data['rev'] != 0]), \"заплативших пользователей не просплитовались на группы\")"
   ]
  },
  {
   "cell_type": "code",
   "execution_count": 15,
   "id": "5682adab",
   "metadata": {},
   "outputs": [
    {
     "data": {
      "text/html": [
       "<div>\n",
       "<style scoped>\n",
       "    .dataframe tbody tr th:only-of-type {\n",
       "        vertical-align: middle;\n",
       "    }\n",
       "\n",
       "    .dataframe tbody tr th {\n",
       "        vertical-align: top;\n",
       "    }\n",
       "\n",
       "    .dataframe thead th {\n",
       "        text-align: right;\n",
       "    }\n",
       "</style>\n",
       "<table border=\"1\" class=\"dataframe\">\n",
       "  <thead>\n",
       "    <tr style=\"text-align: right;\">\n",
       "      <th></th>\n",
       "      <th>grp</th>\n",
       "      <th>id</th>\n",
       "    </tr>\n",
       "  </thead>\n",
       "  <tbody>\n",
       "    <tr>\n",
       "      <th>0</th>\n",
       "      <td>A</td>\n",
       "      <td>14693</td>\n",
       "    </tr>\n",
       "    <tr>\n",
       "      <th>1</th>\n",
       "      <td>B</td>\n",
       "      <td>59883</td>\n",
       "    </tr>\n",
       "  </tbody>\n",
       "</table>\n",
       "</div>"
      ],
      "text/plain": [
       "  grp     id\n",
       "0   A  14693\n",
       "1   B  59883"
      ]
     },
     "execution_count": 15,
     "metadata": {},
     "output_type": "execute_result"
    }
   ],
   "source": [
    "# Количество пользователей после добавления доп.данных\n",
    "user_data.groupby('grp', as_index=False)['id'].count()"
   ]
  },
  {
   "cell_type": "code",
   "execution_count": 16,
   "id": "ab999bc6",
   "metadata": {},
   "outputs": [
    {
     "data": {
      "text/plain": [
       "B    0.8\n",
       "A    0.2\n",
       "Name: grp, dtype: float64"
      ]
     },
     "execution_count": 16,
     "metadata": {},
     "output_type": "execute_result"
    }
   ],
   "source": [
    "# После добавления доп. данных размер групп в процентном соотношении не изменился\n",
    "round(user_data['grp'].value_counts(normalize=True), 2)"
   ]
  },
  {
   "cell_type": "markdown",
   "id": "2922dafe",
   "metadata": {},
   "source": [
    "***После преобразования таблиц, в итоге получены следующие данные:***\n",
    "* ***74484 пользователя попали в выборку для проведения эксперимента***\n",
    "* ***8341 пользователь входил на платформу в период проведения эксперимента (информация о времени проведения эксперимента отсутствует)***\n",
    "* ***541 пользователь совершил покупку (информация о времени совершении покупки отсутствует)***\n",
    "* ***92 пользователя добавлены в группу для проведения эксперимента, информация получена спустя 2 дня***\n",
    "* ***14693 пользователя в контрольной группе/59883 пользователя в тестовой (20/80)***"
   ]
  },
  {
   "cell_type": "markdown",
   "id": "bcf7edfc",
   "metadata": {},
   "source": [
    "***Пользователей можно сгруппировать по двум признакам - активность и платеж, получится 4 типа: активный и купивший, активный и некупивший, неактивный и купивший, неактивный и некупивший***"
   ]
  },
  {
   "cell_type": "code",
   "execution_count": 17,
   "id": "8426a64a",
   "metadata": {},
   "outputs": [
    {
     "data": {
      "text/html": [
       "<div>\n",
       "<style scoped>\n",
       "    .dataframe tbody tr th:only-of-type {\n",
       "        vertical-align: middle;\n",
       "    }\n",
       "\n",
       "    .dataframe tbody tr th {\n",
       "        vertical-align: top;\n",
       "    }\n",
       "\n",
       "    .dataframe thead th {\n",
       "        text-align: right;\n",
       "    }\n",
       "</style>\n",
       "<table border=\"1\" class=\"dataframe\">\n",
       "  <thead>\n",
       "    <tr style=\"text-align: right;\">\n",
       "      <th></th>\n",
       "      <th>id</th>\n",
       "      <th>grp</th>\n",
       "      <th>active</th>\n",
       "      <th>rev</th>\n",
       "      <th>group_type</th>\n",
       "    </tr>\n",
       "  </thead>\n",
       "  <tbody>\n",
       "    <tr>\n",
       "      <th>0</th>\n",
       "      <td>1489</td>\n",
       "      <td>B</td>\n",
       "      <td>0</td>\n",
       "      <td>0.0</td>\n",
       "      <td>неактивный и некупивший</td>\n",
       "    </tr>\n",
       "    <tr>\n",
       "      <th>1</th>\n",
       "      <td>1627</td>\n",
       "      <td>A</td>\n",
       "      <td>1</td>\n",
       "      <td>990.0</td>\n",
       "      <td>активный и купивший</td>\n",
       "    </tr>\n",
       "    <tr>\n",
       "      <th>2</th>\n",
       "      <td>1768</td>\n",
       "      <td>B</td>\n",
       "      <td>0</td>\n",
       "      <td>0.0</td>\n",
       "      <td>неактивный и некупивший</td>\n",
       "    </tr>\n",
       "    <tr>\n",
       "      <th>3</th>\n",
       "      <td>1783</td>\n",
       "      <td>B</td>\n",
       "      <td>0</td>\n",
       "      <td>0.0</td>\n",
       "      <td>неактивный и некупивший</td>\n",
       "    </tr>\n",
       "    <tr>\n",
       "      <th>4</th>\n",
       "      <td>1794</td>\n",
       "      <td>A</td>\n",
       "      <td>0</td>\n",
       "      <td>0.0</td>\n",
       "      <td>неактивный и некупивший</td>\n",
       "    </tr>\n",
       "  </tbody>\n",
       "</table>\n",
       "</div>"
      ],
      "text/plain": [
       "     id grp  active    rev               group_type\n",
       "0  1489   B       0    0.0  неактивный и некупивший\n",
       "1  1627   A       1  990.0      активный и купивший\n",
       "2  1768   B       0    0.0  неактивный и некупивший\n",
       "3  1783   B       0    0.0  неактивный и некупивший\n",
       "4  1794   A       0    0.0  неактивный и некупивший"
      ]
     },
     "execution_count": 17,
     "metadata": {},
     "output_type": "execute_result"
    }
   ],
   "source": [
    "def get_group(active, rev):\n",
    "    '''Функция для присвоения группы по признакам активности и платежа'''\n",
    "    if active == 1:\n",
    "        if rev > 0:\n",
    "            return \"активный и купивший\"\n",
    "        else:\n",
    "            return \"активный и некупивший\"\n",
    "    elif active == 0:\n",
    "        if rev > 0:\n",
    "            return \"неактивный и купивший\"\n",
    "        else:\n",
    "            return \"неактивный и некупивший\"\n",
    "    else:\n",
    "        return active\n",
    "    \n",
    "    \n",
    "user_data['group_type'] = pd.Series(map(get_group, df['active'], df['rev']))\n",
    "user_data.head()"
   ]
  },
  {
   "cell_type": "code",
   "execution_count": 18,
   "id": "044fd9ce",
   "metadata": {},
   "outputs": [
    {
     "data": {
      "text/html": [
       "<div>\n",
       "<style scoped>\n",
       "    .dataframe tbody tr th:only-of-type {\n",
       "        vertical-align: middle;\n",
       "    }\n",
       "\n",
       "    .dataframe tbody tr th {\n",
       "        vertical-align: top;\n",
       "    }\n",
       "\n",
       "    .dataframe thead th {\n",
       "        text-align: right;\n",
       "    }\n",
       "</style>\n",
       "<table border=\"1\" class=\"dataframe\">\n",
       "  <thead>\n",
       "    <tr style=\"text-align: right;\">\n",
       "      <th></th>\n",
       "      <th>grp</th>\n",
       "      <th>group_type</th>\n",
       "      <th>users</th>\n",
       "    </tr>\n",
       "  </thead>\n",
       "  <tbody>\n",
       "    <tr>\n",
       "      <th>0</th>\n",
       "      <td>A</td>\n",
       "      <td>неактивный и некупивший</td>\n",
       "      <td>13107</td>\n",
       "    </tr>\n",
       "    <tr>\n",
       "      <th>1</th>\n",
       "      <td>A</td>\n",
       "      <td>активный и некупивший</td>\n",
       "      <td>1457</td>\n",
       "    </tr>\n",
       "    <tr>\n",
       "      <th>2</th>\n",
       "      <td>A</td>\n",
       "      <td>активный и купивший</td>\n",
       "      <td>78</td>\n",
       "    </tr>\n",
       "    <tr>\n",
       "      <th>3</th>\n",
       "      <td>A</td>\n",
       "      <td>неактивный и купивший</td>\n",
       "      <td>29</td>\n",
       "    </tr>\n",
       "    <tr>\n",
       "      <th>4</th>\n",
       "      <td>B</td>\n",
       "      <td>неактивный и некупивший</td>\n",
       "      <td>52900</td>\n",
       "    </tr>\n",
       "    <tr>\n",
       "      <th>5</th>\n",
       "      <td>B</td>\n",
       "      <td>активный и некупивший</td>\n",
       "      <td>6480</td>\n",
       "    </tr>\n",
       "    <tr>\n",
       "      <th>6</th>\n",
       "      <td>B</td>\n",
       "      <td>активный и купивший</td>\n",
       "      <td>313</td>\n",
       "    </tr>\n",
       "    <tr>\n",
       "      <th>7</th>\n",
       "      <td>B</td>\n",
       "      <td>неактивный и купивший</td>\n",
       "      <td>120</td>\n",
       "    </tr>\n",
       "  </tbody>\n",
       "</table>\n",
       "</div>"
      ],
      "text/plain": [
       "  grp               group_type  users\n",
       "0   A  неактивный и некупивший  13107\n",
       "1   A    активный и некупивший   1457\n",
       "2   A      активный и купивший     78\n",
       "3   A    неактивный и купивший     29\n",
       "4   B  неактивный и некупивший  52900\n",
       "5   B    активный и некупивший   6480\n",
       "6   B      активный и купивший    313\n",
       "7   B    неактивный и купивший    120"
      ]
     },
     "execution_count": 18,
     "metadata": {},
     "output_type": "execute_result"
    }
   ],
   "source": [
    "# тестовая и контрольная группа по типам признака\n",
    "count_types = user_data.groupby('grp')['group_type'].value_counts()\\\n",
    "    .to_frame()\\\n",
    "    .rename(columns={'group_type': 'users'})\\\n",
    "    .reset_index()\n",
    "count_types"
   ]
  },
  {
   "cell_type": "code",
   "execution_count": 19,
   "id": "d71eb6a4",
   "metadata": {},
   "outputs": [
    {
     "data": {
      "text/html": [
       "<div>\n",
       "<style scoped>\n",
       "    .dataframe tbody tr th:only-of-type {\n",
       "        vertical-align: middle;\n",
       "    }\n",
       "\n",
       "    .dataframe tbody tr th {\n",
       "        vertical-align: top;\n",
       "    }\n",
       "\n",
       "    .dataframe thead th {\n",
       "        text-align: right;\n",
       "    }\n",
       "</style>\n",
       "<table border=\"1\" class=\"dataframe\">\n",
       "  <thead>\n",
       "    <tr style=\"text-align: right;\">\n",
       "      <th></th>\n",
       "      <th>grp</th>\n",
       "      <th>group_type</th>\n",
       "      <th>percent_of_users</th>\n",
       "    </tr>\n",
       "  </thead>\n",
       "  <tbody>\n",
       "    <tr>\n",
       "      <th>0</th>\n",
       "      <td>A</td>\n",
       "      <td>активный и купивший</td>\n",
       "      <td>72.90</td>\n",
       "    </tr>\n",
       "    <tr>\n",
       "      <th>1</th>\n",
       "      <td>A</td>\n",
       "      <td>неактивный и купивший</td>\n",
       "      <td>27.10</td>\n",
       "    </tr>\n",
       "    <tr>\n",
       "      <th>2</th>\n",
       "      <td>B</td>\n",
       "      <td>активный и купивший</td>\n",
       "      <td>72.29</td>\n",
       "    </tr>\n",
       "    <tr>\n",
       "      <th>3</th>\n",
       "      <td>B</td>\n",
       "      <td>неактивный и купивший</td>\n",
       "      <td>27.71</td>\n",
       "    </tr>\n",
       "  </tbody>\n",
       "</table>\n",
       "</div>"
      ],
      "text/plain": [
       "  grp             group_type  percent_of_users\n",
       "0   A    активный и купивший             72.90\n",
       "1   A  неактивный и купивший             27.10\n",
       "2   B    активный и купивший             72.29\n",
       "3   B  неактивный и купивший             27.71"
      ]
     },
     "execution_count": 19,
     "metadata": {},
     "output_type": "execute_result"
    }
   ],
   "source": [
    "# Количество активных и неактивных пользователей только среди чеков\n",
    "only_paid = user_data[user_data['rev'] != 0]\n",
    "payment_percent = only_paid.groupby('grp')['group_type']\\\n",
    "    .value_counts(normalize=True).to_frame()\\\n",
    "    .rename(columns={'group_type': 'users'})\\\n",
    "    .reset_index()\\\n",
    "    .rename(columns={'users': 'percent_of_users'})\n",
    "payment_percent['percent_of_users'] = round(payment_percent['percent_of_users'] * 100, 2)\n",
    "payment_percent"
   ]
  },
  {
   "cell_type": "markdown",
   "id": "f49ae49d",
   "metadata": {},
   "source": [
    "***Среди неактивных пользователей есть оплатившие, около 27% от всех купивших в каждой группе. Поскольку у нас нет данных с датами событий, предположим, что под \"купившими\" мы понимаем всех, кто начал процесс оплаты. Неактивный и купивший пользователь, попавший в выборку, это пользователь, который не входил на платформу в дни проведения эксперемента и поэтому не подвергался эффекту внесенных изменений в механику оплаты, но начавший процесс покупки ранее.***"
   ]
  },
  {
   "cell_type": "code",
   "execution_count": 20,
   "id": "2e4f4abf",
   "metadata": {},
   "outputs": [
    {
     "data": {
      "text/html": [
       "<div>\n",
       "<style scoped>\n",
       "    .dataframe tbody tr th:only-of-type {\n",
       "        vertical-align: middle;\n",
       "    }\n",
       "\n",
       "    .dataframe tbody tr th {\n",
       "        vertical-align: top;\n",
       "    }\n",
       "\n",
       "    .dataframe thead th {\n",
       "        text-align: right;\n",
       "    }\n",
       "</style>\n",
       "<table border=\"1\" class=\"dataframe\">\n",
       "  <thead>\n",
       "    <tr style=\"text-align: right;\">\n",
       "      <th></th>\n",
       "      <th>grp</th>\n",
       "      <th>group_type</th>\n",
       "      <th>percent_of_users</th>\n",
       "    </tr>\n",
       "  </thead>\n",
       "  <tbody>\n",
       "    <tr>\n",
       "      <th>0</th>\n",
       "      <td>A</td>\n",
       "      <td>неактивный и некупивший</td>\n",
       "      <td>89.34</td>\n",
       "    </tr>\n",
       "    <tr>\n",
       "      <th>1</th>\n",
       "      <td>A</td>\n",
       "      <td>активный и некупивший</td>\n",
       "      <td>9.93</td>\n",
       "    </tr>\n",
       "    <tr>\n",
       "      <th>2</th>\n",
       "      <td>A</td>\n",
       "      <td>активный и купивший</td>\n",
       "      <td>0.53</td>\n",
       "    </tr>\n",
       "    <tr>\n",
       "      <th>3</th>\n",
       "      <td>A</td>\n",
       "      <td>неактивный и купивший</td>\n",
       "      <td>0.20</td>\n",
       "    </tr>\n",
       "    <tr>\n",
       "      <th>4</th>\n",
       "      <td>B</td>\n",
       "      <td>неактивный и некупивший</td>\n",
       "      <td>88.44</td>\n",
       "    </tr>\n",
       "    <tr>\n",
       "      <th>5</th>\n",
       "      <td>B</td>\n",
       "      <td>активный и некупивший</td>\n",
       "      <td>10.83</td>\n",
       "    </tr>\n",
       "    <tr>\n",
       "      <th>6</th>\n",
       "      <td>B</td>\n",
       "      <td>активный и купивший</td>\n",
       "      <td>0.52</td>\n",
       "    </tr>\n",
       "    <tr>\n",
       "      <th>7</th>\n",
       "      <td>B</td>\n",
       "      <td>неактивный и купивший</td>\n",
       "      <td>0.20</td>\n",
       "    </tr>\n",
       "  </tbody>\n",
       "</table>\n",
       "</div>"
      ],
      "text/plain": [
       "  grp               group_type  percent_of_users\n",
       "0   A  неактивный и некупивший             89.34\n",
       "1   A    активный и некупивший              9.93\n",
       "2   A      активный и купивший              0.53\n",
       "3   A    неактивный и купивший              0.20\n",
       "4   B  неактивный и некупивший             88.44\n",
       "5   B    активный и некупивший             10.83\n",
       "6   B      активный и купивший              0.52\n",
       "7   B    неактивный и купивший              0.20"
      ]
     },
     "execution_count": 20,
     "metadata": {},
     "output_type": "execute_result"
    }
   ],
   "source": [
    "# в процентном соотношении состав групп примерно одинаковый\n",
    "types_percent = user_data.groupby('grp')['group_type']\\\n",
    "    .value_counts(normalize=True).to_frame()\\\n",
    "    .rename(columns={'group_type': 'users'})\\\n",
    "    .reset_index()\\\n",
    "    .rename(columns={'users': 'percent_of_users'})\n",
    "types_percent['percent_of_users'] = round(types_percent['percent_of_users'] * 100, 2)\n",
    "types_percent"
   ]
  },
  {
   "cell_type": "markdown",
   "id": "102822ba",
   "metadata": {},
   "source": [
    "### Выбор метрик"
   ]
  },
  {
   "cell_type": "markdown",
   "id": "500feeb0",
   "metadata": {},
   "source": [
    "***Целевой группе была предложена новая механика оплаты услуг на сайте. В зависимости от сути этих изменений, новая механика могла повлиять как на количество чеков (новое окно может увеличить или уменьшить конверсию в покупку), так и на сумму чеков (если новая механика влияет на платежеспособность пользователя - оплата по частям, баллами, купонами или в рассрочку может увеличить сумму чека, или если на сайте для оплаты с купоном на скидку механика стала менее понятной для пользователя, то средний чек может умешиться). Поэтому будем рассматривать Конверсию и Средний чек, произведение которых даст нам относительную выручку (Revenue per visitor = Conversion rate * Average Order Value)***\n",
    " \n",
    "***Для анализа будем учитывать только активных пользователей, т.е. тех которые заходили на платформу в период проведения экперимента, т.к. на тех пользователей, которые в это время не заходили на платформу, эксперимент не мог повлиять.***"
   ]
  },
  {
   "cell_type": "code",
   "execution_count": 21,
   "id": "6732910b",
   "metadata": {},
   "outputs": [
    {
     "data": {
      "text/html": [
       "<div>\n",
       "<style scoped>\n",
       "    .dataframe tbody tr th:only-of-type {\n",
       "        vertical-align: middle;\n",
       "    }\n",
       "\n",
       "    .dataframe tbody tr th {\n",
       "        vertical-align: top;\n",
       "    }\n",
       "\n",
       "    .dataframe thead th {\n",
       "        text-align: right;\n",
       "    }\n",
       "</style>\n",
       "<table border=\"1\" class=\"dataframe\">\n",
       "  <thead>\n",
       "    <tr style=\"text-align: right;\">\n",
       "      <th></th>\n",
       "      <th>grp</th>\n",
       "      <th>amount_active_users</th>\n",
       "      <th>amount_check_users</th>\n",
       "      <th>rev_check</th>\n",
       "    </tr>\n",
       "  </thead>\n",
       "  <tbody>\n",
       "    <tr>\n",
       "      <th>0</th>\n",
       "      <td>A</td>\n",
       "      <td>1538</td>\n",
       "      <td>78</td>\n",
       "      <td>72820.0</td>\n",
       "    </tr>\n",
       "    <tr>\n",
       "      <th>1</th>\n",
       "      <td>B</td>\n",
       "      <td>6803</td>\n",
       "      <td>314</td>\n",
       "      <td>394974.0</td>\n",
       "    </tr>\n",
       "  </tbody>\n",
       "</table>\n",
       "</div>"
      ],
      "text/plain": [
       "  grp  amount_active_users  amount_check_users  rev_check\n",
       "0   A                 1538                  78    72820.0\n",
       "1   B                 6803                 314   394974.0"
      ]
     },
     "execution_count": 21,
     "metadata": {},
     "output_type": "execute_result"
    }
   ],
   "source": [
    "# Данные для расчета метрик\n",
    "active_users = user_data.query('active == 1')\\\n",
    "    .groupby('grp', as_index=False)\\\n",
    "    .agg(amount_active_users=('id', 'count'))\n",
    "check_users = user_data.query('active == 1 & rev > 0')\\\n",
    "    .groupby('grp', as_index=False)\\\n",
    "    .agg(amount_check_users=('id', 'count'), rev_check=('rev', 'sum'))\n",
    "metrics_df = active_users.merge(check_users, on='grp', how='left')\n",
    "metrics_df"
   ]
  },
  {
   "cell_type": "markdown",
   "id": "1c053a7d",
   "metadata": {},
   "source": [
    "***\n",
    "#### Конверсия (Conversion Rate)"
   ]
  },
  {
   "cell_type": "markdown",
   "id": "0bfcdb5f",
   "metadata": {},
   "source": [
    "***У конверсии биномиальный тип данных, т.е. данные могут принимать только два значения \"да/нет\", \"успех\"(1) или \"неудача\"(0). Биномиальное распределение не является нормальным. Однако согласно Центральной предельной теореме независимо от формы распределения популяции, из которой мы берем выборки, распределение выборочных средних будет распределено нормально, относительно среднего выборочных средних, которое будет приблизительно равно среднему популяции. А дисперсия выборки будет  приблизительно равной дисперсии популяции, при условии большого размера выборки. Поэтому, предполагается, что она известена, несмотря на то, что у нас есть только выборочные данные. Поэтому для тестирования гипотез о схожести пропорций можно использовать Z-тест***"
   ]
  },
  {
   "cell_type": "markdown",
   "id": "b528f1be",
   "metadata": {},
   "source": [
    "**Сформулируем гипотезы и расчитаем конверсию**\n",
    "\n",
    "***Конверсия(CR) = Количество покупателей/Количество пользователей***\n",
    "\n",
    "***Н_0: CR_B = CR_A (Конверсия контрольной и тестовой групп не имеет существенных различий)\n",
    "<br>H_1: CR_B != CR_A (Конверсии контрольной и тестовой групп стат.значимо различаются)***"
   ]
  },
  {
   "cell_type": "code",
   "execution_count": 22,
   "id": "b095b1d7",
   "metadata": {},
   "outputs": [
    {
     "data": {
      "text/html": [
       "<div>\n",
       "<style scoped>\n",
       "    .dataframe tbody tr th:only-of-type {\n",
       "        vertical-align: middle;\n",
       "    }\n",
       "\n",
       "    .dataframe tbody tr th {\n",
       "        vertical-align: top;\n",
       "    }\n",
       "\n",
       "    .dataframe thead th {\n",
       "        text-align: right;\n",
       "    }\n",
       "</style>\n",
       "<table border=\"1\" class=\"dataframe\">\n",
       "  <thead>\n",
       "    <tr style=\"text-align: right;\">\n",
       "      <th></th>\n",
       "      <th>grp</th>\n",
       "      <th>CR</th>\n",
       "      <th>amount_check_users</th>\n",
       "      <th>amount_active_users</th>\n",
       "    </tr>\n",
       "  </thead>\n",
       "  <tbody>\n",
       "    <tr>\n",
       "      <th>0</th>\n",
       "      <td>A</td>\n",
       "      <td>0.050715</td>\n",
       "      <td>78</td>\n",
       "      <td>1538</td>\n",
       "    </tr>\n",
       "    <tr>\n",
       "      <th>1</th>\n",
       "      <td>B</td>\n",
       "      <td>0.046156</td>\n",
       "      <td>314</td>\n",
       "      <td>6803</td>\n",
       "    </tr>\n",
       "  </tbody>\n",
       "</table>\n",
       "</div>"
      ],
      "text/plain": [
       "  grp        CR  amount_check_users  amount_active_users\n",
       "0   A  0.050715                  78                 1538\n",
       "1   B  0.046156                 314                 6803"
      ]
     },
     "metadata": {},
     "output_type": "display_data"
    },
    {
     "name": "stdout",
     "output_type": "stream",
     "text": [
      "CR difference =  -0.004559106964780894\n"
     ]
    }
   ],
   "source": [
    "metrics_df['CR'] = metrics_df['amount_check_users'] / metrics_df['amount_active_users']\n",
    "display(metrics_df[['grp', 'CR', 'amount_check_users', 'amount_active_users']])\n",
    "CR_A = float(metrics_df.query('grp == \"A\"')['CR'])\n",
    "CR_B = float(metrics_df.query('grp == \"B\"')['CR'])\n",
    "CR_diff = CR_B - CR_A\n",
    "print(\"CR difference = \", CR_diff)"
   ]
  },
  {
   "cell_type": "markdown",
   "id": "9efb6f46",
   "metadata": {},
   "source": [
    "***Конверсия в тестовой группе ниже чем в контрольной.***\n",
    "\n",
    "***Для проверки гипотезы о равенстве конверсий будем использовать z-тест пропорций***"
   ]
  },
  {
   "cell_type": "code",
   "execution_count": 23,
   "id": "3e9067f3",
   "metadata": {},
   "outputs": [
    {
     "name": "stdout",
     "output_type": "stream",
     "text": [
      "stat 0.7629884495263746\n",
      "p_value 0.445470284371589\n"
     ]
    }
   ],
   "source": [
    "successes = np.array(metrics_df['amount_check_users'])\n",
    "user_amount = np.array(metrics_df['amount_active_users'])\n",
    "test_stat, p_value = proportions_ztest(successes, user_amount, alternative='two-sided')\n",
    "print(\"stat\", test_stat)\n",
    "print(\"p_value\", p_value)"
   ]
  },
  {
   "cell_type": "markdown",
   "id": "247f74bf",
   "metadata": {},
   "source": [
    "***Результаты проведенного теста не позволяют нам отвергнуть нулевую гипотезу о том, что конверсии двух групп одинаковы. Вероятность получить такую разницу в конверсии при том, что нулевая гипотеза верна составляет 44%\n",
    "<br>Однако есть вероятность совершить ошибку второго рода - не отклонить нулевую гипотезу, хотя альтернативная была верна.***\n",
    "\n",
    "***Определим статистическую мощность теста гипотезы и верояность совершить ошибку второго рода***"
   ]
  },
  {
   "cell_type": "code",
   "execution_count": 24,
   "id": "26da2299",
   "metadata": {},
   "outputs": [
    {
     "data": {
      "text/plain": [
       "<class 'statsmodels.tools.testing.Holder'>\n",
       "power = 0.12632422072570523\n",
       "p_pooled = 0.046996762978060186\n",
       "std_null = 0.49284692777926165\n",
       "std_alt = 0.5069283463066417\n",
       "nobs1 = 6803\n",
       "nobs2 = 1538.0\n",
       "nobs_ratio = 0.22607673085403499\n",
       "alpha = 0.05"
      ]
     },
     "execution_count": 24,
     "metadata": {},
     "output_type": "execute_result"
    }
   ],
   "source": [
    "# Анализ мощности\n",
    "diff = CR_diff\n",
    "prop2 = CR_A \n",
    "prop1 = prop2 + diff\n",
    "nobs1 = 6803\n",
    "statsmodels.stats.proportion.power_proportions_2indep\\\n",
    "    (diff, prop2, nobs1, 1538 / 6803, alternative='two-sided', return_results=True)"
   ]
  },
  {
   "cell_type": "markdown",
   "id": "c015c668",
   "metadata": {},
   "source": [
    "***Анализ показывает, что мощность теста низкая, около 13%. Рекомендуемая мощность не ниже 80%, т.е. вероятность совершить ошибку 2 рода должна составлять 20%. В нашем случае такая верояность высокая 87% (1-0.12632422072570523 = 0.8736757792742947).\n",
    "<br> Увеличить мощность теста можно увеличив размер выборки.***"
   ]
  },
  {
   "cell_type": "markdown",
   "id": "75d05c7f",
   "metadata": {},
   "source": [
    "***Расчитаем необходимый размер выборки, учитывая полученный результат, но со статистической силой в 80%***"
   ]
  },
  {
   "cell_type": "code",
   "execution_count": 25,
   "id": "6b1d5744",
   "metadata": {},
   "outputs": [
    {
     "data": {
      "text/plain": [
       "93303.00767638293"
      ]
     },
     "execution_count": 25,
     "metadata": {},
     "output_type": "execute_result"
    }
   ],
   "source": [
    "diff = CR_diff\n",
    "prop2 = CR_A \n",
    "prop1 = prop2 + diff\n",
    "power = 0.8\n",
    "statsmodels.stats.proportion.samplesize_proportions_2indep_onetail(diff, prop2, power, ratio=1538 / 6803, alpha=0.05, value=0, alternative='two-sided')"
   ]
  },
  {
   "cell_type": "code",
   "execution_count": 26,
   "id": "ed47b278",
   "metadata": {},
   "outputs": [
    {
     "data": {
      "text/plain": [
       "21093.638954325583"
      ]
     },
     "execution_count": 26,
     "metadata": {},
     "output_type": "execute_result"
    }
   ],
   "source": [
    "# необходимый размер контрольной группы\n",
    "(1538 / 6803) * 93303.00767638293"
   ]
  },
  {
   "cell_type": "markdown",
   "id": "2bd3b1a3",
   "metadata": {},
   "source": [
    "***т.е. при разнице на 0.004 (8% от контроля) между тестовой и контрольной группами, и при такой же пропорции, нам нужно иметь 11167 пользователей в контрольной группе и 49393 в тестовой, чтобы быть уверенными, что разница в нашем случае стат.НЕзначима, что мы не отклоним нулевую гипотезу с минимальной вероятностью совершить ошибку второго рода.***\n",
    "\n",
    "***На данный момент прийти к выводу, что новая мехника не влият на конверсию мы не можем, требуется собрать больше наблюдений*** "
   ]
  },
  {
   "cell_type": "markdown",
   "id": "9e3bce0a",
   "metadata": {},
   "source": [
    "***\n",
    "#### Средний чек (Average order value)"
   ]
  },
  {
   "cell_type": "markdown",
   "id": "860e0c77",
   "metadata": {},
   "source": [
    "***Средний чек(AOV) = Доход/Количество чеков***\n",
    "\n",
    "***Так как id в таблице с чеками не повторяются, предположим, что каждый пользователь сделал только один заказ, и в таблице заказы не просуммированы. Один пользователь = Один чек.***\n",
    "\n",
    "***Н_0: AOV_B = AOV_A (Средний чек контрольной и тестовой групп не имеет существенных различий)\n",
    "<br>H_1: AOV_B != AOV_A (Средний чек контрольной и тестовой групп стат.значимо различается)***"
   ]
  },
  {
   "cell_type": "code",
   "execution_count": 27,
   "id": "1ae0f889",
   "metadata": {},
   "outputs": [
    {
     "data": {
      "text/html": [
       "<div>\n",
       "<style scoped>\n",
       "    .dataframe tbody tr th:only-of-type {\n",
       "        vertical-align: middle;\n",
       "    }\n",
       "\n",
       "    .dataframe tbody tr th {\n",
       "        vertical-align: top;\n",
       "    }\n",
       "\n",
       "    .dataframe thead th {\n",
       "        text-align: right;\n",
       "    }\n",
       "</style>\n",
       "<table border=\"1\" class=\"dataframe\">\n",
       "  <thead>\n",
       "    <tr style=\"text-align: right;\">\n",
       "      <th></th>\n",
       "      <th>grp</th>\n",
       "      <th>AOV</th>\n",
       "      <th>amount_check_users</th>\n",
       "      <th>rev_check</th>\n",
       "    </tr>\n",
       "  </thead>\n",
       "  <tbody>\n",
       "    <tr>\n",
       "      <th>0</th>\n",
       "      <td>A</td>\n",
       "      <td>933.589744</td>\n",
       "      <td>78</td>\n",
       "      <td>72820.0</td>\n",
       "    </tr>\n",
       "    <tr>\n",
       "      <th>1</th>\n",
       "      <td>B</td>\n",
       "      <td>1257.878981</td>\n",
       "      <td>314</td>\n",
       "      <td>394974.0</td>\n",
       "    </tr>\n",
       "  </tbody>\n",
       "</table>\n",
       "</div>"
      ],
      "text/plain": [
       "  grp          AOV  amount_check_users  rev_check\n",
       "0   A   933.589744                  78    72820.0\n",
       "1   B  1257.878981                 314   394974.0"
      ]
     },
     "metadata": {},
     "output_type": "display_data"
    },
    {
     "name": "stdout",
     "output_type": "stream",
     "text": [
      "AOV difference =  324.2892373019762\n"
     ]
    }
   ],
   "source": [
    "metrics_df['AOV'] = metrics_df['rev_check'] / metrics_df['amount_check_users']\n",
    "display(metrics_df[['grp', 'AOV', 'amount_check_users', 'rev_check']])\n",
    "AOV_A = float(metrics_df.query('grp == \"A\"')['AOV'])\n",
    "AOV_B = float(metrics_df.query('grp == \"B\"')['AOV'])\n",
    "print(\"AOV difference = \", AOV_B - AOV_A)"
   ]
  },
  {
   "cell_type": "markdown",
   "id": "536f2df5",
   "metadata": {},
   "source": [
    "***Сумма среднего чека тестовой группы больше среднего чека контрольной группы***"
   ]
  },
  {
   "cell_type": "code",
   "execution_count": 28,
   "id": "174813cf",
   "metadata": {},
   "outputs": [],
   "source": [
    "# посмотрим на распределение чеков\n",
    "A_checks = user_data.query('grp == \"A\" & active == 1 & rev > 0')\n",
    "B_checks = user_data.query('grp == \"B\" & active == 1 & rev > 0')"
   ]
  },
  {
   "cell_type": "code",
   "execution_count": 29,
   "id": "30b7318c",
   "metadata": {},
   "outputs": [
    {
     "name": "stderr",
     "output_type": "stream",
     "text": [
      "C:\\Users\\iTMaster_PC\\anaconda3\\lib\\site-packages\\seaborn\\distributions.py:2619: FutureWarning: `distplot` is a deprecated function and will be removed in a future version. Please adapt your code to use either `displot` (a figure-level function with similar flexibility) or `histplot` (an axes-level function for histograms).\n",
      "  warnings.warn(msg, FutureWarning)\n"
     ]
    },
    {
     "data": {
      "text/plain": [
       "<matplotlib.legend.Legend at 0x20e8dbe70a0>"
      ]
     },
     "execution_count": 29,
     "metadata": {},
     "output_type": "execute_result"
    },
    {
     "data": {
      "image/png": "[encoded data removed]",
      "text/plain": [
       "<Figure size 720x432 with 1 Axes>"
      ]
     },
     "metadata": {},
     "output_type": "display_data"
    }
   ],
   "source": [
    "fig, ax = plt.subplots(figsize=(10, 6))\n",
    "ax.set(ylabel='count', title='Checks')\n",
    "sns.distplot(B_checks['rev'], label=\"B\", axlabel='sum', kde=False)\n",
    "sns.distplot(A_checks['rev'], label=\"A\", axlabel='sum', kde=False)\n",
    "plt.legend()"
   ]
  },
  {
   "cell_type": "code",
   "execution_count": 30,
   "id": "08ea7ff9",
   "metadata": {},
   "outputs": [
    {
     "data": {
      "text/plain": [
       "1900.0    128\n",
       "290.0      45\n",
       "199.0      27\n",
       "Name: rev, dtype: int64"
      ]
     },
     "execution_count": 30,
     "metadata": {},
     "output_type": "execute_result"
    }
   ],
   "source": [
    "B_checks['rev'].value_counts().head(3)"
   ]
  },
  {
   "cell_type": "markdown",
   "id": "91197781",
   "metadata": {},
   "source": [
    "***На гистограмме видно, что количество чеков в контрольной группе ниже, чем в тестовой из-за разницы в размере выборок. Кроме того в контрольной группе существует зависимость, чем выше цена тем меньше количество чеков на эту сумму. В распределении тестовой группы в целом тоже присутствет такая зависимость, за исключением чека на 1900.\n",
    "<br>Возможно на 128 пользователей с чеком 1900 могло действовать еще какое-то изменение, кроме новой механики оплаты. Например эти пользователи могли попасть в группу другого теста, где проверялось влияние акции - при покупке курса стоимостью 1900, на второй курс скидка. На 128 пользователях могли проводить сразу 2 экперимента.\n",
    "<br>Другой вариант, возможно сама тема продаваемого курса по каким-то причинам могла стать мега популярной, из-за чего случился аномальный скачок количества продаж именно этого курса стоимостью 1900. То есть скачок продаж отдельного товара можно объяснить модой или сезоном. \n",
    "<br>Для определения природы этой аномалии требуется больше данных, на данном этапе информация о 128 пользователях совершивших покупку на 1900 может исказить результаты теста.\n",
    "<br> При этом 128 пользователей это 40% от всей нашей выборки чеков в тестовой группе, т.е. мы не можем полагаться на достоверность почти половины наблюдений в тестовой выборке.***  "
   ]
  },
  {
   "cell_type": "code",
   "execution_count": 31,
   "id": "7b1500ce",
   "metadata": {},
   "outputs": [
    {
     "data": {
      "text/plain": [
       "array([ 990., 1830., 2910., 2820., 3660.,  580., 2900., 1980.,  290.,\n",
       "       1160., 1530.,  398.,  690., 1140.,  840.,  199.,  489.,  590.,\n",
       "       2220., 1180., 2890., 1039.,  870.])"
      ]
     },
     "execution_count": 31,
     "metadata": {},
     "output_type": "execute_result"
    }
   ],
   "source": [
    "# посмотрим есть ли чек 1900 в контрольной группе\n",
    "A_checks['rev'].unique()"
   ]
  },
  {
   "cell_type": "code",
   "execution_count": 32,
   "id": "d0f39614",
   "metadata": {},
   "outputs": [
    {
     "data": {
      "text/plain": [
       "690.0     46\n",
       "290.0     18\n",
       "990.0     18\n",
       "199.0     12\n",
       "1140.0    11\n",
       "Name: rev, dtype: int64"
      ]
     },
     "execution_count": 32,
     "metadata": {},
     "output_type": "execute_result"
    }
   ],
   "source": [
    "# Посмотрим чеки неактивных пользователей\n",
    "B_checks_past = user_data.query('grp == \"B\" & active == 0 & rev > 0')\n",
    "B_checks_past['rev'].value_counts().head(5)"
   ]
  },
  {
   "cell_type": "code",
   "execution_count": 33,
   "id": "5bf9de0c",
   "metadata": {},
   "outputs": [
    {
     "name": "stderr",
     "output_type": "stream",
     "text": [
      "C:\\Users\\iTMaster_PC\\anaconda3\\lib\\site-packages\\seaborn\\distributions.py:2619: FutureWarning: `distplot` is a deprecated function and will be removed in a future version. Please adapt your code to use either `displot` (a figure-level function with similar flexibility) or `histplot` (an axes-level function for histograms).\n",
      "  warnings.warn(msg, FutureWarning)\n"
     ]
    },
    {
     "data": {
      "text/plain": [
       "<matplotlib.legend.Legend at 0x20e8ddefd30>"
      ]
     },
     "execution_count": 33,
     "metadata": {},
     "output_type": "execute_result"
    },
    {
     "data": {
      "image/png": "[encoded data removed]",
      "text/plain": [
       "<Figure size 504x288 with 1 Axes>"
      ]
     },
     "metadata": {},
     "output_type": "display_data"
    }
   ],
   "source": [
    "# Распределение чеков неактивных пользователей тестовой группы\n",
    "fig, ax = plt.subplots(figsize=(7, 4))\n",
    "ax.set(ylabel='count', title='Past Checks Test')\n",
    "sns.distplot(B_checks_past['rev'], label=\"B\", axlabel='sum', kde=False)\n",
    "plt.legend()"
   ]
  },
  {
   "cell_type": "markdown",
   "id": "daea1722",
   "metadata": {},
   "source": [
    "***Чек 1900 отсутсвует в контрольной группе. В платежах совершенных в прошлом, выбросов по чеку на 1900 нет, но данных мало. Поскольку нам неизвестна природа резкого роста количества чеков на 1900 и нет данных для его детального исследования, удалим 128 пользователей с чеком 1900 из тестовой группы. И проведем сравнение контрольной и тестовой группы с чеком 1900 и без него.***"
   ]
  },
  {
   "cell_type": "code",
   "execution_count": 34,
   "id": "ed8e6896",
   "metadata": {},
   "outputs": [
    {
     "data": {
      "text/plain": [
       "128"
      ]
     },
     "execution_count": 34,
     "metadata": {},
     "output_type": "execute_result"
    }
   ],
   "source": [
    "# откорректированная тестовая группа без учета чека на 1900\n",
    "new_B_checks = B_checks.query('rev != 1900')\n",
    "len(B_checks) - len(new_B_checks)"
   ]
  },
  {
   "cell_type": "code",
   "execution_count": 35,
   "id": "edfb17b2",
   "metadata": {},
   "outputs": [
    {
     "name": "stdout",
     "output_type": "stream",
     "text": [
      "815.989247311828\n",
      "933.5897435897435\n"
     ]
    },
    {
     "data": {
      "text/plain": [
       "-117.60049627791557"
      ]
     },
     "execution_count": 35,
     "metadata": {},
     "output_type": "execute_result"
    }
   ],
   "source": [
    "# Сравним средний чек новой тествой и контрольной групп\n",
    "AOV_new_B = new_B_checks['rev'].sum() / new_B_checks['active'].sum()\n",
    "print(AOV_new_B)\n",
    "print(AOV_A)\n",
    "AOV_new_B - AOV_A"
   ]
  },
  {
   "cell_type": "markdown",
   "id": "0213989e",
   "metadata": {},
   "source": [
    "***Без учета чека на 1900, средний чек тестовой группы ниже среднего чека контрольной***"
   ]
  },
  {
   "cell_type": "code",
   "execution_count": 36,
   "id": "fd5228d7",
   "metadata": {},
   "outputs": [
    {
     "name": "stderr",
     "output_type": "stream",
     "text": [
      "C:\\Users\\iTMaster_PC\\anaconda3\\lib\\site-packages\\seaborn\\distributions.py:2619: FutureWarning: `distplot` is a deprecated function and will be removed in a future version. Please adapt your code to use either `displot` (a figure-level function with similar flexibility) or `histplot` (an axes-level function for histograms).\n",
      "  warnings.warn(msg, FutureWarning)\n"
     ]
    },
    {
     "data": {
      "text/plain": [
       "<matplotlib.legend.Legend at 0x20e8dc90040>"
      ]
     },
     "execution_count": 36,
     "metadata": {},
     "output_type": "execute_result"
    },
    {
     "data": {
      "image/png": "[encoded data removed]",
      "text/plain": [
       "<Figure size 720x432 with 1 Axes>"
      ]
     },
     "metadata": {},
     "output_type": "display_data"
    }
   ],
   "source": [
    "# Распределение чеков контольной и новой тестовой групп\n",
    "fig, ax = plt.subplots(figsize=(10, 6))\n",
    "ax.set(ylabel='count', title='Checks')\n",
    "sns.distplot(new_B_checks['rev'], label=\"new B\", axlabel='sum', kde=False)\n",
    "sns.distplot(A_checks['rev'], label=\"A\", axlabel='sum', kde=False)\n",
    "plt.legend()"
   ]
  },
  {
   "cell_type": "code",
   "execution_count": 37,
   "id": "75196e41",
   "metadata": {},
   "outputs": [
    {
     "data": {
      "text/plain": [
       "count     186.000000\n",
       "mean      815.989247\n",
       "std       759.354199\n",
       "min       199.000000\n",
       "25%       290.000000\n",
       "50%       690.000000\n",
       "75%       990.000000\n",
       "max      4650.000000\n",
       "Name: rev, dtype: float64"
      ]
     },
     "execution_count": 37,
     "metadata": {},
     "output_type": "execute_result"
    }
   ],
   "source": [
    "# Сравним описательные статистики.\n",
    "new_B_checks['rev'].describe()"
   ]
  },
  {
   "cell_type": "code",
   "execution_count": 38,
   "id": "cdc3264c",
   "metadata": {},
   "outputs": [
    {
     "data": {
      "text/plain": [
       "count      78.000000\n",
       "mean      933.589744\n",
       "std       919.932711\n",
       "min       199.000000\n",
       "25%       290.000000\n",
       "50%       585.000000\n",
       "75%      1114.750000\n",
       "max      3660.000000\n",
       "Name: rev, dtype: float64"
      ]
     },
     "execution_count": 38,
     "metadata": {},
     "output_type": "execute_result"
    }
   ],
   "source": [
    "A_checks['rev'].describe()"
   ]
  },
  {
   "cell_type": "code",
   "execution_count": 39,
   "id": "bdf0a21f",
   "metadata": {},
   "outputs": [
    {
     "data": {
      "text/plain": [
       "count     314.000000\n",
       "mean     1257.878981\n",
       "std       790.864245\n",
       "min       199.000000\n",
       "25%       511.750000\n",
       "50%      1140.000000\n",
       "75%      1900.000000\n",
       "max      4650.000000\n",
       "Name: rev, dtype: float64"
      ]
     },
     "execution_count": 39,
     "metadata": {},
     "output_type": "execute_result"
    }
   ],
   "source": [
    "B_checks['rev'].describe()"
   ]
  },
  {
   "cell_type": "markdown",
   "id": "6d9ed07c",
   "metadata": {},
   "source": [
    "***В результате удаления данных по чеку 1900 описательные статистики тестовой группы значительно изменились и стали больше приближены к статистикам контрольной группы. Изначально средние и медианы отличались в 1.5-2 раза, после удаления разница между средним, медианой и 3-м процентилем сократилась, 1-й процентиль совпадает.***"
   ]
  },
  {
   "cell_type": "code",
   "execution_count": 40,
   "id": "e2a6c65d",
   "metadata": {},
   "outputs": [
    {
     "data": {
      "text/plain": [
       "ShapiroResult(statistic=0.7353236079216003, pvalue=1.4986822893803264e-10)"
      ]
     },
     "execution_count": 40,
     "metadata": {},
     "output_type": "execute_result"
    }
   ],
   "source": [
    "# Проверка на нормальность распределения тестом Шапиро-Уилка \n",
    "scipy.stats.shapiro(A_checks['rev'])"
   ]
  },
  {
   "cell_type": "code",
   "execution_count": 41,
   "id": "e37a548c",
   "metadata": {},
   "outputs": [
    {
     "data": {
      "text/plain": [
       "ShapiroResult(statistic=0.854723334312439, pvalue=1.5436537542021223e-16)"
      ]
     },
     "execution_count": 41,
     "metadata": {},
     "output_type": "execute_result"
    }
   ],
   "source": [
    "scipy.stats.shapiro(B_checks['rev'])"
   ]
  },
  {
   "cell_type": "code",
   "execution_count": 42,
   "id": "cbb4e1fc",
   "metadata": {},
   "outputs": [
    {
     "data": {
      "text/plain": [
       "ShapiroResult(statistic=0.740757942199707, pvalue=9.010076071890185e-17)"
      ]
     },
     "execution_count": 42,
     "metadata": {},
     "output_type": "execute_result"
    }
   ],
   "source": [
    "scipy.stats.shapiro(new_B_checks['rev'])"
   ]
  },
  {
   "cell_type": "markdown",
   "id": "6ff84f44",
   "metadata": {},
   "source": [
    "***Тест Шапиро-Уилка проверяет гипотезу о том, что выборка изъята из генеральной совокупности, где распределение признака соответствует нормальному. В наших контрольной, тестовой и откорректированной тестовой выборках р-уровень значимости намного меньше 0.05, распредление групп значимо отличается от нормального.***"
   ]
  },
  {
   "cell_type": "markdown",
   "id": "b3ed71ea",
   "metadata": {},
   "source": [
    "***Для сравнения средних чеков будем использовать T-тест, который предполагает, что значения выборочных средних должны быть распределены нормально и размер выборки должен быть большой. Согласно Центральной предельной теореме, распределение выборочных средних будет стремиться к нормальному даже при ненормальном распределении признака в генеральной совокупности. То есть T-тест действителен на выборке большого размера с ненормальным распределением признака, однако если выборка небольшая требуется, чтобы распределение признака было приблизительно нормальным.***\n",
    "\n",
    "***Так как размеры выборок не равны применим t-критерий Уэлча***"
   ]
  },
  {
   "cell_type": "code",
   "execution_count": 43,
   "id": "867a5688",
   "metadata": {},
   "outputs": [
    {
     "data": {
      "text/plain": [
       "Ttest_indResult(statistic=0.9956924829142738, pvalue=0.32135267998140593)"
      ]
     },
     "execution_count": 43,
     "metadata": {},
     "output_type": "execute_result"
    }
   ],
   "source": [
    "stats.ttest_ind(A_checks['rev'], new_B_checks['rev'], equal_var=False)"
   ]
  },
  {
   "cell_type": "code",
   "execution_count": 44,
   "id": "015ee3a6",
   "metadata": {},
   "outputs": [
    {
     "data": {
      "text/plain": [
       "Ttest_indResult(statistic=-2.861689662002993, pvalue=0.005069735402824095)"
      ]
     },
     "execution_count": 44,
     "metadata": {},
     "output_type": "execute_result"
    }
   ],
   "source": [
    "stats.ttest_ind(A_checks['rev'], B_checks['rev'], equal_var=False)"
   ]
  },
  {
   "cell_type": "markdown",
   "id": "73e2bb44",
   "metadata": {},
   "source": [
    "***Сравнение средних чеков контрольной и тестовой группы показало, что вероятность получить различие на 324(34,73%) при том, что нулевая гипотеза верна составляет менее 5%. Разница стат.значима. \n",
    "Сравнение средних чеков после исключения пользователей с чеками 1900 показало, что вероятность получить различие на 117(12,59%) при том, что нулевая гипотеза верна, довольно большая 32%.***  "
   ]
  },
  {
   "cell_type": "markdown",
   "id": "60ad4bd9",
   "metadata": {},
   "source": [
    "***Поведенный анализ приводит к выводу о том, что именно аномальный скачок количества чеков на 1900 дал значимый прирост прибыли. Без его учета тест не дает значимых результатов. Поскольку нам неизвестна природа этого выброса, результаты теста очень сомнительны относительно предмета нашего эксперимента - новой механики оплаты. Логично предположить, что тестируемое нами изменение механики оплаты не могло повлиять только на один отдельный вид чека. Такое изменение должно было повлиять на все виды чеков примерно в одинаковой степени. Скорее всего на прирост прибыли в тестовой группе повлиял другой неизвестный нам фактор (другой тест, сезон, мода).***   "
   ]
  },
  {
   "cell_type": "markdown",
   "id": "c891e5a6",
   "metadata": {},
   "source": [
    "***Результат сравнения средних чеков контрольной и откорректированной тестовой групп, без учета чека 1900, показывает, что у нас нет достаточных оснований отвергнуть нулевую гипотезу.***\n",
    "\n",
    "***Расчитаем вероятность совершить ошибку второго рода и определимм достаточное ли у нас количество наблюдений, после того как мы удалили аномальные наблюдения, чтобы быть уверенным в том, что разница между контрольной и откорректированной тестовой группой статистически незначима.***"
   ]
  },
  {
   "cell_type": "markdown",
   "id": "b2580ca9",
   "metadata": {},
   "source": [
    "***Для этого расчитаем эффект с помощью стандартизированной средней разницы d Коэна***"
   ]
  },
  {
   "cell_type": "code",
   "execution_count": 45,
   "id": "ac1bc3c1",
   "metadata": {},
   "outputs": [],
   "source": [
    "def calc_cohen_d(group1, group2):\n",
    "    \"\"\"фукнция для расчета d Коэна\"\"\"\n",
    "    \n",
    "    diff = group1.mean() - group2.mean()\n",
    "    n1, n2 = len(group1), len(group2)\n",
    "    var1 = group1.var()\n",
    "    var2 = group2.var()\n",
    "    pooled_var = (n1 * var1 + n2 * var2) / (n1 + n2) \n",
    "    d = diff / np.sqrt(pooled_var)\n",
    "    \n",
    "    return d"
   ]
  },
  {
   "cell_type": "code",
   "execution_count": 46,
   "id": "60d38c72",
   "metadata": {},
   "outputs": [
    {
     "data": {
      "text/plain": [
       "0.14516474681302935"
      ]
     },
     "execution_count": 46,
     "metadata": {},
     "output_type": "execute_result"
    }
   ],
   "source": [
    "cohens_d = calc_cohen_d(A_checks['rev'], new_B_checks['rev'])\n",
    "abs(cohens_d)"
   ]
  },
  {
   "cell_type": "markdown",
   "id": "87d40dc5",
   "metadata": {},
   "source": [
    "***Средние значения двух групп отличаются на 0.14 стандартных отклонения - низкий размер эффекта.***"
   ]
  },
  {
   "cell_type": "code",
   "execution_count": 47,
   "id": "34b82945",
   "metadata": {},
   "outputs": [
    {
     "data": {
      "text/plain": [
       "0.39635900758859843"
      ]
     },
     "execution_count": 47,
     "metadata": {},
     "output_type": "execute_result"
    }
   ],
   "source": [
    "cohens_d_1 = calc_cohen_d(A_checks['rev'], B_checks['rev'])\n",
    "abs(cohens_d_1)"
   ]
  },
  {
   "cell_type": "code",
   "execution_count": 48,
   "id": "ccdcebfb",
   "metadata": {},
   "outputs": [
    {
     "data": {
      "text/plain": [
       "0.3149232611478454"
      ]
     },
     "execution_count": 48,
     "metadata": {},
     "output_type": "execute_result"
    }
   ],
   "source": [
    "# Мощность теста\n",
    "TTestIndPower().solve_power(0.2, nobs1=78, ratio=186 / 78, alpha=0.05, alternative='two-sided')"
   ]
  },
  {
   "cell_type": "markdown",
   "id": "36a37210",
   "metadata": {},
   "source": [
    "***Стат мощность теста низкая, около 31%, вероятность совершить ошибку 2 рода 69%.*** "
   ]
  },
  {
   "cell_type": "code",
   "execution_count": 49,
   "id": "eb6d1564",
   "metadata": {},
   "outputs": [
    {
     "data": {
      "text/plain": [
       "279.0765790786379"
      ]
     },
     "execution_count": 49,
     "metadata": {},
     "output_type": "execute_result"
    }
   ],
   "source": [
    "# Необходимый размер первой выборки при мощности теста 80%\n",
    "TTestIndPower().solve_power(0.2, power=0.8, nobs1=None, ratio=186 / 78, alpha=0.05, alternative='two-sided')"
   ]
  },
  {
   "cell_type": "code",
   "execution_count": 50,
   "id": "54153ccd",
   "metadata": {},
   "outputs": [
    {
     "data": {
      "text/plain": [
       "665.4903039567492"
      ]
     },
     "execution_count": 50,
     "metadata": {},
     "output_type": "execute_result"
    }
   ],
   "source": [
    "# Размер второй выборки\n",
    "279.07657907863677 * (186 / 78)"
   ]
  },
  {
   "cell_type": "markdown",
   "id": "c21a73d0",
   "metadata": {},
   "source": [
    "***Для того чтобы увеличить мощность теста до 80% при той же пропорции и уменьшить вероятность совершить ошибку второго рода, нужно чтобы размер контрольной группы был 279 чеков, а тестовой 665.***"
   ]
  },
  {
   "cell_type": "markdown",
   "id": "a14791a6",
   "metadata": {},
   "source": [
    "### Вывод"
   ]
  },
  {
   "cell_type": "markdown",
   "id": "3e77d5b8",
   "metadata": {},
   "source": [
    "***Целью исследования было определить влияет ли новая механика оплаты на выручку компании. Для этого было проведено сравнение между контрольной и тестовой группой по двум метрикам - конверсия и средний чек и были сделаны следующие наблюдения:***\n",
    "\n",
    "* ***Сравнение конверсий двух групп показало, что оснований утверждать, что разница стат.значима нет.*** \n",
    "\n",
    "* ***В данных об оплате был обнаружен аномальный рост количества чеков на сумму 1900. Возможно на наблюдения, выбранные для экперимента по влиянию новой механики оплаты, оказывал действие другой эксперимент, проводимый в компании. Произошло пересечение между наблюдениями двух экпериментов.***  \n",
    "* ***Без учета аномальных данных сравнение среднего чека по двум группам не дало стат.значимого результата***\n",
    "* ***На основании полученных данных мы не можем утверждать, что существует разница между двумя группами, однако, по обеим метрикам, недостаточное количество полученных данных не дает нам утверждать, что разницы действительно нет.*** \n",
    "\n",
    "***Для получения более точных результатов, при дизайне экперимента нужно было учесть, что для использования несбалансированного теста требуется иметь достаточный объем трафика для обнаружения интересующих изменений в метрике и чем больше это изменение(например 20% и выше), тем больше вероятность его обнаружить. \n",
    "В нашем случае зафиксированные изменения очень маленькие, при балансе 20/80 не хватает трафика для достижения мощности теста 80%. Если ожидаемый прирост или падение метрики достаточно маленькие (допустим, меньше 5%), то для достижения необходимой мощности теста можно придерживаться баланса 50/50.*** \n",
    "\n",
    "***Следует ли запускать новую механику оплаты на всех пользователей?\n",
    "<br>На данном этапе - нет. У нас нет уверенности в достоверности полученных данных, требуется больше наблюдений для эксперимента. Результат запуска новой механики оплаты на всех пользователей на данном этапе непредсказуем. Мы можем получить как положительный так и отрицательный эффект, либо получить очень незначительный эффект, который не превысит стоимости затраченных ресурсов на внедрение новой механики оплаты на всех пользователей.***    \n"
   ]
  },
  {
   "cell_type": "markdown",
   "id": "db46e47f",
   "metadata": {},
   "source": [
    "# Задание 2. SQL\n",
    "**Задача 2.1**  \n",
    "Образовательные курсы состоят из различных уроков, каждый из которых состоит из нескольких маленьких заданий. Каждое такое маленькое задание называется \"горошиной\". <br>Назовём очень усердным учеником того пользователя, который хотя бы раз за текущий месяц правильно решил 20 горошин.\n",
    "<br>Дана таблица в Clickhouse **default.peas**:\n",
    "\n",
    "|Название атрибута|Тип атрибута|Смысловое значение|\n",
    "|:-|:-|:-|\n",
    "|st_id|int|ID ученика|\n",
    "|timest|timestamp|Время решения карточки|\n",
    "|correct|bool|Правильно ли решена горошина?|\n",
    "|subject|text|Дисциплина, в которой находится горошина|\n",
    "\n",
    "**Необходимо написать оптимальный запрос, который даст информацию о количестве очень усердных студентов.**\n",
    "<br>NB! Под очень усердным студентом мы понимаем студента, который правильно решил 20 задач за текущий месяц."
   ]
  },
  {
   "cell_type": "code",
   "execution_count": 51,
   "id": "d24a7397",
   "metadata": {},
   "outputs": [],
   "source": [
    "# задаем параметры для подключения к базе данных default на ClickHouse:\n",
    "connection_default = {'host': 'http://clickhouse.beslan.pro:8080',\n",
    "                      'database': 'default',\n",
    "                      'user': 'student', \n",
    "                      'password': 'dpo_python_2020'\n",
    "                      }"
   ]
  },
  {
   "cell_type": "code",
   "execution_count": 52,
   "id": "d49d8fa6",
   "metadata": {},
   "outputs": [],
   "source": [
    "# Создали запрос для подсчета количества усердных учеников\n",
    "q_1 = ''' \n",
    "    SELECT COUNT(*) AS amount_of_good_students  --посчитали количество учердных учеников\n",
    "    FROM  \n",
    "(--объявили параметр текущего месяца, как последний месяц указанный в таблице, \n",
    "--т.к. данных за текущий месяц на момент решения задачи в таблице нет.  \n",
    "    WITH\n",
    "    (SELECT MAX(toStartOfMonth(timest)) FROM peas) AS current_month \n",
    "--Посчитали количество правильно решенных заданий каждым студентом за текущий месяц \n",
    "--и выбрали студентов с 20 и более горошинами \n",
    "    SELECT st_id, SUM(correct) AS correct_peas FROM peas\n",
    "    WHERE toStartOfMonth(timest) = current_month \n",
    "    GROUP BY(st_id)\n",
    "    HAVING correct_peas >= 20\n",
    ") '''\n"
   ]
  },
  {
   "cell_type": "code",
   "execution_count": 53,
   "id": "92060520",
   "metadata": {},
   "outputs": [
    {
     "data": {
      "text/html": [
       "<div>\n",
       "<style scoped>\n",
       "    .dataframe tbody tr th:only-of-type {\n",
       "        vertical-align: middle;\n",
       "    }\n",
       "\n",
       "    .dataframe tbody tr th {\n",
       "        vertical-align: top;\n",
       "    }\n",
       "\n",
       "    .dataframe thead th {\n",
       "        text-align: right;\n",
       "    }\n",
       "</style>\n",
       "<table border=\"1\" class=\"dataframe\">\n",
       "  <thead>\n",
       "    <tr style=\"text-align: right;\">\n",
       "      <th></th>\n",
       "      <th>amount_of_good_students</th>\n",
       "    </tr>\n",
       "  </thead>\n",
       "  <tbody>\n",
       "    <tr>\n",
       "      <th>0</th>\n",
       "      <td>136</td>\n",
       "    </tr>\n",
       "  </tbody>\n",
       "</table>\n",
       "</div>"
      ],
      "text/plain": [
       "   amount_of_good_students\n",
       "0                      136"
      ]
     },
     "execution_count": 53,
     "metadata": {},
     "output_type": "execute_result"
    }
   ],
   "source": [
    "# отправляем запрос и записываем результат в пандасовский датафрейм\n",
    "q_test = ph.read_clickhouse(query=q_1, connection=connection_default)\n",
    "q_test"
   ]
  },
  {
   "cell_type": "markdown",
   "id": "802c859a",
   "metadata": {},
   "source": [
    "#### Задача 2.2"
   ]
  },
  {
   "cell_type": "markdown",
   "id": "d40093ac",
   "metadata": {},
   "source": [
    "Образовательная платформа предлагает пройти студентам курсы по модели trial: студент может решить бесплатно лишь 30 горошин в день. Для неограниченного количества заданий в определенной дисциплине студенту необходимо приобрести полный доступ. Команда провела эксперимент, где был протестирован новый экран оплаты.\n",
    "<br>Дана таблицы в Clickhouse: **default.peas (см. выше), default.studs:**\n",
    "\n",
    "|Название атрибута|Тип атрибута|Смысловое значение|\n",
    "|:-|:-|:-|\n",
    "|st_id|int|ID ученика|\n",
    "|test_grp|text|Метка ученика в данном эксперименте|"
   ]
  },
  {
   "cell_type": "markdown",
   "id": "018669a8",
   "metadata": {},
   "source": [
    "и **default.final_project_check:**\n",
    "\n",
    "|Название атрибута|Тип атрибута|Смысловое значение|\n",
    "|:-|:-|:-|\n",
    "|st_id|int|ID ученика|\n",
    "|sale_time|timestamp|Время покупки|\n",
    "|money|int|Цена, по которой приобрели данный курс|\n",
    "|subject|text|Дисциплина, на которую приобрели полный доступ|\n",
    "\n",
    "**Необходимо в одном запросе выгрузить следующую информацию о группах пользователей:**\n",
    "\n",
    "* ARPU \n",
    "* ARPAU \n",
    "* CR в покупку \n",
    "* СR активного пользователя в покупку \n",
    "* CR пользователя из активности по математике (subject = ’math’) в покупку курса по математике\n",
    "* ARPU считается относительно всех пользователей, попавших в группы.\n",
    "\n",
    "Активным считается пользователь, за все время решивший больше 10 задач правильно в любых дисциплинах.\n",
    "<br>Активным по математике считается пользователь, за все время решивший 2 или больше задач правильно по математике."
   ]
  },
  {
   "cell_type": "code",
   "execution_count": 54,
   "id": "2a0cddc4",
   "metadata": {},
   "outputs": [],
   "source": [
    "q_2= '''\n",
    "--Расчет метрик\n",
    "    SELECT test_grp, SUM(revenue)/COUNT(DISTINCT st_id) AS ARPU, SUM(IF(revenue!=0, 1 ,0))/COUNT(st_id) AS CR, \n",
    "    SUM(IF(active=1,revenue,0))/SUM (active) AS ARPAU,  \n",
    "    SUM(If(active=1 AND revenue!=0, active,0))/SUM(active) AS CR_active, \n",
    "    SUM(If(math_active=1 AND math_revenue!=0, math_active,0))/SUM(math_active) AS CR_math \n",
    "    FROM ( \n",
    "--Сформировали общую сводную таблицу, с необходимыми данными для расчета метрик\n",
    "    SELECT grp.st_id AS st_id, test_grp, active, math_active, revenue, math_revenue FROM studs AS grp \n",
    "    LEFT JOIN( \n",
    "    SELECT st_id, SUM(correct)>10::int AS active, SUM(IF(subject_learn = 'Math',correct,0))>=2::int AS math_active \n",
    "    FROM ( \n",
    "--К таблице активности добавили дату последней оплаты и отфильтровали задания выполненые до оплаты\n",
    "--Задания выпоненные после даты выполнения целевого действия(оплаты) не входят в эксперимент\n",
    "    SELECT l.st_id AS st_id, timest, last_pay,  correct, l.subject AS subject_learn \n",
    "    FROM peas AS l \n",
    "    LEFT JOIN  \n",
    "--Определили дату последней оплаты\n",
    "    (SELECT st_id, MAX(sale_time) AS last_pay FROM final_project_check GROUP BY st_id )AS r USING(st_id) \n",
    "    WHERE timest<=last_pay OR last_pay='1970-01-01 03:00:00' \n",
    "    ) AS peas_table \n",
    "    GROUP BY st_id \n",
    "    ) AS activity ON grp.st_id=activity.st_id \n",
    "    LEFT JOIN \n",
    "-- Расчитали выручку для каждого оплатившего студента по всем предметам и по математике\n",
    "    (SELECT st_id, SUM(money) AS revenue, SUM(IF(subject_pay = 'Math',money,0)) AS math_revenue  \n",
    "    FROM( \n",
    "--В таблицу с оплатами добавили дату первой активности и отфильтровали оплату сделанную после первой активности\n",
    "--Оплата, совершенная до первой активности не входит в эксперимент\n",
    "    SELECT st_id, sale_time,first_active, money, subject AS subject_pay  \n",
    "    FROM final_project_check \n",
    "    LEFT JOIN  \n",
    "--Определили дату первой активности для каждого оплатившего студента \n",
    "    (SELECT st_id, MIN(timest)  AS first_active \n",
    "    FROM peas \n",
    "    GROUP BY st_id) As n USING(st_id) \n",
    "    WHERE sale_time>first_active \n",
    "    ) AS payment  \n",
    "    GROUP BY st_id) AS revenue ON grp.st_id=revenue.st_id \n",
    "    ) AS data_set \n",
    "    GROUP BY test_grp '''"
   ]
  },
  {
   "cell_type": "code",
   "execution_count": 55,
   "id": "f2c678df",
   "metadata": {},
   "outputs": [
    {
     "data": {
      "text/html": [
       "<div>\n",
       "<style scoped>\n",
       "    .dataframe tbody tr th:only-of-type {\n",
       "        vertical-align: middle;\n",
       "    }\n",
       "\n",
       "    .dataframe tbody tr th {\n",
       "        vertical-align: top;\n",
       "    }\n",
       "\n",
       "    .dataframe thead th {\n",
       "        text-align: right;\n",
       "    }\n",
       "</style>\n",
       "<table border=\"1\" class=\"dataframe\">\n",
       "  <thead>\n",
       "    <tr style=\"text-align: right;\">\n",
       "      <th></th>\n",
       "      <th>test_grp</th>\n",
       "      <th>ARPU</th>\n",
       "      <th>CR</th>\n",
       "      <th>ARPAU</th>\n",
       "      <th>CR_active</th>\n",
       "      <th>CR_math</th>\n",
       "    </tr>\n",
       "  </thead>\n",
       "  <tbody>\n",
       "    <tr>\n",
       "      <th>0</th>\n",
       "      <td>control</td>\n",
       "      <td>4540.983607</td>\n",
       "      <td>0.049180</td>\n",
       "      <td>5168.067227</td>\n",
       "      <td>0.05042</td>\n",
       "      <td>0.041667</td>\n",
       "    </tr>\n",
       "    <tr>\n",
       "      <th>1</th>\n",
       "      <td>pilot</td>\n",
       "      <td>11288.135593</td>\n",
       "      <td>0.105085</td>\n",
       "      <td>25934.065934</td>\n",
       "      <td>0.21978</td>\n",
       "      <td>0.095238</td>\n",
       "    </tr>\n",
       "  </tbody>\n",
       "</table>\n",
       "</div>"
      ],
      "text/plain": [
       "  test_grp          ARPU        CR         ARPAU  CR_active   CR_math\n",
       "0  control   4540.983607  0.049180   5168.067227    0.05042  0.041667\n",
       "1    pilot  11288.135593  0.105085  25934.065934    0.21978  0.095238"
      ]
     },
     "execution_count": 55,
     "metadata": {},
     "output_type": "execute_result"
    }
   ],
   "source": [
    "q_test_2 = ph.read_clickhouse(query=q_2, connection=connection_default)\n",
    "q_test_2"
   ]
  },
  {
   "cell_type": "markdown",
   "id": "09ffb929",
   "metadata": {},
   "source": [
    "# 3. Python\n",
    "**Задача 3.1**  \n",
    "Реализуйте функцию, которая будет автоматически подгружать информацию из дополнительного файла groups_add.csv (заголовки могут отличаться) и на основании дополнительных параметров пересчитывать метрики.\n"
   ]
  },
  {
   "cell_type": "markdown",
   "id": "c59f3e92",
   "metadata": {},
   "source": [
    "Для решения использованы данные первого задания, поэтому функция будет расчитывать метрики определенные в А/Б тесте первого задания: CR, AOV, RPV"
   ]
  },
  {
   "cell_type": "code",
   "execution_count": 56,
   "id": "d80f6e5b",
   "metadata": {},
   "outputs": [],
   "source": [
    "def add_groups(add_data): \n",
    "    '''Функция для расчета метрик'''\n",
    "    url_groups = 'https://raw.githubusercontent.com/GerelMN/Sourse/main/project_2_groups.csv'\n",
    "    url_active_studs = 'https://raw.githubusercontent.com/GerelMN/Sourse/main/project_2_active_studs.csv'\n",
    "    url_checks = 'https://raw.githubusercontent.com/GerelMN/Sourse/main/project_2_checks.csv'\n",
    "    url_groups_add = add_data\n",
    "    groups = pd.read_csv(url_groups, sep=';')\n",
    "    active_studs = pd.read_csv(url_active_studs)\n",
    "    checks = pd.read_csv(url_checks, sep=';')\n",
    "    groups_add = pd.read_csv(url_groups_add)\n",
    "    # Объединим данные о группах\n",
    "    combined_groups = pd.concat([groups, groups_add])\n",
    "    # Добавили признак активности (1-активный, 0-неактивный)\n",
    "    combined_groups['active'] = np.where(combined_groups['id'].isin(active_studs['student_id']) == True, 1, 0)\n",
    "    \n",
    "    # Добавили сумму оплаты\n",
    "    checks = checks.rename(columns={'student_id': 'id'})\n",
    "    user_data = combined_groups.merge(checks[['id', 'rev']], on='id', how='left')\n",
    "    user_data['rev'] = round(user_data['rev'].fillna(0), 2)\n",
    "    active_users = user_data.query('active == 1')\\\n",
    "    .groupby('grp', as_index=False)\\\n",
    "    .agg(amount_active_users=('id', 'count')) \n",
    "    check_users = user_data.query('active == 1 & rev>0')\\\n",
    "    .groupby('grp', as_index=False)\\\n",
    "    .agg(amount_check_users=('id', 'count'), rev_check=('rev', 'sum'))\n",
    "         \n",
    "    df = active_users.merge(check_users, on='grp', how='left')\n",
    "    df['CR'] = (df['amount_check_users'] / df['amount_active_users']) * 100\n",
    "    df['AOV'] = df['rev_check'] / df['amount_check_users']\n",
    "    df['RPV'] = df['CR'] * df['AOV']\n",
    "         \n",
    "    metrics = round(df[['grp', 'CR', 'AOV', 'RPV']], 2) \n",
    "    metrics = metrics.replace({'grp': {'A': 'control', 'B': 'test'}})\n",
    "  \n",
    "    return metrics"
   ]
  },
  {
   "cell_type": "code",
   "execution_count": 57,
   "id": "32283bd3",
   "metadata": {},
   "outputs": [],
   "source": [
    "def get_diff(metrics):\n",
    "    '''Функция для расчета разниц в метриках'''\n",
    "    control = metrics.iloc[0, 1:4]\n",
    "    test = metrics.iloc[1, 1:4]\n",
    "    diff = test - control\n",
    "    diff_lst = list(diff)\n",
    "    \n",
    "    diff_dict = {'CR_diff': diff_lst[0], 'AOV_diff': diff_lst[1], 'RPV_diff': diff_lst[2]} \n",
    "    difference = pd.DataFrame(diff_dict, index=['test-control'])\n",
    "    diff_df = difference.style.applymap(lambda v: \"color:green;\" if v > 0 else \"color:red;\")\n",
    "\n",
    "    return diff_df"
   ]
  },
  {
   "cell_type": "markdown",
   "id": "f0a3d132",
   "metadata": {},
   "source": [
    "Получена ссылка на дополнительные данные https://raw.githubusercontent.com/GerelMN/Sourse/main/project_2_group_add.csv"
   ]
  },
  {
   "cell_type": "code",
   "execution_count": 58,
   "id": "9decddb0",
   "metadata": {},
   "outputs": [
    {
     "name": "stdout",
     "output_type": "stream",
     "text": [
      "Введите ссылку на данные https://raw.githubusercontent.com/GerelMN/Sourse/main/project_2_group_add.csv\n"
     ]
    },
    {
     "data": {
      "text/html": [
       "<div>\n",
       "<style scoped>\n",
       "    .dataframe tbody tr th:only-of-type {\n",
       "        vertical-align: middle;\n",
       "    }\n",
       "\n",
       "    .dataframe tbody tr th {\n",
       "        vertical-align: top;\n",
       "    }\n",
       "\n",
       "    .dataframe thead th {\n",
       "        text-align: right;\n",
       "    }\n",
       "</style>\n",
       "<table border=\"1\" class=\"dataframe\">\n",
       "  <thead>\n",
       "    <tr style=\"text-align: right;\">\n",
       "      <th></th>\n",
       "      <th>grp</th>\n",
       "      <th>CR</th>\n",
       "      <th>AOV</th>\n",
       "      <th>RPV</th>\n",
       "    </tr>\n",
       "  </thead>\n",
       "  <tbody>\n",
       "    <tr>\n",
       "      <th>0</th>\n",
       "      <td>control</td>\n",
       "      <td>5.07</td>\n",
       "      <td>933.59</td>\n",
       "      <td>4734.72</td>\n",
       "    </tr>\n",
       "    <tr>\n",
       "      <th>1</th>\n",
       "      <td>test</td>\n",
       "      <td>4.62</td>\n",
       "      <td>1257.88</td>\n",
       "      <td>5805.88</td>\n",
       "    </tr>\n",
       "  </tbody>\n",
       "</table>\n",
       "</div>"
      ],
      "text/plain": [
       "       grp    CR      AOV      RPV\n",
       "0  control  5.07   933.59  4734.72\n",
       "1     test  4.62  1257.88  5805.88"
      ]
     },
     "metadata": {},
     "output_type": "display_data"
    },
    {
     "data": {
      "text/html": [
       "<style type=\"text/css\">\n",
       "#T_cd8a5_row0_col0 {\n",
       "  color: red;\n",
       "}\n",
       "#T_cd8a5_row0_col1, #T_cd8a5_row0_col2 {\n",
       "  color: green;\n",
       "}\n",
       "</style>\n",
       "<table id=\"T_cd8a5\">\n",
       "  <thead>\n",
       "    <tr>\n",
       "      <th class=\"blank level0\" >&nbsp;</th>\n",
       "      <th id=\"T_cd8a5_level0_col0\" class=\"col_heading level0 col0\" >CR_diff</th>\n",
       "      <th id=\"T_cd8a5_level0_col1\" class=\"col_heading level0 col1\" >AOV_diff</th>\n",
       "      <th id=\"T_cd8a5_level0_col2\" class=\"col_heading level0 col2\" >RPV_diff</th>\n",
       "    </tr>\n",
       "  </thead>\n",
       "  <tbody>\n",
       "    <tr>\n",
       "      <th id=\"T_cd8a5_level0_row0\" class=\"row_heading level0 row0\" >test-control</th>\n",
       "      <td id=\"T_cd8a5_row0_col0\" class=\"data row0 col0\" >-0.450000</td>\n",
       "      <td id=\"T_cd8a5_row0_col1\" class=\"data row0 col1\" >324.290000</td>\n",
       "      <td id=\"T_cd8a5_row0_col2\" class=\"data row0 col2\" >1071.160000</td>\n",
       "    </tr>\n",
       "  </tbody>\n",
       "</table>\n"
      ],
      "text/plain": [
       "<pandas.io.formats.style.Styler at 0x20e8dd57460>"
      ]
     },
     "metadata": {},
     "output_type": "display_data"
    }
   ],
   "source": [
    "url_add = input('Введите ссылку на данные ')\n",
    "display(add_groups(url_add))\n",
    "display(get_diff(add_groups(url_add)))"
   ]
  },
  {
   "cell_type": "markdown",
   "id": "26adb84c",
   "metadata": {},
   "source": [
    "#### Задача 3.2"
   ]
  },
  {
   "cell_type": "markdown",
   "id": "f05b8a14",
   "metadata": {},
   "source": [
    "Реализуйте функцию, которая будет строить графики по получаемым метрикам."
   ]
  },
  {
   "cell_type": "code",
   "execution_count": 59,
   "id": "5dca2a06",
   "metadata": {},
   "outputs": [],
   "source": [
    "def graph_plot(metrics):\n",
    "    '''Функция для построения графиков'''\n",
    "    fig, ax = plt.subplots(1, 3, figsize=(20, 10)) \n",
    "    sns.set_style(\"whitegrid\")\n",
    "    sns.set_palette(\"pastel\")\n",
    "    cr = sns.barplot(ax=ax[0], x='grp', y='CR', data=metrics)\n",
    "    cr.set_title(\"Conversion Rate\", fontsize=14)\n",
    "    cr.set_ylabel(\"%\", fontsize=14)\n",
    "    aov = sns.barplot(ax=ax[1], x='grp', y='AOV', data=metrics)\n",
    "    aov.set_title(\"Average Order Value\", fontsize=14)\n",
    "    aov.set_ylabel(\"rub.\", fontsize=14)\n",
    "    rpv = sns.barplot(ax=ax[2], x='grp', y='RPV', data=metrics)\n",
    "    rpv.set_title(\"Revenue per Visitor\", fontsize=14)\n",
    "    rpv.set_ylabel(\"rub.\", fontsize=14)\n",
    "    for axis in ax.ravel():\n",
    "        axis.set_fontsize = 20\n",
    "        axis.spines['right'].set_visible(False)\n",
    "        axis.spines['top'].set_visible(False)\n",
    "        axis.set_xlabel('groups', fontsize=12)\n",
    "        axis.tick_params(axis='both', which='major', labelsize=14)\n",
    "\n",
    "    fig.suptitle('METRICS for A/B test', fontsize=20, fontweight='bold')\n",
    "    return fig.show"
   ]
  },
  {
   "cell_type": "code",
   "execution_count": 60,
   "id": "81cc27a3",
   "metadata": {},
   "outputs": [
    {
     "data": {
      "text/plain": [
       "<bound method Figure.show of <Figure size 1440x720 with 3 Axes>>"
      ]
     },
     "execution_count": 60,
     "metadata": {},
     "output_type": "execute_result"
    },
    {
     "data": {
      "image/png": "[encoded data removed]",
      "text/plain": [
       "<Figure size 1440x720 with 3 Axes>"
      ]
     },
     "metadata": {},
     "output_type": "display_data"
    }
   ],
   "source": [
    "graph_plot(add_groups(url_add))"
   ]
  },
  {
   "cell_type": "code",
   "execution_count": null,
   "id": "0253e1d1",
   "metadata": {},
   "outputs": [],
   "source": []
  }
 ],
 "metadata": {
  "kernelspec": {
   "display_name": "Python 3 (ipykernel)",
   "language": "python",
   "name": "python3"
  },
  "language_info": {
   "codemirror_mode": {
    "name": "ipython",
    "version": 3
   },
   "file_extension": ".py",
   "mimetype": "text/x-python",
   "name": "python",
   "nbconvert_exporter": "python",
   "pygments_lexer": "ipython3",
   "version": "3.9.12"
  }
 },
 "nbformat": 4,
 "nbformat_minor": 5
}
